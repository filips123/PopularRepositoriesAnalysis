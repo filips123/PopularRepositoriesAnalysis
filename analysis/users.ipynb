{
 "cells": [
  {
   "metadata": {
    "ExecuteTime": {
     "end_time": "2024-07-16T13:02:49.699503Z",
     "start_time": "2024-07-16T13:02:49.695749Z"
    }
   },
   "cell_type": "code",
   "source": [
    "import matplotlib.ticker as ticker\n",
    "import pandas as pd\n",
    "import seaborn as sns"
   ],
   "id": "d75035105641b975",
   "outputs": [],
   "execution_count": 1
  },
  {
   "metadata": {
    "ExecuteTime": {
     "end_time": "2024-07-16T13:02:50.182754Z",
     "start_time": "2024-07-16T13:02:50.178839Z"
    }
   },
   "cell_type": "code",
   "source": "sns.set_style(\"ticks\")",
   "id": "c3215248c70fc97a",
   "outputs": [],
   "execution_count": 2
  },
  {
   "metadata": {},
   "cell_type": "markdown",
   "source": "# Users Analysis",
   "id": "667461978bd614cc"
  },
  {
   "metadata": {},
   "cell_type": "markdown",
   "source": "This notebook contains analysis of popular GitHub users.",
   "id": "a582352752a52897"
  },
  {
   "metadata": {},
   "cell_type": "markdown",
   "source": [
    "The analysis is based on lists of top 5000 users by the number of followers.\n",
    "The data were obtained on 2024-07-14 using scripts in the repository."
   ],
   "id": "895cb780e478ed01"
  },
  {
   "metadata": {},
   "cell_type": "markdown",
   "source": "Note that we also have a list of top 5000 users by the number of their public repositories, but it is not correct due to a GitHub API bug, so it will not be used.",
   "id": "5b50316a67aab84"
  },
  {
   "metadata": {},
   "cell_type": "markdown",
   "source": "## Preparation",
   "id": "b70c995b8ed20390"
  },
  {
   "metadata": {},
   "cell_type": "markdown",
   "source": "First, we need to load a list of top 5000 users by followers.",
   "id": "993f6abac5001c4f"
  },
  {
   "metadata": {
    "ExecuteTime": {
     "end_time": "2024-07-16T13:02:50.296009Z",
     "start_time": "2024-07-16T13:02:50.204698Z"
    }
   },
   "cell_type": "code",
   "source": [
    "df = pd.read_json(\"../data/users-by-followers.json\")\n",
    "df.set_index(\"id\", inplace=True)"
   ],
   "id": "ba6924ac1ba85d2",
   "outputs": [],
   "execution_count": 3
  },
  {
   "metadata": {
    "ExecuteTime": {
     "end_time": "2024-07-16T13:02:50.320558Z",
     "start_time": "2024-07-16T13:02:50.297009Z"
    }
   },
   "cell_type": "code",
   "source": "df.sort_values(by=\"followers_count\", ascending=False)",
   "id": "4683653a6cfb6bb2",
   "outputs": [
    {
     "data": {
      "text/plain": [
       "                  type            username  \\\n",
       "id                                           \n",
       "1024025           User            torvalds   \n",
       "499550            User           yyx990803   \n",
       "810438            User             gaearon   \n",
       "8683378           User    gustavoguanabara   \n",
       "241138            User            karpathy   \n",
       "...                ...                 ...   \n",
       "46522448  Organization      Xinyuan-LilyGO   \n",
       "71647983          User         YeshwanthKM   \n",
       "48950             User           joewalnes   \n",
       "1020496           User  jorisvandenbossche   \n",
       "16890566          User         ramya-rao-a   \n",
       "\n",
       "                                            url                   name  \\\n",
       "id                                                                       \n",
       "1024025             https://github.com/torvalds         Linus Torvalds   \n",
       "499550             https://github.com/yyx990803               Evan You   \n",
       "810438               https://github.com/gaearon                    dan   \n",
       "8683378     https://github.com/gustavoguanabara      Gustavo Guanabara   \n",
       "241138              https://github.com/karpathy                 Andrej   \n",
       "...                                         ...                    ...   \n",
       "46522448      https://github.com/Xinyuan-LilyGO            LILYGO team   \n",
       "71647983         https://github.com/YeshwanthKM             Yesh Coder   \n",
       "48950              https://github.com/joewalnes             Joe Walnes   \n",
       "1020496   https://github.com/jorisvandenbossche  Joris Van den Bossche   \n",
       "16890566         https://github.com/ramya-rao-a              Ramya Rao   \n",
       "\n",
       "                                       homepage                      email  \\\n",
       "id                                                                           \n",
       "1024025                                    None                       None   \n",
       "499550                        http://evanyou.me                       None   \n",
       "810438                                     None      dan.abramov@gmail.com   \n",
       "8683378             http://www.cursoemvideo.com                       None   \n",
       "241138             https://twitter.com/karpathy  andrej.karpathy@gmail.com   \n",
       "...                                         ...                        ...   \n",
       "46522448                          www.lilygo.cc             lily@lilygo.cc   \n",
       "71647983         https://kmyeshwanth.whjr.site/                       None   \n",
       "48950             https://twitter.com/joewalnes             joe@walnes.com   \n",
       "1020496   https://jorisvandenbossche.github.io/                       None   \n",
       "16890566                                   None                       None   \n",
       "\n",
       "                          company                location  hireable  \\\n",
       "id                                                                    \n",
       "1024025          Linux Foundation            Portland, OR     False   \n",
       "499550                       None               Singapore     False   \n",
       "810438           @bluesky-social                     None     False   \n",
       "8683378            Curso em Vídeo  Rio de Janeiro, Brazil     False   \n",
       "241138                       None                Stanford     False   \n",
       "...                           ...                     ...       ...   \n",
       "46522448                     None                   China     False   \n",
       "71647983  yeshwanth2307@gmail.com                  Earth      False   \n",
       "48950                        None  San Francisco Bay Area     False   \n",
       "1020496                      None                    None     False   \n",
       "16890566                   Stripe                    None     False   \n",
       "\n",
       "                        created_at                updated_at  followers_count  \\\n",
       "id                                                                              \n",
       "1024025  2011-09-03 15:26:22+00:00 2023-11-12 20:08:30+00:00           211474   \n",
       "499550   2010-11-28 01:05:40+00:00 2024-07-08 02:37:34+00:00           100272   \n",
       "810438   2011-05-25 18:18:31+00:00 2024-07-05 19:12:22+00:00            87173   \n",
       "8683378  2014-09-07 03:56:50+00:00 2024-04-06 14:57:57+00:00            87126   \n",
       "241138   2010-04-10 17:55:32+00:00 2024-05-20 10:08:52+00:00            82228   \n",
       "...                            ...                       ...              ...   \n",
       "46522448 2019-01-09 10:03:45+00:00 2024-02-28 03:55:39+00:00             1296   \n",
       "71647983 2020-09-21 13:06:36+00:00 2024-03-18 12:43:22+00:00             1296   \n",
       "48950    2009-01-24 12:19:26+00:00 2024-06-10 22:14:46+00:00             1296   \n",
       "1020496  2011-09-01 21:15:49+00:00 2024-07-04 18:25:35+00:00             1296   \n",
       "16890566 2016-01-26 02:04:50+00:00 2022-03-04 02:19:57+00:00             1296   \n",
       "\n",
       "          following_count  public_repositories_count  public_gists_count  \n",
       "id                                                                        \n",
       "1024025                 0                          7                   0  \n",
       "499550                 95                        193                  73  \n",
       "810438                173                        270                  78  \n",
       "8683378                 3                          6                   0  \n",
       "241138                  8                         55                   9  \n",
       "...                   ...                        ...                 ...  \n",
       "46522448                0                        176                   0  \n",
       "71647983             5422                         50                   0  \n",
       "48950                  23                         90                  24  \n",
       "1020496                 6                        190                 166  \n",
       "16890566                0                         65                   9  \n",
       "\n",
       "[5000 rows x 15 columns]"
      ],
      "text/html": [
       "<div>\n",
       "<style scoped>\n",
       "    .dataframe tbody tr th:only-of-type {\n",
       "        vertical-align: middle;\n",
       "    }\n",
       "\n",
       "    .dataframe tbody tr th {\n",
       "        vertical-align: top;\n",
       "    }\n",
       "\n",
       "    .dataframe thead th {\n",
       "        text-align: right;\n",
       "    }\n",
       "</style>\n",
       "<table border=\"1\" class=\"dataframe\">\n",
       "  <thead>\n",
       "    <tr style=\"text-align: right;\">\n",
       "      <th></th>\n",
       "      <th>type</th>\n",
       "      <th>username</th>\n",
       "      <th>url</th>\n",
       "      <th>name</th>\n",
       "      <th>homepage</th>\n",
       "      <th>email</th>\n",
       "      <th>company</th>\n",
       "      <th>location</th>\n",
       "      <th>hireable</th>\n",
       "      <th>created_at</th>\n",
       "      <th>updated_at</th>\n",
       "      <th>followers_count</th>\n",
       "      <th>following_count</th>\n",
       "      <th>public_repositories_count</th>\n",
       "      <th>public_gists_count</th>\n",
       "    </tr>\n",
       "    <tr>\n",
       "      <th>id</th>\n",
       "      <th></th>\n",
       "      <th></th>\n",
       "      <th></th>\n",
       "      <th></th>\n",
       "      <th></th>\n",
       "      <th></th>\n",
       "      <th></th>\n",
       "      <th></th>\n",
       "      <th></th>\n",
       "      <th></th>\n",
       "      <th></th>\n",
       "      <th></th>\n",
       "      <th></th>\n",
       "      <th></th>\n",
       "      <th></th>\n",
       "    </tr>\n",
       "  </thead>\n",
       "  <tbody>\n",
       "    <tr>\n",
       "      <th>1024025</th>\n",
       "      <td>User</td>\n",
       "      <td>torvalds</td>\n",
       "      <td>https://github.com/torvalds</td>\n",
       "      <td>Linus Torvalds</td>\n",
       "      <td>None</td>\n",
       "      <td>None</td>\n",
       "      <td>Linux Foundation</td>\n",
       "      <td>Portland, OR</td>\n",
       "      <td>False</td>\n",
       "      <td>2011-09-03 15:26:22+00:00</td>\n",
       "      <td>2023-11-12 20:08:30+00:00</td>\n",
       "      <td>211474</td>\n",
       "      <td>0</td>\n",
       "      <td>7</td>\n",
       "      <td>0</td>\n",
       "    </tr>\n",
       "    <tr>\n",
       "      <th>499550</th>\n",
       "      <td>User</td>\n",
       "      <td>yyx990803</td>\n",
       "      <td>https://github.com/yyx990803</td>\n",
       "      <td>Evan You</td>\n",
       "      <td>http://evanyou.me</td>\n",
       "      <td>None</td>\n",
       "      <td>None</td>\n",
       "      <td>Singapore</td>\n",
       "      <td>False</td>\n",
       "      <td>2010-11-28 01:05:40+00:00</td>\n",
       "      <td>2024-07-08 02:37:34+00:00</td>\n",
       "      <td>100272</td>\n",
       "      <td>95</td>\n",
       "      <td>193</td>\n",
       "      <td>73</td>\n",
       "    </tr>\n",
       "    <tr>\n",
       "      <th>810438</th>\n",
       "      <td>User</td>\n",
       "      <td>gaearon</td>\n",
       "      <td>https://github.com/gaearon</td>\n",
       "      <td>dan</td>\n",
       "      <td>None</td>\n",
       "      <td>dan.abramov@gmail.com</td>\n",
       "      <td>@bluesky-social</td>\n",
       "      <td>None</td>\n",
       "      <td>False</td>\n",
       "      <td>2011-05-25 18:18:31+00:00</td>\n",
       "      <td>2024-07-05 19:12:22+00:00</td>\n",
       "      <td>87173</td>\n",
       "      <td>173</td>\n",
       "      <td>270</td>\n",
       "      <td>78</td>\n",
       "    </tr>\n",
       "    <tr>\n",
       "      <th>8683378</th>\n",
       "      <td>User</td>\n",
       "      <td>gustavoguanabara</td>\n",
       "      <td>https://github.com/gustavoguanabara</td>\n",
       "      <td>Gustavo Guanabara</td>\n",
       "      <td>http://www.cursoemvideo.com</td>\n",
       "      <td>None</td>\n",
       "      <td>Curso em Vídeo</td>\n",
       "      <td>Rio de Janeiro, Brazil</td>\n",
       "      <td>False</td>\n",
       "      <td>2014-09-07 03:56:50+00:00</td>\n",
       "      <td>2024-04-06 14:57:57+00:00</td>\n",
       "      <td>87126</td>\n",
       "      <td>3</td>\n",
       "      <td>6</td>\n",
       "      <td>0</td>\n",
       "    </tr>\n",
       "    <tr>\n",
       "      <th>241138</th>\n",
       "      <td>User</td>\n",
       "      <td>karpathy</td>\n",
       "      <td>https://github.com/karpathy</td>\n",
       "      <td>Andrej</td>\n",
       "      <td>https://twitter.com/karpathy</td>\n",
       "      <td>andrej.karpathy@gmail.com</td>\n",
       "      <td>None</td>\n",
       "      <td>Stanford</td>\n",
       "      <td>False</td>\n",
       "      <td>2010-04-10 17:55:32+00:00</td>\n",
       "      <td>2024-05-20 10:08:52+00:00</td>\n",
       "      <td>82228</td>\n",
       "      <td>8</td>\n",
       "      <td>55</td>\n",
       "      <td>9</td>\n",
       "    </tr>\n",
       "    <tr>\n",
       "      <th>...</th>\n",
       "      <td>...</td>\n",
       "      <td>...</td>\n",
       "      <td>...</td>\n",
       "      <td>...</td>\n",
       "      <td>...</td>\n",
       "      <td>...</td>\n",
       "      <td>...</td>\n",
       "      <td>...</td>\n",
       "      <td>...</td>\n",
       "      <td>...</td>\n",
       "      <td>...</td>\n",
       "      <td>...</td>\n",
       "      <td>...</td>\n",
       "      <td>...</td>\n",
       "      <td>...</td>\n",
       "    </tr>\n",
       "    <tr>\n",
       "      <th>46522448</th>\n",
       "      <td>Organization</td>\n",
       "      <td>Xinyuan-LilyGO</td>\n",
       "      <td>https://github.com/Xinyuan-LilyGO</td>\n",
       "      <td>LILYGO team</td>\n",
       "      <td>www.lilygo.cc</td>\n",
       "      <td>lily@lilygo.cc</td>\n",
       "      <td>None</td>\n",
       "      <td>China</td>\n",
       "      <td>False</td>\n",
       "      <td>2019-01-09 10:03:45+00:00</td>\n",
       "      <td>2024-02-28 03:55:39+00:00</td>\n",
       "      <td>1296</td>\n",
       "      <td>0</td>\n",
       "      <td>176</td>\n",
       "      <td>0</td>\n",
       "    </tr>\n",
       "    <tr>\n",
       "      <th>71647983</th>\n",
       "      <td>User</td>\n",
       "      <td>YeshwanthKM</td>\n",
       "      <td>https://github.com/YeshwanthKM</td>\n",
       "      <td>Yesh Coder</td>\n",
       "      <td>https://kmyeshwanth.whjr.site/</td>\n",
       "      <td>None</td>\n",
       "      <td>yeshwanth2307@gmail.com</td>\n",
       "      <td>Earth</td>\n",
       "      <td>False</td>\n",
       "      <td>2020-09-21 13:06:36+00:00</td>\n",
       "      <td>2024-03-18 12:43:22+00:00</td>\n",
       "      <td>1296</td>\n",
       "      <td>5422</td>\n",
       "      <td>50</td>\n",
       "      <td>0</td>\n",
       "    </tr>\n",
       "    <tr>\n",
       "      <th>48950</th>\n",
       "      <td>User</td>\n",
       "      <td>joewalnes</td>\n",
       "      <td>https://github.com/joewalnes</td>\n",
       "      <td>Joe Walnes</td>\n",
       "      <td>https://twitter.com/joewalnes</td>\n",
       "      <td>joe@walnes.com</td>\n",
       "      <td>None</td>\n",
       "      <td>San Francisco Bay Area</td>\n",
       "      <td>False</td>\n",
       "      <td>2009-01-24 12:19:26+00:00</td>\n",
       "      <td>2024-06-10 22:14:46+00:00</td>\n",
       "      <td>1296</td>\n",
       "      <td>23</td>\n",
       "      <td>90</td>\n",
       "      <td>24</td>\n",
       "    </tr>\n",
       "    <tr>\n",
       "      <th>1020496</th>\n",
       "      <td>User</td>\n",
       "      <td>jorisvandenbossche</td>\n",
       "      <td>https://github.com/jorisvandenbossche</td>\n",
       "      <td>Joris Van den Bossche</td>\n",
       "      <td>https://jorisvandenbossche.github.io/</td>\n",
       "      <td>None</td>\n",
       "      <td>None</td>\n",
       "      <td>None</td>\n",
       "      <td>False</td>\n",
       "      <td>2011-09-01 21:15:49+00:00</td>\n",
       "      <td>2024-07-04 18:25:35+00:00</td>\n",
       "      <td>1296</td>\n",
       "      <td>6</td>\n",
       "      <td>190</td>\n",
       "      <td>166</td>\n",
       "    </tr>\n",
       "    <tr>\n",
       "      <th>16890566</th>\n",
       "      <td>User</td>\n",
       "      <td>ramya-rao-a</td>\n",
       "      <td>https://github.com/ramya-rao-a</td>\n",
       "      <td>Ramya Rao</td>\n",
       "      <td>None</td>\n",
       "      <td>None</td>\n",
       "      <td>Stripe</td>\n",
       "      <td>None</td>\n",
       "      <td>False</td>\n",
       "      <td>2016-01-26 02:04:50+00:00</td>\n",
       "      <td>2022-03-04 02:19:57+00:00</td>\n",
       "      <td>1296</td>\n",
       "      <td>0</td>\n",
       "      <td>65</td>\n",
       "      <td>9</td>\n",
       "    </tr>\n",
       "  </tbody>\n",
       "</table>\n",
       "<p>5000 rows × 15 columns</p>\n",
       "</div>"
      ]
     },
     "execution_count": 4,
     "metadata": {},
     "output_type": "execute_result"
    }
   ],
   "execution_count": 4
  },
  {
   "metadata": {
    "ExecuteTime": {
     "end_time": "2024-07-16T13:02:50.329070Z",
     "start_time": "2024-07-16T13:02:50.322642Z"
    }
   },
   "cell_type": "code",
   "source": "df[\"type\"].value_counts()",
   "id": "54aca8493628a3d6",
   "outputs": [
    {
     "data": {
      "text/plain": [
       "type\n",
       "User            4316\n",
       "Organization     684\n",
       "Name: count, dtype: int64"
      ]
     },
     "execution_count": 5,
     "metadata": {},
     "output_type": "execute_result"
    }
   ],
   "execution_count": 5
  },
  {
   "metadata": {},
   "cell_type": "markdown",
   "source": "We can see that most of the popular accounts are individual users, while only around 700 are organizations.",
   "id": "bd40cddf1e7cbc54"
  },
  {
   "metadata": {},
   "cell_type": "markdown",
   "source": "## Numerical Properties",
   "id": "a7402374006c2a74"
  },
  {
   "metadata": {},
   "cell_type": "markdown",
   "source": "For a start, we will analyze some numerical properties that indicate the user's popularity and activity.",
   "id": "6dcd287e7398f6d8"
  },
  {
   "metadata": {},
   "cell_type": "markdown",
   "source": "### Number of Followers",
   "id": "c55cf788d83df676"
  },
  {
   "metadata": {},
   "cell_type": "markdown",
   "source": "#### All Accounts",
   "id": "ac1f46c87a493c64"
  },
  {
   "metadata": {
    "ExecuteTime": {
     "end_time": "2024-07-16T13:02:50.355748Z",
     "start_time": "2024-07-16T13:02:50.346031Z"
    }
   },
   "cell_type": "code",
   "source": "df[\"followers_count\"].describe()",
   "id": "b18d388f79f4b70e",
   "outputs": [
    {
     "data": {
      "text/plain": [
       "count      5000.000000\n",
       "mean       3786.023400\n",
       "std        6223.823847\n",
       "min        1296.000000\n",
       "25%        1628.000000\n",
       "50%        2202.000000\n",
       "75%        3665.500000\n",
       "max      211474.000000\n",
       "Name: followers_count, dtype: float64"
      ]
     },
     "execution_count": 6,
     "metadata": {},
     "output_type": "execute_result"
    }
   ],
   "execution_count": 6
  },
  {
   "metadata": {
    "ExecuteTime": {
     "end_time": "2024-07-16T13:02:50.947308Z",
     "start_time": "2024-07-16T13:02:50.404647Z"
    }
   },
   "cell_type": "code",
   "source": "df[\"followers_count\"].plot.hist(bins=50, logy=True, xlabel=\"Number of followers\", ylabel=\"Frequency (log)\")",
   "id": "2f0d5e0d27c5acf7",
   "outputs": [
    {
     "data": {
      "text/plain": [
       "<Axes: xlabel='Number of followers', ylabel='Frequency (log)'>"
      ]
     },
     "execution_count": 7,
     "metadata": {},
     "output_type": "execute_result"
    },
    {
     "data": {
      "text/plain": [
       "<Figure size 640x480 with 1 Axes>"
      ],
      "image/png": "[encoded data removed]"
     },
     "metadata": {},
     "output_type": "display_data"
    }
   ],
   "execution_count": 7
  },
  {
   "metadata": {
    "ExecuteTime": {
     "end_time": "2024-07-16T13:02:50.967656Z",
     "start_time": "2024-07-16T13:02:50.950314Z"
    }
   },
   "cell_type": "code",
   "source": [
    "display(df[df[\"followers_count\"] > 5_000].shape[0])\n",
    "display(df[df[\"followers_count\"] > 10_000].shape[0])\n",
    "display(df[df[\"followers_count\"] > 50_000].shape[0])\n",
    "display(df[df[\"followers_count\"] > 100_000].shape[0])"
   ],
   "id": "8fb5a29b45c2c2b8",
   "outputs": [
    {
     "data": {
      "text/plain": [
       "792"
      ]
     },
     "metadata": {},
     "output_type": "display_data"
    },
    {
     "data": {
      "text/plain": [
       "288"
      ]
     },
     "metadata": {},
     "output_type": "display_data"
    },
    {
     "data": {
      "text/plain": [
       "14"
      ]
     },
     "metadata": {},
     "output_type": "display_data"
    },
    {
     "data": {
      "text/plain": [
       "2"
      ]
     },
     "metadata": {},
     "output_type": "display_data"
    }
   ],
   "execution_count": 8
  },
  {
   "metadata": {},
   "cell_type": "markdown",
   "source": "Almost all accounts have less than 5000 followers, and only less than 800 accounts have more.",
   "id": "9e8a8d09f0fac1c7"
  },
  {
   "metadata": {},
   "cell_type": "markdown",
   "source": "#### User Accounts",
   "id": "379ffc5e4a569a82"
  },
  {
   "metadata": {
    "ExecuteTime": {
     "end_time": "2024-07-16T13:02:50.978382Z",
     "start_time": "2024-07-16T13:02:50.969631Z"
    }
   },
   "cell_type": "code",
   "source": "users = df[df[\"type\"] == \"User\"]",
   "id": "f67264da2a9e6b6c",
   "outputs": [],
   "execution_count": 9
  },
  {
   "metadata": {
    "ExecuteTime": {
     "end_time": "2024-07-16T13:02:50.992071Z",
     "start_time": "2024-07-16T13:02:50.981379Z"
    }
   },
   "cell_type": "code",
   "source": "users[\"followers_count\"].describe()",
   "id": "7e0093a3cd3cbdf8",
   "outputs": [
    {
     "data": {
      "text/plain": [
       "count      4316.000000\n",
       "mean       3781.380445\n",
       "std        6280.506841\n",
       "min        1296.000000\n",
       "25%        1631.000000\n",
       "50%        2203.000000\n",
       "75%        3659.500000\n",
       "max      211474.000000\n",
       "Name: followers_count, dtype: float64"
      ]
     },
     "execution_count": 10,
     "metadata": {},
     "output_type": "execute_result"
    }
   ],
   "execution_count": 10
  },
  {
   "metadata": {
    "ExecuteTime": {
     "end_time": "2024-07-16T13:02:51.438887Z",
     "start_time": "2024-07-16T13:02:50.993072Z"
    }
   },
   "cell_type": "code",
   "source": "users[\"followers_count\"].plot.hist(bins=50, logy=True, xlabel=\"Number of followers\", ylabel=\"Frequency (log)\")",
   "id": "43a5642836626ddc",
   "outputs": [
    {
     "data": {
      "text/plain": [
       "<Axes: xlabel='Number of followers', ylabel='Frequency (log)'>"
      ]
     },
     "execution_count": 11,
     "metadata": {},
     "output_type": "execute_result"
    },
    {
     "data": {
      "text/plain": [
       "<Figure size 640x480 with 1 Axes>"
      ],
      "image/png": "[encoded data removed]"
     },
     "metadata": {},
     "output_type": "display_data"
    }
   ],
   "execution_count": 11
  },
  {
   "metadata": {
    "ExecuteTime": {
     "end_time": "2024-07-16T13:02:51.459128Z",
     "start_time": "2024-07-16T13:02:51.439886Z"
    }
   },
   "cell_type": "code",
   "source": "users.sort_values(by=\"followers_count\", ascending=False).head()",
   "id": "9fcdf05a0cd0093c",
   "outputs": [
    {
     "data": {
      "text/plain": [
       "         type          username                                  url  \\\n",
       "id                                                                     \n",
       "1024025  User          torvalds          https://github.com/torvalds   \n",
       "499550   User         yyx990803         https://github.com/yyx990803   \n",
       "810438   User           gaearon           https://github.com/gaearon   \n",
       "8683378  User  gustavoguanabara  https://github.com/gustavoguanabara   \n",
       "241138   User          karpathy          https://github.com/karpathy   \n",
       "\n",
       "                      name                      homepage  \\\n",
       "id                                                         \n",
       "1024025     Linus Torvalds                          None   \n",
       "499550            Evan You             http://evanyou.me   \n",
       "810438                 dan                          None   \n",
       "8683378  Gustavo Guanabara   http://www.cursoemvideo.com   \n",
       "241138              Andrej  https://twitter.com/karpathy   \n",
       "\n",
       "                             email           company                location  \\\n",
       "id                                                                             \n",
       "1024025                       None  Linux Foundation            Portland, OR   \n",
       "499550                        None              None               Singapore   \n",
       "810438       dan.abramov@gmail.com  @bluesky-social                     None   \n",
       "8683378                       None    Curso em Vídeo  Rio de Janeiro, Brazil   \n",
       "241138   andrej.karpathy@gmail.com              None                Stanford   \n",
       "\n",
       "         hireable                created_at                updated_at  \\\n",
       "id                                                                      \n",
       "1024025     False 2011-09-03 15:26:22+00:00 2023-11-12 20:08:30+00:00   \n",
       "499550      False 2010-11-28 01:05:40+00:00 2024-07-08 02:37:34+00:00   \n",
       "810438      False 2011-05-25 18:18:31+00:00 2024-07-05 19:12:22+00:00   \n",
       "8683378     False 2014-09-07 03:56:50+00:00 2024-04-06 14:57:57+00:00   \n",
       "241138      False 2010-04-10 17:55:32+00:00 2024-05-20 10:08:52+00:00   \n",
       "\n",
       "         followers_count  following_count  public_repositories_count  \\\n",
       "id                                                                     \n",
       "1024025           211474                0                          7   \n",
       "499550            100272               95                        193   \n",
       "810438             87173              173                        270   \n",
       "8683378            87126                3                          6   \n",
       "241138             82228                8                         55   \n",
       "\n",
       "         public_gists_count  \n",
       "id                           \n",
       "1024025                   0  \n",
       "499550                   73  \n",
       "810438                   78  \n",
       "8683378                   0  \n",
       "241138                    9  "
      ],
      "text/html": [
       "<div>\n",
       "<style scoped>\n",
       "    .dataframe tbody tr th:only-of-type {\n",
       "        vertical-align: middle;\n",
       "    }\n",
       "\n",
       "    .dataframe tbody tr th {\n",
       "        vertical-align: top;\n",
       "    }\n",
       "\n",
       "    .dataframe thead th {\n",
       "        text-align: right;\n",
       "    }\n",
       "</style>\n",
       "<table border=\"1\" class=\"dataframe\">\n",
       "  <thead>\n",
       "    <tr style=\"text-align: right;\">\n",
       "      <th></th>\n",
       "      <th>type</th>\n",
       "      <th>username</th>\n",
       "      <th>url</th>\n",
       "      <th>name</th>\n",
       "      <th>homepage</th>\n",
       "      <th>email</th>\n",
       "      <th>company</th>\n",
       "      <th>location</th>\n",
       "      <th>hireable</th>\n",
       "      <th>created_at</th>\n",
       "      <th>updated_at</th>\n",
       "      <th>followers_count</th>\n",
       "      <th>following_count</th>\n",
       "      <th>public_repositories_count</th>\n",
       "      <th>public_gists_count</th>\n",
       "    </tr>\n",
       "    <tr>\n",
       "      <th>id</th>\n",
       "      <th></th>\n",
       "      <th></th>\n",
       "      <th></th>\n",
       "      <th></th>\n",
       "      <th></th>\n",
       "      <th></th>\n",
       "      <th></th>\n",
       "      <th></th>\n",
       "      <th></th>\n",
       "      <th></th>\n",
       "      <th></th>\n",
       "      <th></th>\n",
       "      <th></th>\n",
       "      <th></th>\n",
       "      <th></th>\n",
       "    </tr>\n",
       "  </thead>\n",
       "  <tbody>\n",
       "    <tr>\n",
       "      <th>1024025</th>\n",
       "      <td>User</td>\n",
       "      <td>torvalds</td>\n",
       "      <td>https://github.com/torvalds</td>\n",
       "      <td>Linus Torvalds</td>\n",
       "      <td>None</td>\n",
       "      <td>None</td>\n",
       "      <td>Linux Foundation</td>\n",
       "      <td>Portland, OR</td>\n",
       "      <td>False</td>\n",
       "      <td>2011-09-03 15:26:22+00:00</td>\n",
       "      <td>2023-11-12 20:08:30+00:00</td>\n",
       "      <td>211474</td>\n",
       "      <td>0</td>\n",
       "      <td>7</td>\n",
       "      <td>0</td>\n",
       "    </tr>\n",
       "    <tr>\n",
       "      <th>499550</th>\n",
       "      <td>User</td>\n",
       "      <td>yyx990803</td>\n",
       "      <td>https://github.com/yyx990803</td>\n",
       "      <td>Evan You</td>\n",
       "      <td>http://evanyou.me</td>\n",
       "      <td>None</td>\n",
       "      <td>None</td>\n",
       "      <td>Singapore</td>\n",
       "      <td>False</td>\n",
       "      <td>2010-11-28 01:05:40+00:00</td>\n",
       "      <td>2024-07-08 02:37:34+00:00</td>\n",
       "      <td>100272</td>\n",
       "      <td>95</td>\n",
       "      <td>193</td>\n",
       "      <td>73</td>\n",
       "    </tr>\n",
       "    <tr>\n",
       "      <th>810438</th>\n",
       "      <td>User</td>\n",
       "      <td>gaearon</td>\n",
       "      <td>https://github.com/gaearon</td>\n",
       "      <td>dan</td>\n",
       "      <td>None</td>\n",
       "      <td>dan.abramov@gmail.com</td>\n",
       "      <td>@bluesky-social</td>\n",
       "      <td>None</td>\n",
       "      <td>False</td>\n",
       "      <td>2011-05-25 18:18:31+00:00</td>\n",
       "      <td>2024-07-05 19:12:22+00:00</td>\n",
       "      <td>87173</td>\n",
       "      <td>173</td>\n",
       "      <td>270</td>\n",
       "      <td>78</td>\n",
       "    </tr>\n",
       "    <tr>\n",
       "      <th>8683378</th>\n",
       "      <td>User</td>\n",
       "      <td>gustavoguanabara</td>\n",
       "      <td>https://github.com/gustavoguanabara</td>\n",
       "      <td>Gustavo Guanabara</td>\n",
       "      <td>http://www.cursoemvideo.com</td>\n",
       "      <td>None</td>\n",
       "      <td>Curso em Vídeo</td>\n",
       "      <td>Rio de Janeiro, Brazil</td>\n",
       "      <td>False</td>\n",
       "      <td>2014-09-07 03:56:50+00:00</td>\n",
       "      <td>2024-04-06 14:57:57+00:00</td>\n",
       "      <td>87126</td>\n",
       "      <td>3</td>\n",
       "      <td>6</td>\n",
       "      <td>0</td>\n",
       "    </tr>\n",
       "    <tr>\n",
       "      <th>241138</th>\n",
       "      <td>User</td>\n",
       "      <td>karpathy</td>\n",
       "      <td>https://github.com/karpathy</td>\n",
       "      <td>Andrej</td>\n",
       "      <td>https://twitter.com/karpathy</td>\n",
       "      <td>andrej.karpathy@gmail.com</td>\n",
       "      <td>None</td>\n",
       "      <td>Stanford</td>\n",
       "      <td>False</td>\n",
       "      <td>2010-04-10 17:55:32+00:00</td>\n",
       "      <td>2024-05-20 10:08:52+00:00</td>\n",
       "      <td>82228</td>\n",
       "      <td>8</td>\n",
       "      <td>55</td>\n",
       "      <td>9</td>\n",
       "    </tr>\n",
       "  </tbody>\n",
       "</table>\n",
       "</div>"
      ]
     },
     "execution_count": 12,
     "metadata": {},
     "output_type": "execute_result"
    }
   ],
   "execution_count": 12
  },
  {
   "metadata": {},
   "cell_type": "markdown",
   "source": [
    "There are only two users (and accounts overall) with 100.000 followers.\n",
    "That are Linus Torvalds and Evan You, both very popular and known open source developers."
   ],
   "id": "c0428f51b8dc3797"
  },
  {
   "metadata": {},
   "cell_type": "markdown",
   "source": "#### Organization Accounts",
   "id": "c9a406ed3821d836"
  },
  {
   "metadata": {
    "ExecuteTime": {
     "end_time": "2024-07-16T13:02:51.469837Z",
     "start_time": "2024-07-16T13:02:51.460123Z"
    }
   },
   "cell_type": "code",
   "source": "organizations = df[df[\"type\"] == \"Organization\"]",
   "id": "9c437cf2f383f9c7",
   "outputs": [],
   "execution_count": 13
  },
  {
   "metadata": {
    "ExecuteTime": {
     "end_time": "2024-07-16T13:02:51.481322Z",
     "start_time": "2024-07-16T13:02:51.471342Z"
    }
   },
   "cell_type": "code",
   "source": "organizations[\"followers_count\"].describe()",
   "id": "de713ef7c839cc58",
   "outputs": [
    {
     "data": {
      "text/plain": [
       "count      684.000000\n",
       "mean      3815.320175\n",
       "std       5857.799322\n",
       "min       1296.000000\n",
       "25%       1607.000000\n",
       "50%       2191.500000\n",
       "75%       3711.750000\n",
       "max      81928.000000\n",
       "Name: followers_count, dtype: float64"
      ]
     },
     "execution_count": 14,
     "metadata": {},
     "output_type": "execute_result"
    }
   ],
   "execution_count": 14
  },
  {
   "metadata": {
    "ExecuteTime": {
     "end_time": "2024-07-16T13:02:51.895782Z",
     "start_time": "2024-07-16T13:02:51.483319Z"
    }
   },
   "cell_type": "code",
   "source": "organizations[\"followers_count\"].plot.hist(bins=50, logy=True, xlabel=\"Number of followers\", ylabel=\"Frequency (log)\")",
   "id": "18471c9023ca22fc",
   "outputs": [
    {
     "data": {
      "text/plain": [
       "<Axes: xlabel='Number of followers', ylabel='Frequency (log)'>"
      ]
     },
     "execution_count": 15,
     "metadata": {},
     "output_type": "execute_result"
    },
    {
     "data": {
      "text/plain": [
       "<Figure size 640x480 with 1 Axes>"
      ],
      "image/png": "[encoded data removed]"
     },
     "metadata": {},
     "output_type": "display_data"
    }
   ],
   "execution_count": 15
  },
  {
   "metadata": {
    "ExecuteTime": {
     "end_time": "2024-07-16T13:02:51.913526Z",
     "start_time": "2024-07-16T13:02:51.897774Z"
    }
   },
   "cell_type": "code",
   "source": "organizations.sort_values(by=\"followers_count\", ascending=False).head()",
   "id": "d93973ebbeed7996",
   "outputs": [
    {
     "data": {
      "text/plain": [
       "                  type       username                               url  \\\n",
       "id                                                                        \n",
       "14957082  Organization         openai         https://github.com/openai   \n",
       "6154722   Organization      microsoft      https://github.com/microsoft   \n",
       "1342004   Organization         google         https://github.com/google   \n",
       "9919      Organization         github         https://github.com/github   \n",
       "20487725  Organization  TheAlgorithms  https://github.com/TheAlgorithms   \n",
       "\n",
       "                    name                          homepage  \\\n",
       "id                                                           \n",
       "14957082          OpenAI               https://openai.com/   \n",
       "6154722        Microsoft  https://opensource.microsoft.com   \n",
       "1342004           Google        https://opensource.google/   \n",
       "9919              GitHub          https://github.com/about   \n",
       "20487725  The Algorithms       https://the-algorithms.com/   \n",
       "\n",
       "                             email company                  location  \\\n",
       "id                                                                     \n",
       "14957082                      None    None                      None   \n",
       "6154722   opensource@microsoft.com    None               Redmond, WA   \n",
       "1342004      opensource@google.com    None  United States of America   \n",
       "9919                          None    None         San Francisco, CA   \n",
       "20487725  hello@the-algorithms.com    None                     India   \n",
       "\n",
       "          hireable                created_at                updated_at  \\\n",
       "id                                                                       \n",
       "14957082     False 2015-10-03 19:34:05+00:00 2024-06-26 16:58:47+00:00   \n",
       "6154722      False 2013-12-10 19:06:48+00:00 2024-02-09 18:50:14+00:00   \n",
       "1342004      False 2012-01-18 01:30:18+00:00 2024-04-19 18:36:13+00:00   \n",
       "9919         False 2008-05-11 04:37:31+00:00 2022-11-29 19:44:55+00:00   \n",
       "20487725     False 2016-07-16 08:17:02+00:00 2021-05-08 06:44:32+00:00   \n",
       "\n",
       "          followers_count  following_count  public_repositories_count  \\\n",
       "id                                                                      \n",
       "14957082            81928                0                        169   \n",
       "6154722             71498                0                       6271   \n",
       "1342004             42910                0                       2660   \n",
       "9919                40604                0                        496   \n",
       "20487725            37811                0                         48   \n",
       "\n",
       "          public_gists_count  \n",
       "id                            \n",
       "14957082                   0  \n",
       "6154722                    0  \n",
       "1342004                    0  \n",
       "9919                       0  \n",
       "20487725                   0  "
      ],
      "text/html": [
       "<div>\n",
       "<style scoped>\n",
       "    .dataframe tbody tr th:only-of-type {\n",
       "        vertical-align: middle;\n",
       "    }\n",
       "\n",
       "    .dataframe tbody tr th {\n",
       "        vertical-align: top;\n",
       "    }\n",
       "\n",
       "    .dataframe thead th {\n",
       "        text-align: right;\n",
       "    }\n",
       "</style>\n",
       "<table border=\"1\" class=\"dataframe\">\n",
       "  <thead>\n",
       "    <tr style=\"text-align: right;\">\n",
       "      <th></th>\n",
       "      <th>type</th>\n",
       "      <th>username</th>\n",
       "      <th>url</th>\n",
       "      <th>name</th>\n",
       "      <th>homepage</th>\n",
       "      <th>email</th>\n",
       "      <th>company</th>\n",
       "      <th>location</th>\n",
       "      <th>hireable</th>\n",
       "      <th>created_at</th>\n",
       "      <th>updated_at</th>\n",
       "      <th>followers_count</th>\n",
       "      <th>following_count</th>\n",
       "      <th>public_repositories_count</th>\n",
       "      <th>public_gists_count</th>\n",
       "    </tr>\n",
       "    <tr>\n",
       "      <th>id</th>\n",
       "      <th></th>\n",
       "      <th></th>\n",
       "      <th></th>\n",
       "      <th></th>\n",
       "      <th></th>\n",
       "      <th></th>\n",
       "      <th></th>\n",
       "      <th></th>\n",
       "      <th></th>\n",
       "      <th></th>\n",
       "      <th></th>\n",
       "      <th></th>\n",
       "      <th></th>\n",
       "      <th></th>\n",
       "      <th></th>\n",
       "    </tr>\n",
       "  </thead>\n",
       "  <tbody>\n",
       "    <tr>\n",
       "      <th>14957082</th>\n",
       "      <td>Organization</td>\n",
       "      <td>openai</td>\n",
       "      <td>https://github.com/openai</td>\n",
       "      <td>OpenAI</td>\n",
       "      <td>https://openai.com/</td>\n",
       "      <td>None</td>\n",
       "      <td>None</td>\n",
       "      <td>None</td>\n",
       "      <td>False</td>\n",
       "      <td>2015-10-03 19:34:05+00:00</td>\n",
       "      <td>2024-06-26 16:58:47+00:00</td>\n",
       "      <td>81928</td>\n",
       "      <td>0</td>\n",
       "      <td>169</td>\n",
       "      <td>0</td>\n",
       "    </tr>\n",
       "    <tr>\n",
       "      <th>6154722</th>\n",
       "      <td>Organization</td>\n",
       "      <td>microsoft</td>\n",
       "      <td>https://github.com/microsoft</td>\n",
       "      <td>Microsoft</td>\n",
       "      <td>https://opensource.microsoft.com</td>\n",
       "      <td>opensource@microsoft.com</td>\n",
       "      <td>None</td>\n",
       "      <td>Redmond, WA</td>\n",
       "      <td>False</td>\n",
       "      <td>2013-12-10 19:06:48+00:00</td>\n",
       "      <td>2024-02-09 18:50:14+00:00</td>\n",
       "      <td>71498</td>\n",
       "      <td>0</td>\n",
       "      <td>6271</td>\n",
       "      <td>0</td>\n",
       "    </tr>\n",
       "    <tr>\n",
       "      <th>1342004</th>\n",
       "      <td>Organization</td>\n",
       "      <td>google</td>\n",
       "      <td>https://github.com/google</td>\n",
       "      <td>Google</td>\n",
       "      <td>https://opensource.google/</td>\n",
       "      <td>opensource@google.com</td>\n",
       "      <td>None</td>\n",
       "      <td>United States of America</td>\n",
       "      <td>False</td>\n",
       "      <td>2012-01-18 01:30:18+00:00</td>\n",
       "      <td>2024-04-19 18:36:13+00:00</td>\n",
       "      <td>42910</td>\n",
       "      <td>0</td>\n",
       "      <td>2660</td>\n",
       "      <td>0</td>\n",
       "    </tr>\n",
       "    <tr>\n",
       "      <th>9919</th>\n",
       "      <td>Organization</td>\n",
       "      <td>github</td>\n",
       "      <td>https://github.com/github</td>\n",
       "      <td>GitHub</td>\n",
       "      <td>https://github.com/about</td>\n",
       "      <td>None</td>\n",
       "      <td>None</td>\n",
       "      <td>San Francisco, CA</td>\n",
       "      <td>False</td>\n",
       "      <td>2008-05-11 04:37:31+00:00</td>\n",
       "      <td>2022-11-29 19:44:55+00:00</td>\n",
       "      <td>40604</td>\n",
       "      <td>0</td>\n",
       "      <td>496</td>\n",
       "      <td>0</td>\n",
       "    </tr>\n",
       "    <tr>\n",
       "      <th>20487725</th>\n",
       "      <td>Organization</td>\n",
       "      <td>TheAlgorithms</td>\n",
       "      <td>https://github.com/TheAlgorithms</td>\n",
       "      <td>The Algorithms</td>\n",
       "      <td>https://the-algorithms.com/</td>\n",
       "      <td>hello@the-algorithms.com</td>\n",
       "      <td>None</td>\n",
       "      <td>India</td>\n",
       "      <td>False</td>\n",
       "      <td>2016-07-16 08:17:02+00:00</td>\n",
       "      <td>2021-05-08 06:44:32+00:00</td>\n",
       "      <td>37811</td>\n",
       "      <td>0</td>\n",
       "      <td>48</td>\n",
       "      <td>0</td>\n",
       "    </tr>\n",
       "  </tbody>\n",
       "</table>\n",
       "</div>"
      ]
     },
     "execution_count": 16,
     "metadata": {},
     "output_type": "execute_result"
    }
   ],
   "execution_count": 16
  },
  {
   "metadata": {},
   "cell_type": "markdown",
   "source": [
    "We can see that there are fewer organizations with many followers than individual users.\n",
    "The most popular organization is OpenAI with over 80.000 followers, followed by Microsoft with more than 70.000.\n",
    "The third most popular organization is Google with around 43.000 followers, followed closely by GitHub with around 40.000."
   ],
   "id": "eff3fbdbb2a4a806"
  },
  {
   "metadata": {},
   "cell_type": "markdown",
   "source": "### Number of Following",
   "id": "51936482f25dcc8a"
  },
  {
   "metadata": {
    "ExecuteTime": {
     "end_time": "2024-07-16T13:02:51.922913Z",
     "start_time": "2024-07-16T13:02:51.914521Z"
    }
   },
   "cell_type": "code",
   "source": "users[\"following_count\"].describe()",
   "id": "bb999a9d3a5ee0f0",
   "outputs": [
    {
     "data": {
      "text/plain": [
       "count      4316.000000\n",
       "mean       1314.667285\n",
       "std       11847.406372\n",
       "min           0.000000\n",
       "25%           2.000000\n",
       "50%          18.000000\n",
       "75%          82.000000\n",
       "max      368381.000000\n",
       "Name: following_count, dtype: float64"
      ]
     },
     "execution_count": 17,
     "metadata": {},
     "output_type": "execute_result"
    }
   ],
   "execution_count": 17
  },
  {
   "metadata": {
    "ExecuteTime": {
     "end_time": "2024-07-16T13:02:52.281473Z",
     "start_time": "2024-07-16T13:02:51.923909Z"
    }
   },
   "cell_type": "code",
   "source": "users[\"following_count\"].plot.hist(bins=50, logy=True, xlabel=\"Number of following\", ylabel=\"Frequency (log)\")",
   "id": "219023d3e796937b",
   "outputs": [
    {
     "data": {
      "text/plain": [
       "<Axes: xlabel='Number of following', ylabel='Frequency (log)'>"
      ]
     },
     "execution_count": 18,
     "metadata": {},
     "output_type": "execute_result"
    },
    {
     "data": {
      "text/plain": [
       "<Figure size 640x480 with 1 Axes>"
      ],
      "image/png": "[encoded data removed]"
     },
     "metadata": {},
     "output_type": "display_data"
    }
   ],
   "execution_count": 18
  },
  {
   "metadata": {
    "ExecuteTime": {
     "end_time": "2024-07-16T13:02:52.291460Z",
     "start_time": "2024-07-16T13:02:52.282473Z"
    }
   },
   "cell_type": "code",
   "source": [
    "display(users[users[\"following_count\"] > 100].shape[0])\n",
    "display(users[users[\"following_count\"] > 500].shape[0])"
   ],
   "id": "1ad60357b3e1d001",
   "outputs": [
    {
     "data": {
      "text/plain": [
       "955"
      ]
     },
     "metadata": {},
     "output_type": "display_data"
    },
    {
     "data": {
      "text/plain": [
       "355"
      ]
     },
     "metadata": {},
     "output_type": "display_data"
    }
   ],
   "execution_count": 19
  },
  {
   "metadata": {},
   "cell_type": "markdown",
   "source": [
    "Here, we perform analysis only on individual users, as organizations cannot follow anyone.\n",
    "We can see that over half of users follow less than 20 accounts, and less than 1000 users follow more than 100.\n",
    "However, it should be noted that we only collected users based on their number of followers, so it is possible that there are other users that follow more."
   ],
   "id": "80d69e7092318877"
  },
  {
   "metadata": {},
   "cell_type": "markdown",
   "source": "### Number of Public Repositories",
   "id": "12290e0975c52b76"
  },
  {
   "metadata": {},
   "cell_type": "markdown",
   "source": "#### All Accounts",
   "id": "9b5c7afc0a06e70e"
  },
  {
   "metadata": {
    "ExecuteTime": {
     "end_time": "2024-07-16T13:02:52.299251Z",
     "start_time": "2024-07-16T13:02:52.292454Z"
    }
   },
   "cell_type": "code",
   "source": "df[\"public_repositories_count\"].describe()",
   "id": "932bcf993e44f0cd",
   "outputs": [
    {
     "data": {
      "text/plain": [
       "count     5000.000000\n",
       "mean       152.449200\n",
       "std        754.894627\n",
       "min          0.000000\n",
       "25%         28.000000\n",
       "50%         66.000000\n",
       "75%        143.000000\n",
       "max      31444.000000\n",
       "Name: public_repositories_count, dtype: float64"
      ]
     },
     "execution_count": 20,
     "metadata": {},
     "output_type": "execute_result"
    }
   ],
   "execution_count": 20
  },
  {
   "metadata": {
    "ExecuteTime": {
     "end_time": "2024-07-16T13:02:52.741089Z",
     "start_time": "2024-07-16T13:02:52.300246Z"
    }
   },
   "cell_type": "code",
   "source": "df[\"public_repositories_count\"].plot.hist(bins=50, logy=True, xlabel=\"Number of public repositories\", ylabel=\"Frequency (log)\")",
   "id": "c1d853d7f944c02a",
   "outputs": [
    {
     "data": {
      "text/plain": [
       "<Axes: xlabel='Number of public repositories', ylabel='Frequency (log)'>"
      ]
     },
     "execution_count": 21,
     "metadata": {},
     "output_type": "execute_result"
    },
    {
     "data": {
      "text/plain": [
       "<Figure size 640x480 with 1 Axes>"
      ],
      "image/png": "[encoded data removed]"
     },
     "metadata": {},
     "output_type": "display_data"
    }
   ],
   "execution_count": 21
  },
  {
   "metadata": {},
   "cell_type": "markdown",
   "source": [
    "Almost all accounts have less than 150 public repositories.\n",
    "However, the accounts were not collected based on the number of their repositories, so there may exist accounts with more. "
   ],
   "id": "2622d208cf0a1bb"
  },
  {
   "metadata": {},
   "cell_type": "markdown",
   "source": "#### User Accounts",
   "id": "ad8b2d6e91ecc6f4"
  },
  {
   "metadata": {
    "ExecuteTime": {
     "end_time": "2024-07-16T13:02:52.750064Z",
     "start_time": "2024-07-16T13:02:52.742085Z"
    }
   },
   "cell_type": "code",
   "source": "users[\"public_repositories_count\"].describe()",
   "id": "fa985de98d1e97dd",
   "outputs": [
    {
     "data": {
      "text/plain": [
       "count     4316.000000\n",
       "mean       130.236098\n",
       "std        441.752615\n",
       "min          0.000000\n",
       "25%         29.000000\n",
       "50%         67.000000\n",
       "75%        141.000000\n",
       "max      18626.000000\n",
       "Name: public_repositories_count, dtype: float64"
      ]
     },
     "execution_count": 22,
     "metadata": {},
     "output_type": "execute_result"
    }
   ],
   "execution_count": 22
  },
  {
   "metadata": {
    "ExecuteTime": {
     "end_time": "2024-07-16T13:02:53.097775Z",
     "start_time": "2024-07-16T13:02:52.752058Z"
    }
   },
   "cell_type": "code",
   "source": "users[\"public_repositories_count\"].plot.hist(bins=50, logy=True, xlabel=\"Number of public repositories\", ylabel=\"Frequency (log)\")",
   "id": "c26f939ecc9e73c6",
   "outputs": [
    {
     "data": {
      "text/plain": [
       "<Axes: xlabel='Number of public repositories', ylabel='Frequency (log)'>"
      ]
     },
     "execution_count": 23,
     "metadata": {},
     "output_type": "execute_result"
    },
    {
     "data": {
      "text/plain": [
       "<Figure size 640x480 with 1 Axes>"
      ],
      "image/png": "[encoded data removed]"
     },
     "metadata": {},
     "output_type": "display_data"
    }
   ],
   "execution_count": 23
  },
  {
   "metadata": {
    "ExecuteTime": {
     "end_time": "2024-07-16T13:02:53.121777Z",
     "start_time": "2024-07-16T13:02:53.100772Z"
    }
   },
   "cell_type": "code",
   "source": "users.sort_values(by=\"public_repositories_count\", ascending=False).head()",
   "id": "89f46b0e447f974",
   "outputs": [
    {
     "data": {
      "text/plain": [
       "          type          username                                  url  \\\n",
       "id                                                                      \n",
       "43516554  User  standardgalactic  https://github.com/standardgalactic   \n",
       "73543858  User             00mjk             https://github.com/00mjk   \n",
       "25180681  User      renovate-bot      https://github.com/renovate-bot   \n",
       "309424    User           killvxk           https://github.com/killvxk   \n",
       "443562    User       vim-scripts       https://github.com/vim-scripts   \n",
       "\n",
       "                     name                                           homepage  \\\n",
       "id                                                                             \n",
       "43516554  Cogito Ergo Sum                                               None   \n",
       "73543858             None  https://m.youtube.com/channel/UCuWi5pi1B92l1Vg...   \n",
       "25180681    Mend Renovate  https://www.mend.io/free-developer-tools/renov...   \n",
       "309424               None                                               None   \n",
       "443562    Scrappy Scraper                     https://vim-scraper.github.io/   \n",
       "\n",
       "                                     email company location  hireable  \\\n",
       "id                                                                      \n",
       "43516554   standardgalactic@protonmail.com  Xanadu   Canada     False   \n",
       "73543858                              None    None     None     False   \n",
       "25180681  renovate@whitesourcesoftware.com   @mend     None     False   \n",
       "309424                                None    None     USSR     False   \n",
       "443562                                None    None     None     False   \n",
       "\n",
       "                        created_at                updated_at  followers_count  \\\n",
       "id                                                                              \n",
       "43516554 2018-09-23 12:40:35+00:00 2024-07-07 17:35:15+00:00             1378   \n",
       "73543858 2020-10-27 15:11:31+00:00 2023-08-07 21:34:52+00:00             1628   \n",
       "25180681 2017-01-17 16:55:44+00:00 2023-09-13 16:51:11+00:00             1548   \n",
       "309424   2010-06-19 13:47:37+00:00 2024-03-15 08:38:54+00:00             1414   \n",
       "443562   2010-10-18 07:02:53+00:00 2020-03-23 17:26:41+00:00             4587   \n",
       "\n",
       "          following_count  public_repositories_count  public_gists_count  \n",
       "id                                                                        \n",
       "43516554            37427                      18626                 110  \n",
       "73543858            18519                      12106                  93  \n",
       "25180681                0                      11105                   0  \n",
       "309424               7203                       6454                  86  \n",
       "443562                  0                       5208                   0  "
      ],
      "text/html": [
       "<div>\n",
       "<style scoped>\n",
       "    .dataframe tbody tr th:only-of-type {\n",
       "        vertical-align: middle;\n",
       "    }\n",
       "\n",
       "    .dataframe tbody tr th {\n",
       "        vertical-align: top;\n",
       "    }\n",
       "\n",
       "    .dataframe thead th {\n",
       "        text-align: right;\n",
       "    }\n",
       "</style>\n",
       "<table border=\"1\" class=\"dataframe\">\n",
       "  <thead>\n",
       "    <tr style=\"text-align: right;\">\n",
       "      <th></th>\n",
       "      <th>type</th>\n",
       "      <th>username</th>\n",
       "      <th>url</th>\n",
       "      <th>name</th>\n",
       "      <th>homepage</th>\n",
       "      <th>email</th>\n",
       "      <th>company</th>\n",
       "      <th>location</th>\n",
       "      <th>hireable</th>\n",
       "      <th>created_at</th>\n",
       "      <th>updated_at</th>\n",
       "      <th>followers_count</th>\n",
       "      <th>following_count</th>\n",
       "      <th>public_repositories_count</th>\n",
       "      <th>public_gists_count</th>\n",
       "    </tr>\n",
       "    <tr>\n",
       "      <th>id</th>\n",
       "      <th></th>\n",
       "      <th></th>\n",
       "      <th></th>\n",
       "      <th></th>\n",
       "      <th></th>\n",
       "      <th></th>\n",
       "      <th></th>\n",
       "      <th></th>\n",
       "      <th></th>\n",
       "      <th></th>\n",
       "      <th></th>\n",
       "      <th></th>\n",
       "      <th></th>\n",
       "      <th></th>\n",
       "      <th></th>\n",
       "    </tr>\n",
       "  </thead>\n",
       "  <tbody>\n",
       "    <tr>\n",
       "      <th>43516554</th>\n",
       "      <td>User</td>\n",
       "      <td>standardgalactic</td>\n",
       "      <td>https://github.com/standardgalactic</td>\n",
       "      <td>Cogito Ergo Sum</td>\n",
       "      <td>None</td>\n",
       "      <td>standardgalactic@protonmail.com</td>\n",
       "      <td>Xanadu</td>\n",
       "      <td>Canada</td>\n",
       "      <td>False</td>\n",
       "      <td>2018-09-23 12:40:35+00:00</td>\n",
       "      <td>2024-07-07 17:35:15+00:00</td>\n",
       "      <td>1378</td>\n",
       "      <td>37427</td>\n",
       "      <td>18626</td>\n",
       "      <td>110</td>\n",
       "    </tr>\n",
       "    <tr>\n",
       "      <th>73543858</th>\n",
       "      <td>User</td>\n",
       "      <td>00mjk</td>\n",
       "      <td>https://github.com/00mjk</td>\n",
       "      <td>None</td>\n",
       "      <td>https://m.youtube.com/channel/UCuWi5pi1B92l1Vg...</td>\n",
       "      <td>None</td>\n",
       "      <td>None</td>\n",
       "      <td>None</td>\n",
       "      <td>False</td>\n",
       "      <td>2020-10-27 15:11:31+00:00</td>\n",
       "      <td>2023-08-07 21:34:52+00:00</td>\n",
       "      <td>1628</td>\n",
       "      <td>18519</td>\n",
       "      <td>12106</td>\n",
       "      <td>93</td>\n",
       "    </tr>\n",
       "    <tr>\n",
       "      <th>25180681</th>\n",
       "      <td>User</td>\n",
       "      <td>renovate-bot</td>\n",
       "      <td>https://github.com/renovate-bot</td>\n",
       "      <td>Mend Renovate</td>\n",
       "      <td>https://www.mend.io/free-developer-tools/renov...</td>\n",
       "      <td>renovate@whitesourcesoftware.com</td>\n",
       "      <td>@mend</td>\n",
       "      <td>None</td>\n",
       "      <td>False</td>\n",
       "      <td>2017-01-17 16:55:44+00:00</td>\n",
       "      <td>2023-09-13 16:51:11+00:00</td>\n",
       "      <td>1548</td>\n",
       "      <td>0</td>\n",
       "      <td>11105</td>\n",
       "      <td>0</td>\n",
       "    </tr>\n",
       "    <tr>\n",
       "      <th>309424</th>\n",
       "      <td>User</td>\n",
       "      <td>killvxk</td>\n",
       "      <td>https://github.com/killvxk</td>\n",
       "      <td>None</td>\n",
       "      <td>None</td>\n",
       "      <td>None</td>\n",
       "      <td>None</td>\n",
       "      <td>USSR</td>\n",
       "      <td>False</td>\n",
       "      <td>2010-06-19 13:47:37+00:00</td>\n",
       "      <td>2024-03-15 08:38:54+00:00</td>\n",
       "      <td>1414</td>\n",
       "      <td>7203</td>\n",
       "      <td>6454</td>\n",
       "      <td>86</td>\n",
       "    </tr>\n",
       "    <tr>\n",
       "      <th>443562</th>\n",
       "      <td>User</td>\n",
       "      <td>vim-scripts</td>\n",
       "      <td>https://github.com/vim-scripts</td>\n",
       "      <td>Scrappy Scraper</td>\n",
       "      <td>https://vim-scraper.github.io/</td>\n",
       "      <td>None</td>\n",
       "      <td>None</td>\n",
       "      <td>None</td>\n",
       "      <td>False</td>\n",
       "      <td>2010-10-18 07:02:53+00:00</td>\n",
       "      <td>2020-03-23 17:26:41+00:00</td>\n",
       "      <td>4587</td>\n",
       "      <td>0</td>\n",
       "      <td>5208</td>\n",
       "      <td>0</td>\n",
       "    </tr>\n",
       "  </tbody>\n",
       "</table>\n",
       "</div>"
      ]
     },
     "execution_count": 24,
     "metadata": {},
     "output_type": "execute_result"
    }
   ],
   "execution_count": 24
  },
  {
   "metadata": {},
   "cell_type": "markdown",
   "source": [
    "Of the popular users, Cogito Ergo Sum has the most public repositories with over 18.000 repositories, almost all of which are forks.\n",
    "This is also the case for many other accounts, except vim-scripts, which provides a GitHub mirror for some Vim scripts and has more than 5000 source repositories."
   ],
   "id": "f04288284ed4daae"
  },
  {
   "metadata": {},
   "cell_type": "markdown",
   "source": "### Organization Accounts",
   "id": "d89907fd667589b3"
  },
  {
   "metadata": {
    "ExecuteTime": {
     "end_time": "2024-07-16T13:02:53.131364Z",
     "start_time": "2024-07-16T13:02:53.122778Z"
    }
   },
   "cell_type": "code",
   "source": "organizations[\"public_repositories_count\"].describe()",
   "id": "5dca4d51571906b6",
   "outputs": [
    {
     "data": {
      "text/plain": [
       "count      684.000000\n",
       "mean       292.612573\n",
       "std       1707.420727\n",
       "min          0.000000\n",
       "25%         24.000000\n",
       "50%         64.000000\n",
       "75%        159.500000\n",
       "max      31444.000000\n",
       "Name: public_repositories_count, dtype: float64"
      ]
     },
     "execution_count": 25,
     "metadata": {},
     "output_type": "execute_result"
    }
   ],
   "execution_count": 25
  },
  {
   "metadata": {
    "ExecuteTime": {
     "end_time": "2024-07-16T13:02:53.430617Z",
     "start_time": "2024-07-16T13:02:53.132367Z"
    }
   },
   "cell_type": "code",
   "source": "organizations[\"public_repositories_count\"].plot.hist(bins=50, logy=True, xlabel=\"Number of public repositories\", ylabel=\"Frequency (log)\")",
   "id": "bd6478541b01d438",
   "outputs": [
    {
     "data": {
      "text/plain": [
       "<Axes: xlabel='Number of public repositories', ylabel='Frequency (log)'>"
      ]
     },
     "execution_count": 26,
     "metadata": {},
     "output_type": "execute_result"
    },
    {
     "data": {
      "text/plain": [
       "<Figure size 640x480 with 1 Axes>"
      ],
      "image/png": "[encoded data removed]"
     },
     "metadata": {},
     "output_type": "display_data"
    }
   ],
   "execution_count": 26
  },
  {
   "metadata": {
    "ExecuteTime": {
     "end_time": "2024-07-16T13:02:53.447383Z",
     "start_time": "2024-07-16T13:02:53.431168Z"
    }
   },
   "cell_type": "code",
   "source": "organizations.sort_values(by=\"public_repositories_count\", ascending=False).head()",
   "id": "11f4710753a37d46",
   "outputs": [
    {
     "data": {
      "text/plain": [
       "                  type          username                                  url  \\\n",
       "id                                                                              \n",
       "16607406  Organization     4GeeksAcademy     https://github.com/4GeeksAcademy   \n",
       "6323616   Organization  londonappbrewery  https://github.com/londonappbrewery   \n",
       "10974906  Organization   PacktPublishing   https://github.com/PacktPublishing   \n",
       "6154722   Organization         microsoft         https://github.com/microsoft   \n",
       "8931462   Organization       aws-samples       https://github.com/aws-samples   \n",
       "\n",
       "                        name                          homepage  \\\n",
       "id                                                               \n",
       "16607406      4Geeks Academy      http://www.4geeksacademy.com   \n",
       "6323616   London App Brewery         https://www.appbrewery.co   \n",
       "10974906               Packt          https://www.packtpub.com   \n",
       "6154722            Microsoft  https://opensource.microsoft.com   \n",
       "8931462          AWS Samples            https://amazon.com/aws   \n",
       "\n",
       "                              email company  \\\n",
       "id                                            \n",
       "16607406     info@4geeksacademy.com    None   \n",
       "6323616   info@londonappbrewery.com    None   \n",
       "10974906                       None    None   \n",
       "6154722    opensource@microsoft.com    None   \n",
       "8931462                        None    None   \n",
       "\n",
       "                                                   location  hireable  \\\n",
       "id                                                                      \n",
       "16607406  Online, Madrid, Miami, Santiago de Chile and C...     False   \n",
       "6323616                                              London     False   \n",
       "10974906                                     Birmingham, UK     False   \n",
       "6154722                                         Redmond, WA     False   \n",
       "8931462                                                None     False   \n",
       "\n",
       "                        created_at                updated_at  followers_count  \\\n",
       "id                                                                              \n",
       "16607406 2016-01-08 09:16:02+00:00 2023-11-01 14:42:44+00:00             1787   \n",
       "6323616  2014-01-05 15:37:11+00:00 2020-01-26 00:53:50+00:00             3192   \n",
       "10974906 2015-02-12 10:36:37+00:00 2022-11-10 12:04:42+00:00            12047   \n",
       "6154722  2013-12-10 19:06:48+00:00 2024-02-09 18:50:14+00:00            71498   \n",
       "8931462  2014-09-26 17:29:50+00:00 2023-05-10 20:47:04+00:00            11259   \n",
       "\n",
       "          following_count  public_repositories_count  public_gists_count  \n",
       "id                                                                        \n",
       "16607406                0                      31444                   0  \n",
       "6323616                 0                      28182                   0  \n",
       "10974906                0                       8563                   0  \n",
       "6154722                 0                       6271                   0  \n",
       "8931462                 0                       6208                   0  "
      ],
      "text/html": [
       "<div>\n",
       "<style scoped>\n",
       "    .dataframe tbody tr th:only-of-type {\n",
       "        vertical-align: middle;\n",
       "    }\n",
       "\n",
       "    .dataframe tbody tr th {\n",
       "        vertical-align: top;\n",
       "    }\n",
       "\n",
       "    .dataframe thead th {\n",
       "        text-align: right;\n",
       "    }\n",
       "</style>\n",
       "<table border=\"1\" class=\"dataframe\">\n",
       "  <thead>\n",
       "    <tr style=\"text-align: right;\">\n",
       "      <th></th>\n",
       "      <th>type</th>\n",
       "      <th>username</th>\n",
       "      <th>url</th>\n",
       "      <th>name</th>\n",
       "      <th>homepage</th>\n",
       "      <th>email</th>\n",
       "      <th>company</th>\n",
       "      <th>location</th>\n",
       "      <th>hireable</th>\n",
       "      <th>created_at</th>\n",
       "      <th>updated_at</th>\n",
       "      <th>followers_count</th>\n",
       "      <th>following_count</th>\n",
       "      <th>public_repositories_count</th>\n",
       "      <th>public_gists_count</th>\n",
       "    </tr>\n",
       "    <tr>\n",
       "      <th>id</th>\n",
       "      <th></th>\n",
       "      <th></th>\n",
       "      <th></th>\n",
       "      <th></th>\n",
       "      <th></th>\n",
       "      <th></th>\n",
       "      <th></th>\n",
       "      <th></th>\n",
       "      <th></th>\n",
       "      <th></th>\n",
       "      <th></th>\n",
       "      <th></th>\n",
       "      <th></th>\n",
       "      <th></th>\n",
       "      <th></th>\n",
       "    </tr>\n",
       "  </thead>\n",
       "  <tbody>\n",
       "    <tr>\n",
       "      <th>16607406</th>\n",
       "      <td>Organization</td>\n",
       "      <td>4GeeksAcademy</td>\n",
       "      <td>https://github.com/4GeeksAcademy</td>\n",
       "      <td>4Geeks Academy</td>\n",
       "      <td>http://www.4geeksacademy.com</td>\n",
       "      <td>info@4geeksacademy.com</td>\n",
       "      <td>None</td>\n",
       "      <td>Online, Madrid, Miami, Santiago de Chile and C...</td>\n",
       "      <td>False</td>\n",
       "      <td>2016-01-08 09:16:02+00:00</td>\n",
       "      <td>2023-11-01 14:42:44+00:00</td>\n",
       "      <td>1787</td>\n",
       "      <td>0</td>\n",
       "      <td>31444</td>\n",
       "      <td>0</td>\n",
       "    </tr>\n",
       "    <tr>\n",
       "      <th>6323616</th>\n",
       "      <td>Organization</td>\n",
       "      <td>londonappbrewery</td>\n",
       "      <td>https://github.com/londonappbrewery</td>\n",
       "      <td>London App Brewery</td>\n",
       "      <td>https://www.appbrewery.co</td>\n",
       "      <td>info@londonappbrewery.com</td>\n",
       "      <td>None</td>\n",
       "      <td>London</td>\n",
       "      <td>False</td>\n",
       "      <td>2014-01-05 15:37:11+00:00</td>\n",
       "      <td>2020-01-26 00:53:50+00:00</td>\n",
       "      <td>3192</td>\n",
       "      <td>0</td>\n",
       "      <td>28182</td>\n",
       "      <td>0</td>\n",
       "    </tr>\n",
       "    <tr>\n",
       "      <th>10974906</th>\n",
       "      <td>Organization</td>\n",
       "      <td>PacktPublishing</td>\n",
       "      <td>https://github.com/PacktPublishing</td>\n",
       "      <td>Packt</td>\n",
       "      <td>https://www.packtpub.com</td>\n",
       "      <td>None</td>\n",
       "      <td>None</td>\n",
       "      <td>Birmingham, UK</td>\n",
       "      <td>False</td>\n",
       "      <td>2015-02-12 10:36:37+00:00</td>\n",
       "      <td>2022-11-10 12:04:42+00:00</td>\n",
       "      <td>12047</td>\n",
       "      <td>0</td>\n",
       "      <td>8563</td>\n",
       "      <td>0</td>\n",
       "    </tr>\n",
       "    <tr>\n",
       "      <th>6154722</th>\n",
       "      <td>Organization</td>\n",
       "      <td>microsoft</td>\n",
       "      <td>https://github.com/microsoft</td>\n",
       "      <td>Microsoft</td>\n",
       "      <td>https://opensource.microsoft.com</td>\n",
       "      <td>opensource@microsoft.com</td>\n",
       "      <td>None</td>\n",
       "      <td>Redmond, WA</td>\n",
       "      <td>False</td>\n",
       "      <td>2013-12-10 19:06:48+00:00</td>\n",
       "      <td>2024-02-09 18:50:14+00:00</td>\n",
       "      <td>71498</td>\n",
       "      <td>0</td>\n",
       "      <td>6271</td>\n",
       "      <td>0</td>\n",
       "    </tr>\n",
       "    <tr>\n",
       "      <th>8931462</th>\n",
       "      <td>Organization</td>\n",
       "      <td>aws-samples</td>\n",
       "      <td>https://github.com/aws-samples</td>\n",
       "      <td>AWS Samples</td>\n",
       "      <td>https://amazon.com/aws</td>\n",
       "      <td>None</td>\n",
       "      <td>None</td>\n",
       "      <td>None</td>\n",
       "      <td>False</td>\n",
       "      <td>2014-09-26 17:29:50+00:00</td>\n",
       "      <td>2023-05-10 20:47:04+00:00</td>\n",
       "      <td>11259</td>\n",
       "      <td>0</td>\n",
       "      <td>6208</td>\n",
       "      <td>0</td>\n",
       "    </tr>\n",
       "  </tbody>\n",
       "</table>\n",
       "</div>"
      ]
     },
     "execution_count": 27,
     "metadata": {},
     "output_type": "execute_result"
    }
   ],
   "execution_count": 27
  },
  {
   "metadata": {},
   "cell_type": "markdown",
   "source": [
    "On our list, 4Geeks Academy has the most public repositories, almost all of which are source repositories.\n",
    "This is also the case for London App Brewery, which is again the platform for learning programming.\n",
    "Out of popular companies, Microsoft has the most public repositories, with over 6000."
   ],
   "id": "e8eed4b6335383ff"
  },
  {
   "metadata": {},
   "cell_type": "markdown",
   "source": "### Number of Public Gists",
   "id": "b0bfa19c57e6e636"
  },
  {
   "metadata": {},
   "cell_type": "markdown",
   "source": "#### All Accounts",
   "id": "440683fe2903235b"
  },
  {
   "metadata": {
    "ExecuteTime": {
     "end_time": "2024-07-16T13:02:53.456960Z",
     "start_time": "2024-07-16T13:02:53.448378Z"
    }
   },
   "cell_type": "code",
   "source": "df[\"public_gists_count\"].describe()",
   "id": "c5dbe89550a097b0",
   "outputs": [
    {
     "data": {
      "text/plain": [
       "count    5000.00000\n",
       "mean       34.32520\n",
       "std       112.84488\n",
       "min         0.00000\n",
       "25%         0.00000\n",
       "50%         4.00000\n",
       "75%        28.00000\n",
       "max      3112.00000\n",
       "Name: public_gists_count, dtype: float64"
      ]
     },
     "execution_count": 28,
     "metadata": {},
     "output_type": "execute_result"
    }
   ],
   "execution_count": 28
  },
  {
   "metadata": {
    "ExecuteTime": {
     "end_time": "2024-07-16T13:02:53.771360Z",
     "start_time": "2024-07-16T13:02:53.457960Z"
    }
   },
   "cell_type": "code",
   "source": "df[\"public_gists_count\"].plot.hist(bins=50, logy=True, xlabel=\"Number of public gists\", ylabel=\"Frequency (log)\")",
   "id": "2aef0ff4ebf6cc1d",
   "outputs": [
    {
     "data": {
      "text/plain": [
       "<Axes: xlabel='Number of public gists', ylabel='Frequency (log)'>"
      ]
     },
     "execution_count": 29,
     "metadata": {},
     "output_type": "execute_result"
    },
    {
     "data": {
      "text/plain": [
       "<Figure size 640x480 with 1 Axes>"
      ],
      "image/png": "[encoded data removed]"
     },
     "metadata": {},
     "output_type": "display_data"
    }
   ],
   "execution_count": 29
  },
  {
   "metadata": {},
   "cell_type": "markdown",
   "source": [
    "Almost all accounts have less than 30 public gists.\n",
    "However, the accounts were not collected based on the number of their gists, so there may exist accounts with more. "
   ],
   "id": "efd82c8c9dd494a4"
  },
  {
   "metadata": {},
   "cell_type": "markdown",
   "source": "#### User Accounts",
   "id": "773988e4d2310bed"
  },
  {
   "metadata": {
    "ExecuteTime": {
     "end_time": "2024-07-16T13:02:53.782156Z",
     "start_time": "2024-07-16T13:02:53.773357Z"
    }
   },
   "cell_type": "code",
   "source": "users[\"public_gists_count\"].describe()",
   "id": "f34000c671a05a7b",
   "outputs": [
    {
     "data": {
      "text/plain": [
       "count    4316.000000\n",
       "mean       39.751622\n",
       "std       120.569990\n",
       "min         0.000000\n",
       "25%         0.000000\n",
       "50%         7.000000\n",
       "75%        34.000000\n",
       "max      3112.000000\n",
       "Name: public_gists_count, dtype: float64"
      ]
     },
     "execution_count": 30,
     "metadata": {},
     "output_type": "execute_result"
    }
   ],
   "execution_count": 30
  },
  {
   "metadata": {
    "ExecuteTime": {
     "end_time": "2024-07-16T13:02:54.161556Z",
     "start_time": "2024-07-16T13:02:53.785151Z"
    }
   },
   "cell_type": "code",
   "source": "users[\"public_gists_count\"].plot.hist(bins=50, logy=True, xlabel=\"Number of public gists\", ylabel=\"Frequency (log)\")",
   "id": "11323617e068e11a",
   "outputs": [
    {
     "data": {
      "text/plain": [
       "<Axes: xlabel='Number of public gists', ylabel='Frequency (log)'>"
      ]
     },
     "execution_count": 31,
     "metadata": {},
     "output_type": "execute_result"
    },
    {
     "data": {
      "text/plain": [
       "<Figure size 640x480 with 1 Axes>"
      ],
      "image/png": "[encoded data removed]"
     },
     "metadata": {},
     "output_type": "display_data"
    }
   ],
   "execution_count": 31
  },
  {
   "metadata": {
    "ExecuteTime": {
     "end_time": "2024-07-16T13:02:54.179413Z",
     "start_time": "2024-07-16T13:02:54.162556Z"
    }
   },
   "cell_type": "code",
   "source": "users.sort_values(by=\"public_gists_count\", ascending=False).head()",
   "id": "4c50210229fb9585",
   "outputs": [
    {
     "data": {
      "text/plain": [
       "         type      username                              url           name  \\\n",
       "id                                                                            \n",
       "563690   User      bennadel      https://github.com/bennadel      Ben Nadel   \n",
       "10111    User         mattn         https://github.com/mattn          mattn   \n",
       "32314    User          tmcw          https://github.com/tmcw  Tom MacWright   \n",
       "2041322  User       hanxiao       https://github.com/hanxiao       Han Xiao   \n",
       "6745730  User  NetanelBasal  https://github.com/NetanelBasal  Netanel Basal   \n",
       "\n",
       "                           homepage               email          company  \\\n",
       "id                                                                         \n",
       "563690     https://www.bennadel.com                None  Kinky Solutions   \n",
       "10111    https://mattn.kaoriya.net/  mattn.jp@gmail.com             None   \n",
       "32314        https://macwright.com/                None        @val-town   \n",
       "2041322                     jina.ai    han.xiao@jina.ai         @jina-ai   \n",
       "6745730    https://www.netbasal.com                None             None   \n",
       "\n",
       "                  location  hireable                created_at  \\\n",
       "id                                                               \n",
       "563690       Rhinebeck, NY     False 2011-01-13 23:19:16+00:00   \n",
       "10111         Osaka, Japan     False 2008-05-13 01:17:13+00:00   \n",
       "32314    brooklyn new york     False 2008-11-02 23:44:49+00:00   \n",
       "2041322    Berlin, Germany     False 2012-07-25 15:52:49+00:00   \n",
       "6745730             Israel     False 2014-02-21 07:56:17+00:00   \n",
       "\n",
       "                       updated_at  followers_count  following_count  \\\n",
       "id                                                                    \n",
       "563690  2024-07-10 18:34:16+00:00             2152                0   \n",
       "10111   2024-06-08 08:35:59+00:00            12058             1703   \n",
       "32314   2024-07-12 20:53:31+00:00             3435              223   \n",
       "2041322 2024-07-07 11:20:27+00:00             3791               36   \n",
       "6745730 2024-06-24 11:25:57+00:00             1571                0   \n",
       "\n",
       "         public_repositories_count  public_gists_count  \n",
       "id                                                      \n",
       "563690                         132                3112  \n",
       "10111                         1994                1936  \n",
       "32314                          302                1806  \n",
       "2041322                        106                1769  \n",
       "6745730                        189                1750  "
      ],
      "text/html": [
       "<div>\n",
       "<style scoped>\n",
       "    .dataframe tbody tr th:only-of-type {\n",
       "        vertical-align: middle;\n",
       "    }\n",
       "\n",
       "    .dataframe tbody tr th {\n",
       "        vertical-align: top;\n",
       "    }\n",
       "\n",
       "    .dataframe thead th {\n",
       "        text-align: right;\n",
       "    }\n",
       "</style>\n",
       "<table border=\"1\" class=\"dataframe\">\n",
       "  <thead>\n",
       "    <tr style=\"text-align: right;\">\n",
       "      <th></th>\n",
       "      <th>type</th>\n",
       "      <th>username</th>\n",
       "      <th>url</th>\n",
       "      <th>name</th>\n",
       "      <th>homepage</th>\n",
       "      <th>email</th>\n",
       "      <th>company</th>\n",
       "      <th>location</th>\n",
       "      <th>hireable</th>\n",
       "      <th>created_at</th>\n",
       "      <th>updated_at</th>\n",
       "      <th>followers_count</th>\n",
       "      <th>following_count</th>\n",
       "      <th>public_repositories_count</th>\n",
       "      <th>public_gists_count</th>\n",
       "    </tr>\n",
       "    <tr>\n",
       "      <th>id</th>\n",
       "      <th></th>\n",
       "      <th></th>\n",
       "      <th></th>\n",
       "      <th></th>\n",
       "      <th></th>\n",
       "      <th></th>\n",
       "      <th></th>\n",
       "      <th></th>\n",
       "      <th></th>\n",
       "      <th></th>\n",
       "      <th></th>\n",
       "      <th></th>\n",
       "      <th></th>\n",
       "      <th></th>\n",
       "      <th></th>\n",
       "    </tr>\n",
       "  </thead>\n",
       "  <tbody>\n",
       "    <tr>\n",
       "      <th>563690</th>\n",
       "      <td>User</td>\n",
       "      <td>bennadel</td>\n",
       "      <td>https://github.com/bennadel</td>\n",
       "      <td>Ben Nadel</td>\n",
       "      <td>https://www.bennadel.com</td>\n",
       "      <td>None</td>\n",
       "      <td>Kinky Solutions</td>\n",
       "      <td>Rhinebeck, NY</td>\n",
       "      <td>False</td>\n",
       "      <td>2011-01-13 23:19:16+00:00</td>\n",
       "      <td>2024-07-10 18:34:16+00:00</td>\n",
       "      <td>2152</td>\n",
       "      <td>0</td>\n",
       "      <td>132</td>\n",
       "      <td>3112</td>\n",
       "    </tr>\n",
       "    <tr>\n",
       "      <th>10111</th>\n",
       "      <td>User</td>\n",
       "      <td>mattn</td>\n",
       "      <td>https://github.com/mattn</td>\n",
       "      <td>mattn</td>\n",
       "      <td>https://mattn.kaoriya.net/</td>\n",
       "      <td>mattn.jp@gmail.com</td>\n",
       "      <td>None</td>\n",
       "      <td>Osaka, Japan</td>\n",
       "      <td>False</td>\n",
       "      <td>2008-05-13 01:17:13+00:00</td>\n",
       "      <td>2024-06-08 08:35:59+00:00</td>\n",
       "      <td>12058</td>\n",
       "      <td>1703</td>\n",
       "      <td>1994</td>\n",
       "      <td>1936</td>\n",
       "    </tr>\n",
       "    <tr>\n",
       "      <th>32314</th>\n",
       "      <td>User</td>\n",
       "      <td>tmcw</td>\n",
       "      <td>https://github.com/tmcw</td>\n",
       "      <td>Tom MacWright</td>\n",
       "      <td>https://macwright.com/</td>\n",
       "      <td>None</td>\n",
       "      <td>@val-town</td>\n",
       "      <td>brooklyn new york</td>\n",
       "      <td>False</td>\n",
       "      <td>2008-11-02 23:44:49+00:00</td>\n",
       "      <td>2024-07-12 20:53:31+00:00</td>\n",
       "      <td>3435</td>\n",
       "      <td>223</td>\n",
       "      <td>302</td>\n",
       "      <td>1806</td>\n",
       "    </tr>\n",
       "    <tr>\n",
       "      <th>2041322</th>\n",
       "      <td>User</td>\n",
       "      <td>hanxiao</td>\n",
       "      <td>https://github.com/hanxiao</td>\n",
       "      <td>Han Xiao</td>\n",
       "      <td>jina.ai</td>\n",
       "      <td>han.xiao@jina.ai</td>\n",
       "      <td>@jina-ai</td>\n",
       "      <td>Berlin, Germany</td>\n",
       "      <td>False</td>\n",
       "      <td>2012-07-25 15:52:49+00:00</td>\n",
       "      <td>2024-07-07 11:20:27+00:00</td>\n",
       "      <td>3791</td>\n",
       "      <td>36</td>\n",
       "      <td>106</td>\n",
       "      <td>1769</td>\n",
       "    </tr>\n",
       "    <tr>\n",
       "      <th>6745730</th>\n",
       "      <td>User</td>\n",
       "      <td>NetanelBasal</td>\n",
       "      <td>https://github.com/NetanelBasal</td>\n",
       "      <td>Netanel Basal</td>\n",
       "      <td>https://www.netbasal.com</td>\n",
       "      <td>None</td>\n",
       "      <td>None</td>\n",
       "      <td>Israel</td>\n",
       "      <td>False</td>\n",
       "      <td>2014-02-21 07:56:17+00:00</td>\n",
       "      <td>2024-06-24 11:25:57+00:00</td>\n",
       "      <td>1571</td>\n",
       "      <td>0</td>\n",
       "      <td>189</td>\n",
       "      <td>1750</td>\n",
       "    </tr>\n",
       "  </tbody>\n",
       "</table>\n",
       "</div>"
      ]
     },
     "execution_count": 32,
     "metadata": {},
     "output_type": "execute_result"
    }
   ],
   "execution_count": 32
  },
  {
   "metadata": {},
   "cell_type": "markdown",
   "source": "Most of the accounts with gists are users.",
   "id": "78cac30e160a707b"
  },
  {
   "metadata": {},
   "cell_type": "markdown",
   "source": "#### Organization Accounts",
   "id": "f61645986fc5f27c"
  },
  {
   "metadata": {
    "ExecuteTime": {
     "end_time": "2024-07-16T13:02:54.192328Z",
     "start_time": "2024-07-16T13:02:54.181410Z"
    }
   },
   "cell_type": "code",
   "source": "organizations[\"public_gists_count\"].describe()",
   "id": "c896b2235137b2ba",
   "outputs": [
    {
     "data": {
      "text/plain": [
       "count    684.000000\n",
       "mean       0.084795\n",
       "std        0.768221\n",
       "min        0.000000\n",
       "25%        0.000000\n",
       "50%        0.000000\n",
       "75%        0.000000\n",
       "max       12.000000\n",
       "Name: public_gists_count, dtype: float64"
      ]
     },
     "execution_count": 33,
     "metadata": {},
     "output_type": "execute_result"
    }
   ],
   "execution_count": 33
  },
  {
   "metadata": {
    "ExecuteTime": {
     "end_time": "2024-07-16T13:02:54.589033Z",
     "start_time": "2024-07-16T13:02:54.193328Z"
    }
   },
   "cell_type": "code",
   "source": "organizations[\"public_gists_count\"].plot.hist(bins=12, logy=True, xlabel=\"Number of public gists\", ylabel=\"Frequency (log)\")",
   "id": "82740027b96ef8b",
   "outputs": [
    {
     "data": {
      "text/plain": [
       "<Axes: xlabel='Number of public gists', ylabel='Frequency (log)'>"
      ]
     },
     "execution_count": 34,
     "metadata": {},
     "output_type": "execute_result"
    },
    {
     "data": {
      "text/plain": [
       "<Figure size 640x480 with 1 Axes>"
      ],
      "image/png": "[encoded data removed]"
     },
     "metadata": {},
     "output_type": "display_data"
    }
   ],
   "execution_count": 34
  },
  {
   "metadata": {
    "ExecuteTime": {
     "end_time": "2024-07-16T13:02:54.605401Z",
     "start_time": "2024-07-16T13:02:54.590034Z"
    }
   },
   "cell_type": "code",
   "source": "organizations.sort_values(by=\"public_gists_count\", ascending=False).head()",
   "id": "9c191a46d2d87214",
   "outputs": [
    {
     "data": {
      "text/plain": [
       "                 type      username                              url  \\\n",
       "id                                                                     \n",
       "69631    Organization      facebook      https://github.com/facebook   \n",
       "8085     Organization       Shopify       https://github.com/Shopify   \n",
       "5470001  Organization       lewagon       https://github.com/lewagon   \n",
       "9892522  Organization  freeCodeCamp  https://github.com/freeCodeCamp   \n",
       "82592    Organization        square        https://github.com/square   \n",
       "\n",
       "                     name                      homepage  \\\n",
       "id                                                        \n",
       "69631                Meta     https://opensource.fb.com   \n",
       "8085              Shopify  https://shopify.engineering/   \n",
       "5470001          Le Wagon       https://www.lewagon.com   \n",
       "9892522  freeCodeCamp.org      https://freecodecamp.org   \n",
       "82592              Square      https://square.github.io   \n",
       "\n",
       "                                   email company  \\\n",
       "id                                                 \n",
       "69631                               None    None   \n",
       "8085     engineering@shopify.engineering    None   \n",
       "5470001              contact@lewagon.com    None   \n",
       "9892522                             None    None   \n",
       "82592                               None    None   \n",
       "\n",
       "                             location  hireable                created_at  \\\n",
       "id                                                                          \n",
       "69631          Menlo Park, California     False 2009-04-02 03:35:22+00:00   \n",
       "8085                     The Internet     False 2008-04-21 18:02:10+00:00   \n",
       "5470001  Paris, London, Berlin & more     False 2013-09-16 13:20:52+00:00   \n",
       "9892522      United States of America     False 2014-11-22 00:12:57+00:00   \n",
       "82592                            None     False 2009-05-08 23:28:44+00:00   \n",
       "\n",
       "                       updated_at  followers_count  following_count  \\\n",
       "id                                                                    \n",
       "69631   2022-04-01 07:03:49+00:00            24173                0   \n",
       "8085    2023-06-30 18:58:31+00:00             5148                0   \n",
       "5470001 2024-01-26 00:07:32+00:00             3446                0   \n",
       "9892522 2024-07-09 07:31:20+00:00            24214                0   \n",
       "82592   2024-06-13 06:56:48+00:00             2100                0   \n",
       "\n",
       "         public_repositories_count  public_gists_count  \n",
       "id                                                      \n",
       "69631                          137                  12  \n",
       "8085                          1051                  10  \n",
       "5470001                        175                   9  \n",
       "9892522                        226                   5  \n",
       "82592                          294                   5  "
      ],
      "text/html": [
       "<div>\n",
       "<style scoped>\n",
       "    .dataframe tbody tr th:only-of-type {\n",
       "        vertical-align: middle;\n",
       "    }\n",
       "\n",
       "    .dataframe tbody tr th {\n",
       "        vertical-align: top;\n",
       "    }\n",
       "\n",
       "    .dataframe thead th {\n",
       "        text-align: right;\n",
       "    }\n",
       "</style>\n",
       "<table border=\"1\" class=\"dataframe\">\n",
       "  <thead>\n",
       "    <tr style=\"text-align: right;\">\n",
       "      <th></th>\n",
       "      <th>type</th>\n",
       "      <th>username</th>\n",
       "      <th>url</th>\n",
       "      <th>name</th>\n",
       "      <th>homepage</th>\n",
       "      <th>email</th>\n",
       "      <th>company</th>\n",
       "      <th>location</th>\n",
       "      <th>hireable</th>\n",
       "      <th>created_at</th>\n",
       "      <th>updated_at</th>\n",
       "      <th>followers_count</th>\n",
       "      <th>following_count</th>\n",
       "      <th>public_repositories_count</th>\n",
       "      <th>public_gists_count</th>\n",
       "    </tr>\n",
       "    <tr>\n",
       "      <th>id</th>\n",
       "      <th></th>\n",
       "      <th></th>\n",
       "      <th></th>\n",
       "      <th></th>\n",
       "      <th></th>\n",
       "      <th></th>\n",
       "      <th></th>\n",
       "      <th></th>\n",
       "      <th></th>\n",
       "      <th></th>\n",
       "      <th></th>\n",
       "      <th></th>\n",
       "      <th></th>\n",
       "      <th></th>\n",
       "      <th></th>\n",
       "    </tr>\n",
       "  </thead>\n",
       "  <tbody>\n",
       "    <tr>\n",
       "      <th>69631</th>\n",
       "      <td>Organization</td>\n",
       "      <td>facebook</td>\n",
       "      <td>https://github.com/facebook</td>\n",
       "      <td>Meta</td>\n",
       "      <td>https://opensource.fb.com</td>\n",
       "      <td>None</td>\n",
       "      <td>None</td>\n",
       "      <td>Menlo Park, California</td>\n",
       "      <td>False</td>\n",
       "      <td>2009-04-02 03:35:22+00:00</td>\n",
       "      <td>2022-04-01 07:03:49+00:00</td>\n",
       "      <td>24173</td>\n",
       "      <td>0</td>\n",
       "      <td>137</td>\n",
       "      <td>12</td>\n",
       "    </tr>\n",
       "    <tr>\n",
       "      <th>8085</th>\n",
       "      <td>Organization</td>\n",
       "      <td>Shopify</td>\n",
       "      <td>https://github.com/Shopify</td>\n",
       "      <td>Shopify</td>\n",
       "      <td>https://shopify.engineering/</td>\n",
       "      <td>engineering@shopify.engineering</td>\n",
       "      <td>None</td>\n",
       "      <td>The Internet</td>\n",
       "      <td>False</td>\n",
       "      <td>2008-04-21 18:02:10+00:00</td>\n",
       "      <td>2023-06-30 18:58:31+00:00</td>\n",
       "      <td>5148</td>\n",
       "      <td>0</td>\n",
       "      <td>1051</td>\n",
       "      <td>10</td>\n",
       "    </tr>\n",
       "    <tr>\n",
       "      <th>5470001</th>\n",
       "      <td>Organization</td>\n",
       "      <td>lewagon</td>\n",
       "      <td>https://github.com/lewagon</td>\n",
       "      <td>Le Wagon</td>\n",
       "      <td>https://www.lewagon.com</td>\n",
       "      <td>contact@lewagon.com</td>\n",
       "      <td>None</td>\n",
       "      <td>Paris, London, Berlin &amp; more</td>\n",
       "      <td>False</td>\n",
       "      <td>2013-09-16 13:20:52+00:00</td>\n",
       "      <td>2024-01-26 00:07:32+00:00</td>\n",
       "      <td>3446</td>\n",
       "      <td>0</td>\n",
       "      <td>175</td>\n",
       "      <td>9</td>\n",
       "    </tr>\n",
       "    <tr>\n",
       "      <th>9892522</th>\n",
       "      <td>Organization</td>\n",
       "      <td>freeCodeCamp</td>\n",
       "      <td>https://github.com/freeCodeCamp</td>\n",
       "      <td>freeCodeCamp.org</td>\n",
       "      <td>https://freecodecamp.org</td>\n",
       "      <td>None</td>\n",
       "      <td>None</td>\n",
       "      <td>United States of America</td>\n",
       "      <td>False</td>\n",
       "      <td>2014-11-22 00:12:57+00:00</td>\n",
       "      <td>2024-07-09 07:31:20+00:00</td>\n",
       "      <td>24214</td>\n",
       "      <td>0</td>\n",
       "      <td>226</td>\n",
       "      <td>5</td>\n",
       "    </tr>\n",
       "    <tr>\n",
       "      <th>82592</th>\n",
       "      <td>Organization</td>\n",
       "      <td>square</td>\n",
       "      <td>https://github.com/square</td>\n",
       "      <td>Square</td>\n",
       "      <td>https://square.github.io</td>\n",
       "      <td>None</td>\n",
       "      <td>None</td>\n",
       "      <td>None</td>\n",
       "      <td>False</td>\n",
       "      <td>2009-05-08 23:28:44+00:00</td>\n",
       "      <td>2024-06-13 06:56:48+00:00</td>\n",
       "      <td>2100</td>\n",
       "      <td>0</td>\n",
       "      <td>294</td>\n",
       "      <td>5</td>\n",
       "    </tr>\n",
       "  </tbody>\n",
       "</table>\n",
       "</div>"
      ]
     },
     "execution_count": 35,
     "metadata": {},
     "output_type": "execute_result"
    }
   ],
   "execution_count": 35
  },
  {
   "metadata": {},
   "cell_type": "markdown",
   "source": [
    "Only a few of the organizations on our list have any public gists.\n",
    "Popular organizations with the most gists are Facebook and Shopify."
   ],
   "id": "a5e24ad0c5af51ca"
  },
  {
   "metadata": {},
   "cell_type": "markdown",
   "source": "## Boolean Properties",
   "id": "f19b2840278c3ac4"
  },
  {
   "metadata": {},
   "cell_type": "markdown",
   "source": "We can also analyze a few interesting boolean properties about users.",
   "id": "4a8a3a0dc89e54af"
  },
  {
   "metadata": {
    "ExecuteTime": {
     "end_time": "2024-07-16T13:02:54.612921Z",
     "start_time": "2024-07-16T13:02:54.608395Z"
    }
   },
   "cell_type": "code",
   "source": [
    "def number_of_with_without(series: pd.Series) -> (int, int):\n",
    "    \"\"\"Returns the number of rows that do and do not match the boolean series.\"\"\"\n",
    "    return df[series].shape[0], df[~series].shape[0]"
   ],
   "id": "1503432274b0bc2f",
   "outputs": [],
   "execution_count": 36
  },
  {
   "metadata": {
    "ExecuteTime": {
     "end_time": "2024-07-16T13:02:54.624942Z",
     "start_time": "2024-07-16T13:02:54.613921Z"
    }
   },
   "cell_type": "code",
   "source": [
    "# Number of accounts with/without name\n",
    "number_of_with_without(~df[\"name\"].isnull())"
   ],
   "id": "4b9bc6a7862d4cd5",
   "outputs": [
    {
     "data": {
      "text/plain": [
       "(4723, 277)"
      ]
     },
     "execution_count": 37,
     "metadata": {},
     "output_type": "execute_result"
    }
   ],
   "execution_count": 37
  },
  {
   "metadata": {
    "ExecuteTime": {
     "end_time": "2024-07-16T13:02:54.635321Z",
     "start_time": "2024-07-16T13:02:54.625943Z"
    }
   },
   "cell_type": "code",
   "source": [
    "# Number of accounts with/without homepage\n",
    "number_of_with_without(~df[\"homepage\"].isnull())"
   ],
   "id": "6c278d3e9fdacb9",
   "outputs": [
    {
     "data": {
      "text/plain": [
       "(3986, 1014)"
      ]
     },
     "execution_count": 38,
     "metadata": {},
     "output_type": "execute_result"
    }
   ],
   "execution_count": 38
  },
  {
   "metadata": {
    "ExecuteTime": {
     "end_time": "2024-07-16T13:02:54.645833Z",
     "start_time": "2024-07-16T13:02:54.636321Z"
    }
   },
   "cell_type": "code",
   "source": [
    "# Number of accounts with/without email\n",
    "number_of_with_without(~df[\"email\"].isnull())"
   ],
   "id": "a5005b8a4d6a4eeb",
   "outputs": [
    {
     "data": {
      "text/plain": [
       "(2451, 2549)"
      ]
     },
     "execution_count": 39,
     "metadata": {},
     "output_type": "execute_result"
    }
   ],
   "execution_count": 39
  },
  {
   "metadata": {
    "ExecuteTime": {
     "end_time": "2024-07-16T13:02:54.655821Z",
     "start_time": "2024-07-16T13:02:54.646829Z"
    }
   },
   "cell_type": "code",
   "source": [
    "# Number of accounts with/without company\n",
    "number_of_with_without(~df[\"company\"].isnull())"
   ],
   "id": "56df931f137f3248",
   "outputs": [
    {
     "data": {
      "text/plain": [
       "(2586, 2414)"
      ]
     },
     "execution_count": 40,
     "metadata": {},
     "output_type": "execute_result"
    }
   ],
   "execution_count": 40
  },
  {
   "metadata": {
    "ExecuteTime": {
     "end_time": "2024-07-16T13:02:54.670024Z",
     "start_time": "2024-07-16T13:02:54.657811Z"
    }
   },
   "cell_type": "code",
   "source": [
    "# Number of accounts with/without location\n",
    "number_of_with_without(~df[\"location\"].isnull())"
   ],
   "id": "5b4e1df08ca1822a",
   "outputs": [
    {
     "data": {
      "text/plain": [
       "(3754, 1246)"
      ]
     },
     "execution_count": 41,
     "metadata": {},
     "output_type": "execute_result"
    }
   ],
   "execution_count": 41
  },
  {
   "metadata": {
    "ExecuteTime": {
     "end_time": "2024-07-16T13:02:54.987100Z",
     "start_time": "2024-07-16T13:02:54.975933Z"
    }
   },
   "cell_type": "code",
   "source": [
    "# Number of accounts that are hireable\n",
    "number_of_with_without(df[\"hireable\"])"
   ],
   "id": "adb92322c99f4974",
   "outputs": [
    {
     "data": {
      "text/plain": [
       "(1163, 3837)"
      ]
     },
     "execution_count": 42,
     "metadata": {},
     "output_type": "execute_result"
    }
   ],
   "execution_count": 42
  },
  {
   "metadata": {},
   "cell_type": "markdown",
   "source": [
    "Almost all the accounts have a name set, and only less than 300 do not.\n",
    "Most of the accounts also specify their homepage and the location.\n",
    "However, they are almost equally split on disclosing their email and company.\n",
    "Most of the accounts are not hireable."
   ],
   "id": "3e2a89203be63d28"
  },
  {
   "metadata": {},
   "cell_type": "markdown",
   "source": "## Date Properties",
   "id": "f8a01ccce97b1410"
  },
  {
   "metadata": {},
   "cell_type": "markdown",
   "source": "We know when each user was created and last updated.",
   "id": "27ddbe579d509738"
  },
  {
   "metadata": {},
   "cell_type": "markdown",
   "source": "### Created Date",
   "id": "95bc0d0cec28c01d"
  },
  {
   "metadata": {},
   "cell_type": "markdown",
   "source": "The created date contains the date and time when the account was created.",
   "id": "552c37830ddc5c42"
  },
  {
   "metadata": {
    "ExecuteTime": {
     "end_time": "2024-07-16T13:02:55.239768Z",
     "start_time": "2024-07-16T13:02:55.229199Z"
    }
   },
   "cell_type": "code",
   "source": "df[\"created_at\"].describe()",
   "id": "3cb36c2238a667cb",
   "outputs": [
    {
     "data": {
      "text/plain": [
       "count                                   5000\n",
       "mean     2014-04-16 00:30:05.969999872+00:00\n",
       "min                2007-10-20 05:24:19+00:00\n",
       "25%                2011-04-28 23:07:08+00:00\n",
       "50%         2013-09-20 08:31:09.500000+00:00\n",
       "75%         2016-10-18 02:18:39.500000+00:00\n",
       "max                2024-06-12 02:05:28+00:00\n",
       "Name: created_at, dtype: object"
      ]
     },
     "execution_count": 43,
     "metadata": {},
     "output_type": "execute_result"
    }
   ],
   "execution_count": 43
  },
  {
   "metadata": {
    "ExecuteTime": {
     "end_time": "2024-07-16T13:02:55.459014Z",
     "start_time": "2024-07-16T13:02:55.434250Z"
    }
   },
   "cell_type": "code",
   "source": "users.sort_values(by=\"created_at\")",
   "id": "211a31c1a20cc8eb",
   "outputs": [
    {
     "data": {
      "text/plain": [
       "           type         username                                 url  \\\n",
       "id                                                                     \n",
       "2          User          defunkt          https://github.com/defunkt   \n",
       "1          User          mojombo          https://github.com/mojombo   \n",
       "3          User          pjhyett          https://github.com/pjhyett   \n",
       "4          User           wycats           https://github.com/wycats   \n",
       "7          User          evanphx          https://github.com/evanphx   \n",
       "...         ...              ...                                 ...   \n",
       "167228919  User       NitrixXero       https://github.com/NitrixXero   \n",
       "170892541  User    LegendaryNaix    https://github.com/LegendaryNaix   \n",
       "171361497  User  MightyTechNinja  https://github.com/MightyTechNinja   \n",
       "171626795  User          Octonho          https://github.com/Octonho   \n",
       "172458433  User   iurysantos-hub   https://github.com/iurysantos-hub   \n",
       "\n",
       "                         name                       homepage  \\\n",
       "id                                                             \n",
       "2             Chris Wanstrath     http://chriswanstrath.com/   \n",
       "1          Tom Preston-Werner  http://tom.preston-werner.com   \n",
       "3                    PJ Hyett              https://hyett.com   \n",
       "4                 Yehuda Katz          http://yehudakatz.com   \n",
       "7                Evan Phoenix            https://evanphx.dev   \n",
       "...                       ...                            ...   \n",
       "167228919       Elijah Gordon                           None   \n",
       "170892541   Super Coding Star                           None   \n",
       "171361497     MightyTechNinja                           None   \n",
       "171626795                Octo                           None   \n",
       "172458433                iury                           None   \n",
       "\n",
       "                               email  \\\n",
       "id                                     \n",
       "2                               None   \n",
       "1                    tom@mojombo.com   \n",
       "3                       pj@hyett.com   \n",
       "4                   wycats@gmail.com   \n",
       "7                        evan@phx.io   \n",
       "...                              ...   \n",
       "167228919                       None   \n",
       "170892541  LegendaryNaix@outlook.com   \n",
       "171361497  mightytechninja@gmail.com   \n",
       "171626795                       None   \n",
       "172458433                       None   \n",
       "\n",
       "                                                     company         location  \\\n",
       "id                                                                              \n",
       "2                                                       None             None   \n",
       "1          @chatterbugapp, @redwoodjs, @preston-werner-ve...    San Francisco   \n",
       "3                                               GitHub, Inc.    San Francisco   \n",
       "4                                                  @tildeio      Portland, OR   \n",
       "7                                                @hashicorp   Los Angeles, CA   \n",
       "...                                                      ...              ...   \n",
       "167228919                                               None           Greece   \n",
       "170892541                                               None             None   \n",
       "171361497                                 Personal Developer             None   \n",
       "171626795                                               None           Brazil   \n",
       "172458433                                               None             None   \n",
       "\n",
       "           hireable                created_at                updated_at  \\\n",
       "id                                                                        \n",
       "2             False 2007-10-20 05:24:19+00:00 2024-05-25 22:31:18+00:00   \n",
       "1             False 2007-10-20 05:24:19+00:00 2024-06-20 20:33:22+00:00   \n",
       "3             False 2008-01-07 17:54:22+00:00 2024-01-22 12:11:10+00:00   \n",
       "4             False 2008-01-12 05:38:33+00:00 2024-07-08 19:34:07+00:00   \n",
       "7             False 2008-01-12 16:46:24+00:00 2024-06-30 22:20:05+00:00   \n",
       "...             ...                       ...                       ...   \n",
       "167228919     False 2024-04-16 16:00:05+00:00 2024-05-24 22:12:45+00:00   \n",
       "170892541      True 2024-05-26 20:46:38+00:00 2024-07-10 17:29:18+00:00   \n",
       "171361497     False 2024-05-31 15:19:10+00:00 2024-07-12 11:56:57+00:00   \n",
       "171626795     False 2024-06-03 21:35:00+00:00 2024-07-11 20:07:36+00:00   \n",
       "172458433     False 2024-06-12 02:05:28+00:00 2024-06-12 03:15:17+00:00   \n",
       "\n",
       "           followers_count  following_count  public_repositories_count  \\\n",
       "id                                                                       \n",
       "2                    22325              215                        107   \n",
       "1                    23948               11                         66   \n",
       "3                     8289               30                          8   \n",
       "4                    10204               13                        294   \n",
       "7                     1633                9                        182   \n",
       "...                    ...              ...                        ...   \n",
       "167228919             1329                0                         15   \n",
       "170892541             1527             3677                         49   \n",
       "171361497             1423             1949                         35   \n",
       "171626795             1544               83                          2   \n",
       "172458433             1931             7465                          3   \n",
       "\n",
       "           public_gists_count  \n",
       "id                             \n",
       "2                         274  \n",
       "1                          62  \n",
       "3                          21  \n",
       "4                         763  \n",
       "7                         445  \n",
       "...                       ...  \n",
       "167228919                   0  \n",
       "170892541                   0  \n",
       "171361497                   0  \n",
       "171626795                   0  \n",
       "172458433                   0  \n",
       "\n",
       "[4316 rows x 15 columns]"
      ],
      "text/html": [
       "<div>\n",
       "<style scoped>\n",
       "    .dataframe tbody tr th:only-of-type {\n",
       "        vertical-align: middle;\n",
       "    }\n",
       "\n",
       "    .dataframe tbody tr th {\n",
       "        vertical-align: top;\n",
       "    }\n",
       "\n",
       "    .dataframe thead th {\n",
       "        text-align: right;\n",
       "    }\n",
       "</style>\n",
       "<table border=\"1\" class=\"dataframe\">\n",
       "  <thead>\n",
       "    <tr style=\"text-align: right;\">\n",
       "      <th></th>\n",
       "      <th>type</th>\n",
       "      <th>username</th>\n",
       "      <th>url</th>\n",
       "      <th>name</th>\n",
       "      <th>homepage</th>\n",
       "      <th>email</th>\n",
       "      <th>company</th>\n",
       "      <th>location</th>\n",
       "      <th>hireable</th>\n",
       "      <th>created_at</th>\n",
       "      <th>updated_at</th>\n",
       "      <th>followers_count</th>\n",
       "      <th>following_count</th>\n",
       "      <th>public_repositories_count</th>\n",
       "      <th>public_gists_count</th>\n",
       "    </tr>\n",
       "    <tr>\n",
       "      <th>id</th>\n",
       "      <th></th>\n",
       "      <th></th>\n",
       "      <th></th>\n",
       "      <th></th>\n",
       "      <th></th>\n",
       "      <th></th>\n",
       "      <th></th>\n",
       "      <th></th>\n",
       "      <th></th>\n",
       "      <th></th>\n",
       "      <th></th>\n",
       "      <th></th>\n",
       "      <th></th>\n",
       "      <th></th>\n",
       "      <th></th>\n",
       "    </tr>\n",
       "  </thead>\n",
       "  <tbody>\n",
       "    <tr>\n",
       "      <th>2</th>\n",
       "      <td>User</td>\n",
       "      <td>defunkt</td>\n",
       "      <td>https://github.com/defunkt</td>\n",
       "      <td>Chris Wanstrath</td>\n",
       "      <td>http://chriswanstrath.com/</td>\n",
       "      <td>None</td>\n",
       "      <td>None</td>\n",
       "      <td>None</td>\n",
       "      <td>False</td>\n",
       "      <td>2007-10-20 05:24:19+00:00</td>\n",
       "      <td>2024-05-25 22:31:18+00:00</td>\n",
       "      <td>22325</td>\n",
       "      <td>215</td>\n",
       "      <td>107</td>\n",
       "      <td>274</td>\n",
       "    </tr>\n",
       "    <tr>\n",
       "      <th>1</th>\n",
       "      <td>User</td>\n",
       "      <td>mojombo</td>\n",
       "      <td>https://github.com/mojombo</td>\n",
       "      <td>Tom Preston-Werner</td>\n",
       "      <td>http://tom.preston-werner.com</td>\n",
       "      <td>tom@mojombo.com</td>\n",
       "      <td>@chatterbugapp, @redwoodjs, @preston-werner-ve...</td>\n",
       "      <td>San Francisco</td>\n",
       "      <td>False</td>\n",
       "      <td>2007-10-20 05:24:19+00:00</td>\n",
       "      <td>2024-06-20 20:33:22+00:00</td>\n",
       "      <td>23948</td>\n",
       "      <td>11</td>\n",
       "      <td>66</td>\n",
       "      <td>62</td>\n",
       "    </tr>\n",
       "    <tr>\n",
       "      <th>3</th>\n",
       "      <td>User</td>\n",
       "      <td>pjhyett</td>\n",
       "      <td>https://github.com/pjhyett</td>\n",
       "      <td>PJ Hyett</td>\n",
       "      <td>https://hyett.com</td>\n",
       "      <td>pj@hyett.com</td>\n",
       "      <td>GitHub, Inc.</td>\n",
       "      <td>San Francisco</td>\n",
       "      <td>False</td>\n",
       "      <td>2008-01-07 17:54:22+00:00</td>\n",
       "      <td>2024-01-22 12:11:10+00:00</td>\n",
       "      <td>8289</td>\n",
       "      <td>30</td>\n",
       "      <td>8</td>\n",
       "      <td>21</td>\n",
       "    </tr>\n",
       "    <tr>\n",
       "      <th>4</th>\n",
       "      <td>User</td>\n",
       "      <td>wycats</td>\n",
       "      <td>https://github.com/wycats</td>\n",
       "      <td>Yehuda Katz</td>\n",
       "      <td>http://yehudakatz.com</td>\n",
       "      <td>wycats@gmail.com</td>\n",
       "      <td>@tildeio</td>\n",
       "      <td>Portland, OR</td>\n",
       "      <td>False</td>\n",
       "      <td>2008-01-12 05:38:33+00:00</td>\n",
       "      <td>2024-07-08 19:34:07+00:00</td>\n",
       "      <td>10204</td>\n",
       "      <td>13</td>\n",
       "      <td>294</td>\n",
       "      <td>763</td>\n",
       "    </tr>\n",
       "    <tr>\n",
       "      <th>7</th>\n",
       "      <td>User</td>\n",
       "      <td>evanphx</td>\n",
       "      <td>https://github.com/evanphx</td>\n",
       "      <td>Evan Phoenix</td>\n",
       "      <td>https://evanphx.dev</td>\n",
       "      <td>evan@phx.io</td>\n",
       "      <td>@hashicorp</td>\n",
       "      <td>Los Angeles, CA</td>\n",
       "      <td>False</td>\n",
       "      <td>2008-01-12 16:46:24+00:00</td>\n",
       "      <td>2024-06-30 22:20:05+00:00</td>\n",
       "      <td>1633</td>\n",
       "      <td>9</td>\n",
       "      <td>182</td>\n",
       "      <td>445</td>\n",
       "    </tr>\n",
       "    <tr>\n",
       "      <th>...</th>\n",
       "      <td>...</td>\n",
       "      <td>...</td>\n",
       "      <td>...</td>\n",
       "      <td>...</td>\n",
       "      <td>...</td>\n",
       "      <td>...</td>\n",
       "      <td>...</td>\n",
       "      <td>...</td>\n",
       "      <td>...</td>\n",
       "      <td>...</td>\n",
       "      <td>...</td>\n",
       "      <td>...</td>\n",
       "      <td>...</td>\n",
       "      <td>...</td>\n",
       "      <td>...</td>\n",
       "    </tr>\n",
       "    <tr>\n",
       "      <th>167228919</th>\n",
       "      <td>User</td>\n",
       "      <td>NitrixXero</td>\n",
       "      <td>https://github.com/NitrixXero</td>\n",
       "      <td>Elijah Gordon</td>\n",
       "      <td>None</td>\n",
       "      <td>None</td>\n",
       "      <td>None</td>\n",
       "      <td>Greece</td>\n",
       "      <td>False</td>\n",
       "      <td>2024-04-16 16:00:05+00:00</td>\n",
       "      <td>2024-05-24 22:12:45+00:00</td>\n",
       "      <td>1329</td>\n",
       "      <td>0</td>\n",
       "      <td>15</td>\n",
       "      <td>0</td>\n",
       "    </tr>\n",
       "    <tr>\n",
       "      <th>170892541</th>\n",
       "      <td>User</td>\n",
       "      <td>LegendaryNaix</td>\n",
       "      <td>https://github.com/LegendaryNaix</td>\n",
       "      <td>Super Coding Star</td>\n",
       "      <td>None</td>\n",
       "      <td>LegendaryNaix@outlook.com</td>\n",
       "      <td>None</td>\n",
       "      <td>None</td>\n",
       "      <td>True</td>\n",
       "      <td>2024-05-26 20:46:38+00:00</td>\n",
       "      <td>2024-07-10 17:29:18+00:00</td>\n",
       "      <td>1527</td>\n",
       "      <td>3677</td>\n",
       "      <td>49</td>\n",
       "      <td>0</td>\n",
       "    </tr>\n",
       "    <tr>\n",
       "      <th>171361497</th>\n",
       "      <td>User</td>\n",
       "      <td>MightyTechNinja</td>\n",
       "      <td>https://github.com/MightyTechNinja</td>\n",
       "      <td>MightyTechNinja</td>\n",
       "      <td>None</td>\n",
       "      <td>mightytechninja@gmail.com</td>\n",
       "      <td>Personal Developer</td>\n",
       "      <td>None</td>\n",
       "      <td>False</td>\n",
       "      <td>2024-05-31 15:19:10+00:00</td>\n",
       "      <td>2024-07-12 11:56:57+00:00</td>\n",
       "      <td>1423</td>\n",
       "      <td>1949</td>\n",
       "      <td>35</td>\n",
       "      <td>0</td>\n",
       "    </tr>\n",
       "    <tr>\n",
       "      <th>171626795</th>\n",
       "      <td>User</td>\n",
       "      <td>Octonho</td>\n",
       "      <td>https://github.com/Octonho</td>\n",
       "      <td>Octo</td>\n",
       "      <td>None</td>\n",
       "      <td>None</td>\n",
       "      <td>None</td>\n",
       "      <td>Brazil</td>\n",
       "      <td>False</td>\n",
       "      <td>2024-06-03 21:35:00+00:00</td>\n",
       "      <td>2024-07-11 20:07:36+00:00</td>\n",
       "      <td>1544</td>\n",
       "      <td>83</td>\n",
       "      <td>2</td>\n",
       "      <td>0</td>\n",
       "    </tr>\n",
       "    <tr>\n",
       "      <th>172458433</th>\n",
       "      <td>User</td>\n",
       "      <td>iurysantos-hub</td>\n",
       "      <td>https://github.com/iurysantos-hub</td>\n",
       "      <td>iury</td>\n",
       "      <td>None</td>\n",
       "      <td>None</td>\n",
       "      <td>None</td>\n",
       "      <td>None</td>\n",
       "      <td>False</td>\n",
       "      <td>2024-06-12 02:05:28+00:00</td>\n",
       "      <td>2024-06-12 03:15:17+00:00</td>\n",
       "      <td>1931</td>\n",
       "      <td>7465</td>\n",
       "      <td>3</td>\n",
       "      <td>0</td>\n",
       "    </tr>\n",
       "  </tbody>\n",
       "</table>\n",
       "<p>4316 rows × 15 columns</p>\n",
       "</div>"
      ]
     },
     "execution_count": 44,
     "metadata": {},
     "output_type": "execute_result"
    }
   ],
   "execution_count": 44
  },
  {
   "metadata": {
    "ExecuteTime": {
     "end_time": "2024-07-16T13:02:55.553205Z",
     "start_time": "2024-07-16T13:02:55.537799Z"
    }
   },
   "cell_type": "code",
   "source": "organizations.sort_values(by=\"created_at\")",
   "id": "83deeb812dd907b1",
   "outputs": [
    {
     "data": {
      "text/plain": [
       "                   type           username  \\\n",
       "id                                           \n",
       "4223       Organization              rails   \n",
       "8085       Organization            Shopify   \n",
       "9919       Organization             github   \n",
       "18133      Organization                git   \n",
       "23211      Organization             heroku   \n",
       "...                 ...                ...   \n",
       "152806972  Organization  100xdevs-cohort-2   \n",
       "153379578  Organization         meta-llama   \n",
       "160199024  Organization        instructlab   \n",
       "160608161  Organization   diia-open-source   \n",
       "166525102  Organization            GSSoC24   \n",
       "\n",
       "                                            url           name  \\\n",
       "id                                                               \n",
       "4223                   https://github.com/rails  Ruby on Rails   \n",
       "8085                 https://github.com/Shopify        Shopify   \n",
       "9919                  https://github.com/github         GitHub   \n",
       "18133                    https://github.com/git            Git   \n",
       "23211                 https://github.com/heroku         Heroku   \n",
       "...                                         ...            ...   \n",
       "152806972  https://github.com/100xdevs-cohort-2           None   \n",
       "153379578         https://github.com/meta-llama     Meta Llama   \n",
       "160199024        https://github.com/instructlab    InstructLab   \n",
       "160608161   https://github.com/diia-open-source           Diia   \n",
       "166525102            https://github.com/GSSoC24        GSSoC24   \n",
       "\n",
       "                                 homepage                            email  \\\n",
       "id                                                                           \n",
       "4223             https://rubyonrails.org/                             None   \n",
       "8085         https://shopify.engineering/  engineering@shopify.engineering   \n",
       "9919             https://github.com/about                             None   \n",
       "18133                 https://git-scm.com                             None   \n",
       "23211                 https://heroku.com/                             None   \n",
       "...                                   ...                              ...   \n",
       "152806972                            None                             None   \n",
       "153379578         https://llama.meta.com/                             None   \n",
       "160199024         https://instructlab.ai/                             None   \n",
       "160608161            https://diia.gov.ua/                             None   \n",
       "166525102  https://gssoc.girlscript.tech/            gssoc@girlscript.tech   \n",
       "\n",
       "          company           location  hireable                created_at  \\\n",
       "id                                                                         \n",
       "4223         None               None     False 2008-04-02 01:59:25+00:00   \n",
       "8085         None       The Internet     False 2008-04-21 18:02:10+00:00   \n",
       "9919         None  San Francisco, CA     False 2008-05-11 04:37:31+00:00   \n",
       "18133        None               None     False 2008-07-23 14:16:55+00:00   \n",
       "23211        None  San Francisco, CA     False 2008-09-04 20:53:06+00:00   \n",
       "...           ...                ...       ...                       ...   \n",
       "152806972    None               None     False 2023-12-03 17:58:30+00:00   \n",
       "153379578    None               None     False 2023-12-09 15:49:39+00:00   \n",
       "160199024    None               None     False 2024-02-16 02:39:40+00:00   \n",
       "160608161    None            Ukraine     False 2024-02-20 12:29:10+00:00   \n",
       "166525102    None              India     False 2024-04-09 14:11:45+00:00   \n",
       "\n",
       "                         updated_at  followers_count  following_count  \\\n",
       "id                                                                      \n",
       "4223      2021-09-13 14:26:11+00:00             1837                0   \n",
       "8085      2023-06-30 18:58:31+00:00             5148                0   \n",
       "9919      2022-11-29 19:44:55+00:00            40604                0   \n",
       "18133     2024-07-04 12:20:19+00:00             2774                0   \n",
       "23211     2023-04-28 23:13:51+00:00             1528                0   \n",
       "...                             ...              ...              ...   \n",
       "152806972 2023-12-03 17:58:30+00:00             1912                0   \n",
       "153379578 2024-03-13 20:07:36+00:00             2237                0   \n",
       "160199024 2024-05-21 07:00:05+00:00             1512                0   \n",
       "160608161 2024-06-24 13:48:08+00:00             2107                0   \n",
       "166525102 2024-04-09 15:29:37+00:00             2107                0   \n",
       "\n",
       "           public_repositories_count  public_gists_count  \n",
       "id                                                        \n",
       "4223                             124                   3  \n",
       "8085                            1051                  10  \n",
       "9919                             496                   0  \n",
       "18133                              7                   0  \n",
       "23211                            842                   0  \n",
       "...                              ...                 ...  \n",
       "152806972                         34                   0  \n",
       "153379578                          5                   0  \n",
       "160199024                         15                   0  \n",
       "160608161                         42                   0  \n",
       "166525102                          4                   0  \n",
       "\n",
       "[684 rows x 15 columns]"
      ],
      "text/html": [
       "<div>\n",
       "<style scoped>\n",
       "    .dataframe tbody tr th:only-of-type {\n",
       "        vertical-align: middle;\n",
       "    }\n",
       "\n",
       "    .dataframe tbody tr th {\n",
       "        vertical-align: top;\n",
       "    }\n",
       "\n",
       "    .dataframe thead th {\n",
       "        text-align: right;\n",
       "    }\n",
       "</style>\n",
       "<table border=\"1\" class=\"dataframe\">\n",
       "  <thead>\n",
       "    <tr style=\"text-align: right;\">\n",
       "      <th></th>\n",
       "      <th>type</th>\n",
       "      <th>username</th>\n",
       "      <th>url</th>\n",
       "      <th>name</th>\n",
       "      <th>homepage</th>\n",
       "      <th>email</th>\n",
       "      <th>company</th>\n",
       "      <th>location</th>\n",
       "      <th>hireable</th>\n",
       "      <th>created_at</th>\n",
       "      <th>updated_at</th>\n",
       "      <th>followers_count</th>\n",
       "      <th>following_count</th>\n",
       "      <th>public_repositories_count</th>\n",
       "      <th>public_gists_count</th>\n",
       "    </tr>\n",
       "    <tr>\n",
       "      <th>id</th>\n",
       "      <th></th>\n",
       "      <th></th>\n",
       "      <th></th>\n",
       "      <th></th>\n",
       "      <th></th>\n",
       "      <th></th>\n",
       "      <th></th>\n",
       "      <th></th>\n",
       "      <th></th>\n",
       "      <th></th>\n",
       "      <th></th>\n",
       "      <th></th>\n",
       "      <th></th>\n",
       "      <th></th>\n",
       "      <th></th>\n",
       "    </tr>\n",
       "  </thead>\n",
       "  <tbody>\n",
       "    <tr>\n",
       "      <th>4223</th>\n",
       "      <td>Organization</td>\n",
       "      <td>rails</td>\n",
       "      <td>https://github.com/rails</td>\n",
       "      <td>Ruby on Rails</td>\n",
       "      <td>https://rubyonrails.org/</td>\n",
       "      <td>None</td>\n",
       "      <td>None</td>\n",
       "      <td>None</td>\n",
       "      <td>False</td>\n",
       "      <td>2008-04-02 01:59:25+00:00</td>\n",
       "      <td>2021-09-13 14:26:11+00:00</td>\n",
       "      <td>1837</td>\n",
       "      <td>0</td>\n",
       "      <td>124</td>\n",
       "      <td>3</td>\n",
       "    </tr>\n",
       "    <tr>\n",
       "      <th>8085</th>\n",
       "      <td>Organization</td>\n",
       "      <td>Shopify</td>\n",
       "      <td>https://github.com/Shopify</td>\n",
       "      <td>Shopify</td>\n",
       "      <td>https://shopify.engineering/</td>\n",
       "      <td>engineering@shopify.engineering</td>\n",
       "      <td>None</td>\n",
       "      <td>The Internet</td>\n",
       "      <td>False</td>\n",
       "      <td>2008-04-21 18:02:10+00:00</td>\n",
       "      <td>2023-06-30 18:58:31+00:00</td>\n",
       "      <td>5148</td>\n",
       "      <td>0</td>\n",
       "      <td>1051</td>\n",
       "      <td>10</td>\n",
       "    </tr>\n",
       "    <tr>\n",
       "      <th>9919</th>\n",
       "      <td>Organization</td>\n",
       "      <td>github</td>\n",
       "      <td>https://github.com/github</td>\n",
       "      <td>GitHub</td>\n",
       "      <td>https://github.com/about</td>\n",
       "      <td>None</td>\n",
       "      <td>None</td>\n",
       "      <td>San Francisco, CA</td>\n",
       "      <td>False</td>\n",
       "      <td>2008-05-11 04:37:31+00:00</td>\n",
       "      <td>2022-11-29 19:44:55+00:00</td>\n",
       "      <td>40604</td>\n",
       "      <td>0</td>\n",
       "      <td>496</td>\n",
       "      <td>0</td>\n",
       "    </tr>\n",
       "    <tr>\n",
       "      <th>18133</th>\n",
       "      <td>Organization</td>\n",
       "      <td>git</td>\n",
       "      <td>https://github.com/git</td>\n",
       "      <td>Git</td>\n",
       "      <td>https://git-scm.com</td>\n",
       "      <td>None</td>\n",
       "      <td>None</td>\n",
       "      <td>None</td>\n",
       "      <td>False</td>\n",
       "      <td>2008-07-23 14:16:55+00:00</td>\n",
       "      <td>2024-07-04 12:20:19+00:00</td>\n",
       "      <td>2774</td>\n",
       "      <td>0</td>\n",
       "      <td>7</td>\n",
       "      <td>0</td>\n",
       "    </tr>\n",
       "    <tr>\n",
       "      <th>23211</th>\n",
       "      <td>Organization</td>\n",
       "      <td>heroku</td>\n",
       "      <td>https://github.com/heroku</td>\n",
       "      <td>Heroku</td>\n",
       "      <td>https://heroku.com/</td>\n",
       "      <td>None</td>\n",
       "      <td>None</td>\n",
       "      <td>San Francisco, CA</td>\n",
       "      <td>False</td>\n",
       "      <td>2008-09-04 20:53:06+00:00</td>\n",
       "      <td>2023-04-28 23:13:51+00:00</td>\n",
       "      <td>1528</td>\n",
       "      <td>0</td>\n",
       "      <td>842</td>\n",
       "      <td>0</td>\n",
       "    </tr>\n",
       "    <tr>\n",
       "      <th>...</th>\n",
       "      <td>...</td>\n",
       "      <td>...</td>\n",
       "      <td>...</td>\n",
       "      <td>...</td>\n",
       "      <td>...</td>\n",
       "      <td>...</td>\n",
       "      <td>...</td>\n",
       "      <td>...</td>\n",
       "      <td>...</td>\n",
       "      <td>...</td>\n",
       "      <td>...</td>\n",
       "      <td>...</td>\n",
       "      <td>...</td>\n",
       "      <td>...</td>\n",
       "      <td>...</td>\n",
       "    </tr>\n",
       "    <tr>\n",
       "      <th>152806972</th>\n",
       "      <td>Organization</td>\n",
       "      <td>100xdevs-cohort-2</td>\n",
       "      <td>https://github.com/100xdevs-cohort-2</td>\n",
       "      <td>None</td>\n",
       "      <td>None</td>\n",
       "      <td>None</td>\n",
       "      <td>None</td>\n",
       "      <td>None</td>\n",
       "      <td>False</td>\n",
       "      <td>2023-12-03 17:58:30+00:00</td>\n",
       "      <td>2023-12-03 17:58:30+00:00</td>\n",
       "      <td>1912</td>\n",
       "      <td>0</td>\n",
       "      <td>34</td>\n",
       "      <td>0</td>\n",
       "    </tr>\n",
       "    <tr>\n",
       "      <th>153379578</th>\n",
       "      <td>Organization</td>\n",
       "      <td>meta-llama</td>\n",
       "      <td>https://github.com/meta-llama</td>\n",
       "      <td>Meta Llama</td>\n",
       "      <td>https://llama.meta.com/</td>\n",
       "      <td>None</td>\n",
       "      <td>None</td>\n",
       "      <td>None</td>\n",
       "      <td>False</td>\n",
       "      <td>2023-12-09 15:49:39+00:00</td>\n",
       "      <td>2024-03-13 20:07:36+00:00</td>\n",
       "      <td>2237</td>\n",
       "      <td>0</td>\n",
       "      <td>5</td>\n",
       "      <td>0</td>\n",
       "    </tr>\n",
       "    <tr>\n",
       "      <th>160199024</th>\n",
       "      <td>Organization</td>\n",
       "      <td>instructlab</td>\n",
       "      <td>https://github.com/instructlab</td>\n",
       "      <td>InstructLab</td>\n",
       "      <td>https://instructlab.ai/</td>\n",
       "      <td>None</td>\n",
       "      <td>None</td>\n",
       "      <td>None</td>\n",
       "      <td>False</td>\n",
       "      <td>2024-02-16 02:39:40+00:00</td>\n",
       "      <td>2024-05-21 07:00:05+00:00</td>\n",
       "      <td>1512</td>\n",
       "      <td>0</td>\n",
       "      <td>15</td>\n",
       "      <td>0</td>\n",
       "    </tr>\n",
       "    <tr>\n",
       "      <th>160608161</th>\n",
       "      <td>Organization</td>\n",
       "      <td>diia-open-source</td>\n",
       "      <td>https://github.com/diia-open-source</td>\n",
       "      <td>Diia</td>\n",
       "      <td>https://diia.gov.ua/</td>\n",
       "      <td>None</td>\n",
       "      <td>None</td>\n",
       "      <td>Ukraine</td>\n",
       "      <td>False</td>\n",
       "      <td>2024-02-20 12:29:10+00:00</td>\n",
       "      <td>2024-06-24 13:48:08+00:00</td>\n",
       "      <td>2107</td>\n",
       "      <td>0</td>\n",
       "      <td>42</td>\n",
       "      <td>0</td>\n",
       "    </tr>\n",
       "    <tr>\n",
       "      <th>166525102</th>\n",
       "      <td>Organization</td>\n",
       "      <td>GSSoC24</td>\n",
       "      <td>https://github.com/GSSoC24</td>\n",
       "      <td>GSSoC24</td>\n",
       "      <td>https://gssoc.girlscript.tech/</td>\n",
       "      <td>gssoc@girlscript.tech</td>\n",
       "      <td>None</td>\n",
       "      <td>India</td>\n",
       "      <td>False</td>\n",
       "      <td>2024-04-09 14:11:45+00:00</td>\n",
       "      <td>2024-04-09 15:29:37+00:00</td>\n",
       "      <td>2107</td>\n",
       "      <td>0</td>\n",
       "      <td>4</td>\n",
       "      <td>0</td>\n",
       "    </tr>\n",
       "  </tbody>\n",
       "</table>\n",
       "<p>684 rows × 15 columns</p>\n",
       "</div>"
      ]
     },
     "execution_count": 45,
     "metadata": {},
     "output_type": "execute_result"
    }
   ],
   "execution_count": 45
  },
  {
   "metadata": {
    "ExecuteTime": {
     "end_time": "2024-07-16T13:02:55.830112Z",
     "start_time": "2024-07-16T13:02:55.645956Z"
    }
   },
   "cell_type": "code",
   "source": [
    "ax = df.groupby(df[\"created_at\"].dt.year).size().plot(xlabel=\"Year created\", ylabel=\"Frequency\")\n",
    "ax.xaxis.set_major_locator(ticker.MaxNLocator(integer=True))"
   ],
   "id": "1dba810fe231f114",
   "outputs": [
    {
     "data": {
      "text/plain": [
       "<Figure size 640x480 with 1 Axes>"
      ],
      "image/png": "[encoded data removed]"
     },
     "metadata": {},
     "output_type": "display_data"
    }
   ],
   "execution_count": 46
  },
  {
   "metadata": {},
   "cell_type": "markdown",
   "source": [
    "Most accounts have been created before 2014.\n",
    "The oldest users (and accounts overall) are Tom Preston-Werner, Chris Wanstrath and P. J. Hyett, the founders of GitHub.\n",
    "The oldest organizations are Ruby on Rails and Shopify, which are even older than the GitHub organization."
   ],
   "id": "f04c5aa40b169af1"
  },
  {
   "metadata": {},
   "cell_type": "markdown",
   "source": "### Updated Date",
   "id": "c63e49df796e7b1b"
  },
  {
   "metadata": {},
   "cell_type": "markdown",
   "source": "The updated date represents when the account was last updated, like changing the about field, email, website or location.",
   "id": "e8a5362b2b9a832f"
  },
  {
   "metadata": {
    "ExecuteTime": {
     "end_time": "2024-07-16T13:02:55.842644Z",
     "start_time": "2024-07-16T13:02:55.832110Z"
    }
   },
   "cell_type": "code",
   "source": "users[\"updated_at\"].describe()",
   "id": "656b3112a73b949c",
   "outputs": [
    {
     "data": {
      "text/plain": [
       "count                                   4316\n",
       "mean     2024-04-10 11:04:21.566497024+00:00\n",
       "min                2017-06-06 16:59:56+00:00\n",
       "25%         2024-05-04 19:12:03.500000+00:00\n",
       "50%         2024-06-21 05:31:17.500000+00:00\n",
       "75%      2024-07-05 23:17:40.750000128+00:00\n",
       "max                2024-07-14 01:16:25+00:00\n",
       "Name: updated_at, dtype: object"
      ]
     },
     "execution_count": 47,
     "metadata": {},
     "output_type": "execute_result"
    }
   ],
   "execution_count": 47
  },
  {
   "metadata": {
    "ExecuteTime": {
     "end_time": "2024-07-16T13:02:56.073535Z",
     "start_time": "2024-07-16T13:02:55.908478Z"
    }
   },
   "cell_type": "code",
   "source": [
    "ax = users.groupby(users[\"updated_at\"].dt.year).size().plot(xlabel=\"Year updated\", ylabel=\"Frequency\")\n",
    "ax.xaxis.set_major_locator(ticker.MaxNLocator(integer=True))"
   ],
   "id": "f35e5dfa9d19797d",
   "outputs": [
    {
     "data": {
      "text/plain": [
       "<Figure size 640x480 with 1 Axes>"
      ],
      "image/png": "[encoded data removed]"
     },
     "metadata": {},
     "output_type": "display_data"
    }
   ],
   "execution_count": 48
  },
  {
   "metadata": {
    "ExecuteTime": {
     "end_time": "2024-07-16T13:02:56.209973Z",
     "start_time": "2024-07-16T13:02:56.201197Z"
    }
   },
   "cell_type": "code",
   "source": "organizations[\"updated_at\"].describe()",
   "id": "49711bfda61bcd3c",
   "outputs": [
    {
     "data": {
      "text/plain": [
       "count                                    684\n",
       "mean     2023-08-14 06:11:30.201754368+00:00\n",
       "min                2017-01-11 21:59:59+00:00\n",
       "25%         2023-04-04 15:22:02.500000+00:00\n",
       "50%                2024-02-24 05:04:07+00:00\n",
       "75%         2024-06-19 11:35:40.500000+00:00\n",
       "max                2024-07-13 17:08:27+00:00\n",
       "Name: updated_at, dtype: object"
      ]
     },
     "execution_count": 49,
     "metadata": {},
     "output_type": "execute_result"
    }
   ],
   "execution_count": 49
  },
  {
   "metadata": {
    "ExecuteTime": {
     "end_time": "2024-07-16T13:02:56.715777Z",
     "start_time": "2024-07-16T13:02:56.542090Z"
    }
   },
   "cell_type": "code",
   "source": [
    "ax = organizations.groupby(organizations[\"updated_at\"].dt.year).size().plot(xlabel=\"Year updated\", ylabel=\"Frequency\")\n",
    "ax.xaxis.set_major_locator(ticker.MaxNLocator(integer=True))"
   ],
   "id": "6a90d9563fc4805b",
   "outputs": [
    {
     "data": {
      "text/plain": [
       "<Figure size 640x480 with 1 Axes>"
      ],
      "image/png": "[encoded data removed]"
     },
     "metadata": {},
     "output_type": "display_data"
    }
   ],
   "execution_count": 50
  },
  {
   "metadata": {},
   "cell_type": "markdown",
   "source": "We can see that the user accounts are more regularly updated than the organization ones.",
   "id": "e897379b7320a8e6"
  },
  {
   "metadata": {
    "ExecuteTime": {
     "end_time": "2024-07-16T13:02:56.721709Z",
     "start_time": "2024-07-16T13:02:56.718766Z"
    }
   },
   "cell_type": "code",
   "source": [
    "# TODO: Companies\n",
    "# TODO: Locations\n",
    "# TODO: Relationship between counts"
   ],
   "id": "352a8bfd22f3fbd8",
   "outputs": [],
   "execution_count": 51
  }
 ],
 "metadata": {
  "kernelspec": {
   "display_name": "Python 3",
   "language": "python",
   "name": "python3"
  },
  "language_info": {
   "codemirror_mode": {
    "name": "ipython",
    "version": 2
   },
   "file_extension": ".py",
   "mimetype": "text/x-python",
   "name": "python",
   "nbconvert_exporter": "python",
   "pygments_lexer": "ipython2",
   "version": "2.7.6"
  }
 },
 "nbformat": 4,
 "nbformat_minor": 5
}
