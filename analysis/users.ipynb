{
 "cells": [
  {
   "metadata": {
    "ExecuteTime": {
     "end_time": "2024-07-16T15:24:49.319208Z",
     "start_time": "2024-07-16T15:24:47.543166Z"
    }
   },
   "cell_type": "code",
   "source": [
    "import folium\n",
    "import folium.plugins\n",
    "import matplotlib.ticker as ticker\n",
    "import pandas as pd\n",
    "import seaborn as sns\n",
    "from geocode.geocode import Geocode"
   ],
   "id": "d75035105641b975",
   "outputs": [],
   "execution_count": 1
  },
  {
   "metadata": {
    "ExecuteTime": {
     "end_time": "2024-07-16T15:24:50.563047Z",
     "start_time": "2024-07-16T15:24:50.551835Z"
    }
   },
   "cell_type": "code",
   "source": "sns.set_style(\"ticks\")",
   "id": "c3215248c70fc97a",
   "outputs": [],
   "execution_count": 2
  },
  {
   "metadata": {},
   "cell_type": "markdown",
   "source": "# Users Analysis",
   "id": "667461978bd614cc"
  },
  {
   "metadata": {},
   "cell_type": "markdown",
   "source": "This notebook contains analysis of popular GitHub users.",
   "id": "a582352752a52897"
  },
  {
   "metadata": {},
   "cell_type": "markdown",
   "source": [
    "The analysis is based on lists of top 5000 users by the number of followers.\n",
    "The data were obtained on 2024-07-14 using scripts in the repository."
   ],
   "id": "895cb780e478ed01"
  },
  {
   "metadata": {},
   "cell_type": "markdown",
   "source": "Note that we also have a list of top 5000 users by the number of their public repositories, but it is not correct due to a GitHub API bug, so it will not be used.",
   "id": "5b50316a67aab84"
  },
  {
   "metadata": {},
   "cell_type": "markdown",
   "source": "## Preparation",
   "id": "b70c995b8ed20390"
  },
  {
   "metadata": {},
   "cell_type": "markdown",
   "source": "First, we need to load a list of top 5000 users by followers.",
   "id": "993f6abac5001c4f"
  },
  {
   "metadata": {
    "ExecuteTime": {
     "end_time": "2024-07-16T15:24:50.984200Z",
     "start_time": "2024-07-16T15:24:50.721690Z"
    }
   },
   "cell_type": "code",
   "source": [
    "df = pd.read_json(\"../data/users-by-followers.json\")\n",
    "df.set_index(\"id\", inplace=True)"
   ],
   "id": "ba6924ac1ba85d2",
   "outputs": [],
   "execution_count": 3
  },
  {
   "metadata": {
    "ExecuteTime": {
     "end_time": "2024-07-16T15:24:51.043246Z",
     "start_time": "2024-07-16T15:24:50.987896Z"
    }
   },
   "cell_type": "code",
   "source": "df.sort_values(by=\"followers_count\", ascending=False)",
   "id": "4683653a6cfb6bb2",
   "outputs": [
    {
     "data": {
      "text/plain": [
       "                  type            username  \\\n",
       "id                                           \n",
       "1024025           User            torvalds   \n",
       "499550            User           yyx990803   \n",
       "810438            User             gaearon   \n",
       "8683378           User    gustavoguanabara   \n",
       "241138            User            karpathy   \n",
       "...                ...                 ...   \n",
       "46522448  Organization      Xinyuan-LilyGO   \n",
       "71647983          User         YeshwanthKM   \n",
       "48950             User           joewalnes   \n",
       "1020496           User  jorisvandenbossche   \n",
       "16890566          User         ramya-rao-a   \n",
       "\n",
       "                                            url                   name  \\\n",
       "id                                                                       \n",
       "1024025             https://github.com/torvalds         Linus Torvalds   \n",
       "499550             https://github.com/yyx990803               Evan You   \n",
       "810438               https://github.com/gaearon                    dan   \n",
       "8683378     https://github.com/gustavoguanabara      Gustavo Guanabara   \n",
       "241138              https://github.com/karpathy                 Andrej   \n",
       "...                                         ...                    ...   \n",
       "46522448      https://github.com/Xinyuan-LilyGO            LILYGO team   \n",
       "71647983         https://github.com/YeshwanthKM             Yesh Coder   \n",
       "48950              https://github.com/joewalnes             Joe Walnes   \n",
       "1020496   https://github.com/jorisvandenbossche  Joris Van den Bossche   \n",
       "16890566         https://github.com/ramya-rao-a              Ramya Rao   \n",
       "\n",
       "                                       homepage                      email  \\\n",
       "id                                                                           \n",
       "1024025                                    None                       None   \n",
       "499550                        http://evanyou.me                       None   \n",
       "810438                                     None      dan.abramov@gmail.com   \n",
       "8683378             http://www.cursoemvideo.com                       None   \n",
       "241138             https://twitter.com/karpathy  andrej.karpathy@gmail.com   \n",
       "...                                         ...                        ...   \n",
       "46522448                          www.lilygo.cc             lily@lilygo.cc   \n",
       "71647983         https://kmyeshwanth.whjr.site/                       None   \n",
       "48950             https://twitter.com/joewalnes             joe@walnes.com   \n",
       "1020496   https://jorisvandenbossche.github.io/                       None   \n",
       "16890566                                   None                       None   \n",
       "\n",
       "                          company                location  hireable  \\\n",
       "id                                                                    \n",
       "1024025          Linux Foundation            Portland, OR     False   \n",
       "499550                       None               Singapore     False   \n",
       "810438           @bluesky-social                     None     False   \n",
       "8683378            Curso em Vídeo  Rio de Janeiro, Brazil     False   \n",
       "241138                       None                Stanford     False   \n",
       "...                           ...                     ...       ...   \n",
       "46522448                     None                   China     False   \n",
       "71647983  yeshwanth2307@gmail.com                  Earth      False   \n",
       "48950                        None  San Francisco Bay Area     False   \n",
       "1020496                      None                    None     False   \n",
       "16890566                   Stripe                    None     False   \n",
       "\n",
       "                        created_at                updated_at  followers_count  \\\n",
       "id                                                                              \n",
       "1024025  2011-09-03 15:26:22+00:00 2023-11-12 20:08:30+00:00           211474   \n",
       "499550   2010-11-28 01:05:40+00:00 2024-07-08 02:37:34+00:00           100272   \n",
       "810438   2011-05-25 18:18:31+00:00 2024-07-05 19:12:22+00:00            87173   \n",
       "8683378  2014-09-07 03:56:50+00:00 2024-04-06 14:57:57+00:00            87126   \n",
       "241138   2010-04-10 17:55:32+00:00 2024-05-20 10:08:52+00:00            82228   \n",
       "...                            ...                       ...              ...   \n",
       "46522448 2019-01-09 10:03:45+00:00 2024-02-28 03:55:39+00:00             1296   \n",
       "71647983 2020-09-21 13:06:36+00:00 2024-03-18 12:43:22+00:00             1296   \n",
       "48950    2009-01-24 12:19:26+00:00 2024-06-10 22:14:46+00:00             1296   \n",
       "1020496  2011-09-01 21:15:49+00:00 2024-07-04 18:25:35+00:00             1296   \n",
       "16890566 2016-01-26 02:04:50+00:00 2022-03-04 02:19:57+00:00             1296   \n",
       "\n",
       "          following_count  public_repositories_count  public_gists_count  \n",
       "id                                                                        \n",
       "1024025                 0                          7                   0  \n",
       "499550                 95                        193                  73  \n",
       "810438                173                        270                  78  \n",
       "8683378                 3                          6                   0  \n",
       "241138                  8                         55                   9  \n",
       "...                   ...                        ...                 ...  \n",
       "46522448                0                        176                   0  \n",
       "71647983             5422                         50                   0  \n",
       "48950                  23                         90                  24  \n",
       "1020496                 6                        190                 166  \n",
       "16890566                0                         65                   9  \n",
       "\n",
       "[5000 rows x 15 columns]"
      ],
      "text/html": [
       "<div>\n",
       "<style scoped>\n",
       "    .dataframe tbody tr th:only-of-type {\n",
       "        vertical-align: middle;\n",
       "    }\n",
       "\n",
       "    .dataframe tbody tr th {\n",
       "        vertical-align: top;\n",
       "    }\n",
       "\n",
       "    .dataframe thead th {\n",
       "        text-align: right;\n",
       "    }\n",
       "</style>\n",
       "<table border=\"1\" class=\"dataframe\">\n",
       "  <thead>\n",
       "    <tr style=\"text-align: right;\">\n",
       "      <th></th>\n",
       "      <th>type</th>\n",
       "      <th>username</th>\n",
       "      <th>url</th>\n",
       "      <th>name</th>\n",
       "      <th>homepage</th>\n",
       "      <th>email</th>\n",
       "      <th>company</th>\n",
       "      <th>location</th>\n",
       "      <th>hireable</th>\n",
       "      <th>created_at</th>\n",
       "      <th>updated_at</th>\n",
       "      <th>followers_count</th>\n",
       "      <th>following_count</th>\n",
       "      <th>public_repositories_count</th>\n",
       "      <th>public_gists_count</th>\n",
       "    </tr>\n",
       "    <tr>\n",
       "      <th>id</th>\n",
       "      <th></th>\n",
       "      <th></th>\n",
       "      <th></th>\n",
       "      <th></th>\n",
       "      <th></th>\n",
       "      <th></th>\n",
       "      <th></th>\n",
       "      <th></th>\n",
       "      <th></th>\n",
       "      <th></th>\n",
       "      <th></th>\n",
       "      <th></th>\n",
       "      <th></th>\n",
       "      <th></th>\n",
       "      <th></th>\n",
       "    </tr>\n",
       "  </thead>\n",
       "  <tbody>\n",
       "    <tr>\n",
       "      <th>1024025</th>\n",
       "      <td>User</td>\n",
       "      <td>torvalds</td>\n",
       "      <td>https://github.com/torvalds</td>\n",
       "      <td>Linus Torvalds</td>\n",
       "      <td>None</td>\n",
       "      <td>None</td>\n",
       "      <td>Linux Foundation</td>\n",
       "      <td>Portland, OR</td>\n",
       "      <td>False</td>\n",
       "      <td>2011-09-03 15:26:22+00:00</td>\n",
       "      <td>2023-11-12 20:08:30+00:00</td>\n",
       "      <td>211474</td>\n",
       "      <td>0</td>\n",
       "      <td>7</td>\n",
       "      <td>0</td>\n",
       "    </tr>\n",
       "    <tr>\n",
       "      <th>499550</th>\n",
       "      <td>User</td>\n",
       "      <td>yyx990803</td>\n",
       "      <td>https://github.com/yyx990803</td>\n",
       "      <td>Evan You</td>\n",
       "      <td>http://evanyou.me</td>\n",
       "      <td>None</td>\n",
       "      <td>None</td>\n",
       "      <td>Singapore</td>\n",
       "      <td>False</td>\n",
       "      <td>2010-11-28 01:05:40+00:00</td>\n",
       "      <td>2024-07-08 02:37:34+00:00</td>\n",
       "      <td>100272</td>\n",
       "      <td>95</td>\n",
       "      <td>193</td>\n",
       "      <td>73</td>\n",
       "    </tr>\n",
       "    <tr>\n",
       "      <th>810438</th>\n",
       "      <td>User</td>\n",
       "      <td>gaearon</td>\n",
       "      <td>https://github.com/gaearon</td>\n",
       "      <td>dan</td>\n",
       "      <td>None</td>\n",
       "      <td>dan.abramov@gmail.com</td>\n",
       "      <td>@bluesky-social</td>\n",
       "      <td>None</td>\n",
       "      <td>False</td>\n",
       "      <td>2011-05-25 18:18:31+00:00</td>\n",
       "      <td>2024-07-05 19:12:22+00:00</td>\n",
       "      <td>87173</td>\n",
       "      <td>173</td>\n",
       "      <td>270</td>\n",
       "      <td>78</td>\n",
       "    </tr>\n",
       "    <tr>\n",
       "      <th>8683378</th>\n",
       "      <td>User</td>\n",
       "      <td>gustavoguanabara</td>\n",
       "      <td>https://github.com/gustavoguanabara</td>\n",
       "      <td>Gustavo Guanabara</td>\n",
       "      <td>http://www.cursoemvideo.com</td>\n",
       "      <td>None</td>\n",
       "      <td>Curso em Vídeo</td>\n",
       "      <td>Rio de Janeiro, Brazil</td>\n",
       "      <td>False</td>\n",
       "      <td>2014-09-07 03:56:50+00:00</td>\n",
       "      <td>2024-04-06 14:57:57+00:00</td>\n",
       "      <td>87126</td>\n",
       "      <td>3</td>\n",
       "      <td>6</td>\n",
       "      <td>0</td>\n",
       "    </tr>\n",
       "    <tr>\n",
       "      <th>241138</th>\n",
       "      <td>User</td>\n",
       "      <td>karpathy</td>\n",
       "      <td>https://github.com/karpathy</td>\n",
       "      <td>Andrej</td>\n",
       "      <td>https://twitter.com/karpathy</td>\n",
       "      <td>andrej.karpathy@gmail.com</td>\n",
       "      <td>None</td>\n",
       "      <td>Stanford</td>\n",
       "      <td>False</td>\n",
       "      <td>2010-04-10 17:55:32+00:00</td>\n",
       "      <td>2024-05-20 10:08:52+00:00</td>\n",
       "      <td>82228</td>\n",
       "      <td>8</td>\n",
       "      <td>55</td>\n",
       "      <td>9</td>\n",
       "    </tr>\n",
       "    <tr>\n",
       "      <th>...</th>\n",
       "      <td>...</td>\n",
       "      <td>...</td>\n",
       "      <td>...</td>\n",
       "      <td>...</td>\n",
       "      <td>...</td>\n",
       "      <td>...</td>\n",
       "      <td>...</td>\n",
       "      <td>...</td>\n",
       "      <td>...</td>\n",
       "      <td>...</td>\n",
       "      <td>...</td>\n",
       "      <td>...</td>\n",
       "      <td>...</td>\n",
       "      <td>...</td>\n",
       "      <td>...</td>\n",
       "    </tr>\n",
       "    <tr>\n",
       "      <th>46522448</th>\n",
       "      <td>Organization</td>\n",
       "      <td>Xinyuan-LilyGO</td>\n",
       "      <td>https://github.com/Xinyuan-LilyGO</td>\n",
       "      <td>LILYGO team</td>\n",
       "      <td>www.lilygo.cc</td>\n",
       "      <td>lily@lilygo.cc</td>\n",
       "      <td>None</td>\n",
       "      <td>China</td>\n",
       "      <td>False</td>\n",
       "      <td>2019-01-09 10:03:45+00:00</td>\n",
       "      <td>2024-02-28 03:55:39+00:00</td>\n",
       "      <td>1296</td>\n",
       "      <td>0</td>\n",
       "      <td>176</td>\n",
       "      <td>0</td>\n",
       "    </tr>\n",
       "    <tr>\n",
       "      <th>71647983</th>\n",
       "      <td>User</td>\n",
       "      <td>YeshwanthKM</td>\n",
       "      <td>https://github.com/YeshwanthKM</td>\n",
       "      <td>Yesh Coder</td>\n",
       "      <td>https://kmyeshwanth.whjr.site/</td>\n",
       "      <td>None</td>\n",
       "      <td>yeshwanth2307@gmail.com</td>\n",
       "      <td>Earth</td>\n",
       "      <td>False</td>\n",
       "      <td>2020-09-21 13:06:36+00:00</td>\n",
       "      <td>2024-03-18 12:43:22+00:00</td>\n",
       "      <td>1296</td>\n",
       "      <td>5422</td>\n",
       "      <td>50</td>\n",
       "      <td>0</td>\n",
       "    </tr>\n",
       "    <tr>\n",
       "      <th>48950</th>\n",
       "      <td>User</td>\n",
       "      <td>joewalnes</td>\n",
       "      <td>https://github.com/joewalnes</td>\n",
       "      <td>Joe Walnes</td>\n",
       "      <td>https://twitter.com/joewalnes</td>\n",
       "      <td>joe@walnes.com</td>\n",
       "      <td>None</td>\n",
       "      <td>San Francisco Bay Area</td>\n",
       "      <td>False</td>\n",
       "      <td>2009-01-24 12:19:26+00:00</td>\n",
       "      <td>2024-06-10 22:14:46+00:00</td>\n",
       "      <td>1296</td>\n",
       "      <td>23</td>\n",
       "      <td>90</td>\n",
       "      <td>24</td>\n",
       "    </tr>\n",
       "    <tr>\n",
       "      <th>1020496</th>\n",
       "      <td>User</td>\n",
       "      <td>jorisvandenbossche</td>\n",
       "      <td>https://github.com/jorisvandenbossche</td>\n",
       "      <td>Joris Van den Bossche</td>\n",
       "      <td>https://jorisvandenbossche.github.io/</td>\n",
       "      <td>None</td>\n",
       "      <td>None</td>\n",
       "      <td>None</td>\n",
       "      <td>False</td>\n",
       "      <td>2011-09-01 21:15:49+00:00</td>\n",
       "      <td>2024-07-04 18:25:35+00:00</td>\n",
       "      <td>1296</td>\n",
       "      <td>6</td>\n",
       "      <td>190</td>\n",
       "      <td>166</td>\n",
       "    </tr>\n",
       "    <tr>\n",
       "      <th>16890566</th>\n",
       "      <td>User</td>\n",
       "      <td>ramya-rao-a</td>\n",
       "      <td>https://github.com/ramya-rao-a</td>\n",
       "      <td>Ramya Rao</td>\n",
       "      <td>None</td>\n",
       "      <td>None</td>\n",
       "      <td>Stripe</td>\n",
       "      <td>None</td>\n",
       "      <td>False</td>\n",
       "      <td>2016-01-26 02:04:50+00:00</td>\n",
       "      <td>2022-03-04 02:19:57+00:00</td>\n",
       "      <td>1296</td>\n",
       "      <td>0</td>\n",
       "      <td>65</td>\n",
       "      <td>9</td>\n",
       "    </tr>\n",
       "  </tbody>\n",
       "</table>\n",
       "<p>5000 rows × 15 columns</p>\n",
       "</div>"
      ]
     },
     "execution_count": 4,
     "metadata": {},
     "output_type": "execute_result"
    }
   ],
   "execution_count": 4
  },
  {
   "metadata": {
    "ExecuteTime": {
     "end_time": "2024-07-16T15:24:51.093427Z",
     "start_time": "2024-07-16T15:24:51.076749Z"
    }
   },
   "cell_type": "code",
   "source": "df[\"type\"].value_counts()",
   "id": "54aca8493628a3d6",
   "outputs": [
    {
     "data": {
      "text/plain": [
       "type\n",
       "User            4316\n",
       "Organization     684\n",
       "Name: count, dtype: int64"
      ]
     },
     "execution_count": 5,
     "metadata": {},
     "output_type": "execute_result"
    }
   ],
   "execution_count": 5
  },
  {
   "metadata": {},
   "cell_type": "markdown",
   "source": "We can see that most of the popular accounts are individual users, while only around 700 are organizations.",
   "id": "bd40cddf1e7cbc54"
  },
  {
   "metadata": {},
   "cell_type": "markdown",
   "source": "## Numerical Properties",
   "id": "a7402374006c2a74"
  },
  {
   "metadata": {},
   "cell_type": "markdown",
   "source": "For a start, we will analyze some numerical properties that indicate the user's popularity and activity.",
   "id": "6dcd287e7398f6d8"
  },
  {
   "metadata": {},
   "cell_type": "markdown",
   "source": "### Number of Followers",
   "id": "c55cf788d83df676"
  },
  {
   "metadata": {},
   "cell_type": "markdown",
   "source": "#### All Accounts",
   "id": "ac1f46c87a493c64"
  },
  {
   "metadata": {
    "ExecuteTime": {
     "end_time": "2024-07-16T15:24:51.317628Z",
     "start_time": "2024-07-16T15:24:51.297593Z"
    }
   },
   "cell_type": "code",
   "source": "df[\"followers_count\"].describe()",
   "id": "b18d388f79f4b70e",
   "outputs": [
    {
     "data": {
      "text/plain": [
       "count      5000.000000\n",
       "mean       3786.023400\n",
       "std        6223.823847\n",
       "min        1296.000000\n",
       "25%        1628.000000\n",
       "50%        2202.000000\n",
       "75%        3665.500000\n",
       "max      211474.000000\n",
       "Name: followers_count, dtype: float64"
      ]
     },
     "execution_count": 6,
     "metadata": {},
     "output_type": "execute_result"
    }
   ],
   "execution_count": 6
  },
  {
   "metadata": {
    "ExecuteTime": {
     "end_time": "2024-07-16T15:24:53.218503Z",
     "start_time": "2024-07-16T15:24:51.621811Z"
    }
   },
   "cell_type": "code",
   "source": "df[\"followers_count\"].plot.hist(bins=50, logy=True, xlabel=\"Number of followers\", ylabel=\"Frequency (log)\")",
   "id": "2f0d5e0d27c5acf7",
   "outputs": [
    {
     "data": {
      "text/plain": [
       "<Axes: xlabel='Number of followers', ylabel='Frequency (log)'>"
      ]
     },
     "execution_count": 7,
     "metadata": {},
     "output_type": "execute_result"
    },
    {
     "data": {
      "text/plain": [
       "<Figure size 640x480 with 1 Axes>"
      ],
      "image/png": "[encoded data removed]"
     },
     "metadata": {},
     "output_type": "display_data"
    }
   ],
   "execution_count": 7
  },
  {
   "metadata": {
    "ExecuteTime": {
     "end_time": "2024-07-16T15:24:53.257744Z",
     "start_time": "2024-07-16T15:24:53.224499Z"
    }
   },
   "cell_type": "code",
   "source": [
    "display(df[df[\"followers_count\"] > 5_000].shape[0])\n",
    "display(df[df[\"followers_count\"] > 10_000].shape[0])\n",
    "display(df[df[\"followers_count\"] > 50_000].shape[0])\n",
    "display(df[df[\"followers_count\"] > 100_000].shape[0])"
   ],
   "id": "8fb5a29b45c2c2b8",
   "outputs": [
    {
     "data": {
      "text/plain": [
       "792"
      ]
     },
     "metadata": {},
     "output_type": "display_data"
    },
    {
     "data": {
      "text/plain": [
       "288"
      ]
     },
     "metadata": {},
     "output_type": "display_data"
    },
    {
     "data": {
      "text/plain": [
       "14"
      ]
     },
     "metadata": {},
     "output_type": "display_data"
    },
    {
     "data": {
      "text/plain": [
       "2"
      ]
     },
     "metadata": {},
     "output_type": "display_data"
    }
   ],
   "execution_count": 8
  },
  {
   "metadata": {},
   "cell_type": "markdown",
   "source": "Almost all accounts have less than 5000 followers, and only less than 800 accounts have more.",
   "id": "9e8a8d09f0fac1c7"
  },
  {
   "metadata": {},
   "cell_type": "markdown",
   "source": "#### User Accounts",
   "id": "379ffc5e4a569a82"
  },
  {
   "metadata": {
    "ExecuteTime": {
     "end_time": "2024-07-16T15:24:53.273019Z",
     "start_time": "2024-07-16T15:24:53.260744Z"
    }
   },
   "cell_type": "code",
   "source": "users = df[df[\"type\"] == \"User\"]",
   "id": "f67264da2a9e6b6c",
   "outputs": [],
   "execution_count": 9
  },
  {
   "metadata": {
    "ExecuteTime": {
     "end_time": "2024-07-16T15:24:53.295228Z",
     "start_time": "2024-07-16T15:24:53.278008Z"
    }
   },
   "cell_type": "code",
   "source": "users[\"followers_count\"].describe()",
   "id": "7e0093a3cd3cbdf8",
   "outputs": [
    {
     "data": {
      "text/plain": [
       "count      4316.000000\n",
       "mean       3781.380445\n",
       "std        6280.506841\n",
       "min        1296.000000\n",
       "25%        1631.000000\n",
       "50%        2203.000000\n",
       "75%        3659.500000\n",
       "max      211474.000000\n",
       "Name: followers_count, dtype: float64"
      ]
     },
     "execution_count": 10,
     "metadata": {},
     "output_type": "execute_result"
    }
   ],
   "execution_count": 10
  },
  {
   "metadata": {
    "ExecuteTime": {
     "end_time": "2024-07-16T15:24:54.273569Z",
     "start_time": "2024-07-16T15:24:53.298226Z"
    }
   },
   "cell_type": "code",
   "source": "users[\"followers_count\"].plot.hist(bins=50, logy=True, xlabel=\"Number of followers\", ylabel=\"Frequency (log)\")",
   "id": "43a5642836626ddc",
   "outputs": [
    {
     "data": {
      "text/plain": [
       "<Axes: xlabel='Number of followers', ylabel='Frequency (log)'>"
      ]
     },
     "execution_count": 11,
     "metadata": {},
     "output_type": "execute_result"
    },
    {
     "data": {
      "text/plain": [
       "<Figure size 640x480 with 1 Axes>"
      ],
      "image/png": "[encoded data removed]"
     },
     "metadata": {},
     "output_type": "display_data"
    }
   ],
   "execution_count": 11
  },
  {
   "metadata": {
    "ExecuteTime": {
     "end_time": "2024-07-16T15:24:54.310863Z",
     "start_time": "2024-07-16T15:24:54.277555Z"
    }
   },
   "cell_type": "code",
   "source": "users.sort_values(by=\"followers_count\", ascending=False).head()",
   "id": "9fcdf05a0cd0093c",
   "outputs": [
    {
     "data": {
      "text/plain": [
       "         type          username                                  url  \\\n",
       "id                                                                     \n",
       "1024025  User          torvalds          https://github.com/torvalds   \n",
       "499550   User         yyx990803         https://github.com/yyx990803   \n",
       "810438   User           gaearon           https://github.com/gaearon   \n",
       "8683378  User  gustavoguanabara  https://github.com/gustavoguanabara   \n",
       "241138   User          karpathy          https://github.com/karpathy   \n",
       "\n",
       "                      name                      homepage  \\\n",
       "id                                                         \n",
       "1024025     Linus Torvalds                          None   \n",
       "499550            Evan You             http://evanyou.me   \n",
       "810438                 dan                          None   \n",
       "8683378  Gustavo Guanabara   http://www.cursoemvideo.com   \n",
       "241138              Andrej  https://twitter.com/karpathy   \n",
       "\n",
       "                             email           company                location  \\\n",
       "id                                                                             \n",
       "1024025                       None  Linux Foundation            Portland, OR   \n",
       "499550                        None              None               Singapore   \n",
       "810438       dan.abramov@gmail.com  @bluesky-social                     None   \n",
       "8683378                       None    Curso em Vídeo  Rio de Janeiro, Brazil   \n",
       "241138   andrej.karpathy@gmail.com              None                Stanford   \n",
       "\n",
       "         hireable                created_at                updated_at  \\\n",
       "id                                                                      \n",
       "1024025     False 2011-09-03 15:26:22+00:00 2023-11-12 20:08:30+00:00   \n",
       "499550      False 2010-11-28 01:05:40+00:00 2024-07-08 02:37:34+00:00   \n",
       "810438      False 2011-05-25 18:18:31+00:00 2024-07-05 19:12:22+00:00   \n",
       "8683378     False 2014-09-07 03:56:50+00:00 2024-04-06 14:57:57+00:00   \n",
       "241138      False 2010-04-10 17:55:32+00:00 2024-05-20 10:08:52+00:00   \n",
       "\n",
       "         followers_count  following_count  public_repositories_count  \\\n",
       "id                                                                     \n",
       "1024025           211474                0                          7   \n",
       "499550            100272               95                        193   \n",
       "810438             87173              173                        270   \n",
       "8683378            87126                3                          6   \n",
       "241138             82228                8                         55   \n",
       "\n",
       "         public_gists_count  \n",
       "id                           \n",
       "1024025                   0  \n",
       "499550                   73  \n",
       "810438                   78  \n",
       "8683378                   0  \n",
       "241138                    9  "
      ],
      "text/html": [
       "<div>\n",
       "<style scoped>\n",
       "    .dataframe tbody tr th:only-of-type {\n",
       "        vertical-align: middle;\n",
       "    }\n",
       "\n",
       "    .dataframe tbody tr th {\n",
       "        vertical-align: top;\n",
       "    }\n",
       "\n",
       "    .dataframe thead th {\n",
       "        text-align: right;\n",
       "    }\n",
       "</style>\n",
       "<table border=\"1\" class=\"dataframe\">\n",
       "  <thead>\n",
       "    <tr style=\"text-align: right;\">\n",
       "      <th></th>\n",
       "      <th>type</th>\n",
       "      <th>username</th>\n",
       "      <th>url</th>\n",
       "      <th>name</th>\n",
       "      <th>homepage</th>\n",
       "      <th>email</th>\n",
       "      <th>company</th>\n",
       "      <th>location</th>\n",
       "      <th>hireable</th>\n",
       "      <th>created_at</th>\n",
       "      <th>updated_at</th>\n",
       "      <th>followers_count</th>\n",
       "      <th>following_count</th>\n",
       "      <th>public_repositories_count</th>\n",
       "      <th>public_gists_count</th>\n",
       "    </tr>\n",
       "    <tr>\n",
       "      <th>id</th>\n",
       "      <th></th>\n",
       "      <th></th>\n",
       "      <th></th>\n",
       "      <th></th>\n",
       "      <th></th>\n",
       "      <th></th>\n",
       "      <th></th>\n",
       "      <th></th>\n",
       "      <th></th>\n",
       "      <th></th>\n",
       "      <th></th>\n",
       "      <th></th>\n",
       "      <th></th>\n",
       "      <th></th>\n",
       "      <th></th>\n",
       "    </tr>\n",
       "  </thead>\n",
       "  <tbody>\n",
       "    <tr>\n",
       "      <th>1024025</th>\n",
       "      <td>User</td>\n",
       "      <td>torvalds</td>\n",
       "      <td>https://github.com/torvalds</td>\n",
       "      <td>Linus Torvalds</td>\n",
       "      <td>None</td>\n",
       "      <td>None</td>\n",
       "      <td>Linux Foundation</td>\n",
       "      <td>Portland, OR</td>\n",
       "      <td>False</td>\n",
       "      <td>2011-09-03 15:26:22+00:00</td>\n",
       "      <td>2023-11-12 20:08:30+00:00</td>\n",
       "      <td>211474</td>\n",
       "      <td>0</td>\n",
       "      <td>7</td>\n",
       "      <td>0</td>\n",
       "    </tr>\n",
       "    <tr>\n",
       "      <th>499550</th>\n",
       "      <td>User</td>\n",
       "      <td>yyx990803</td>\n",
       "      <td>https://github.com/yyx990803</td>\n",
       "      <td>Evan You</td>\n",
       "      <td>http://evanyou.me</td>\n",
       "      <td>None</td>\n",
       "      <td>None</td>\n",
       "      <td>Singapore</td>\n",
       "      <td>False</td>\n",
       "      <td>2010-11-28 01:05:40+00:00</td>\n",
       "      <td>2024-07-08 02:37:34+00:00</td>\n",
       "      <td>100272</td>\n",
       "      <td>95</td>\n",
       "      <td>193</td>\n",
       "      <td>73</td>\n",
       "    </tr>\n",
       "    <tr>\n",
       "      <th>810438</th>\n",
       "      <td>User</td>\n",
       "      <td>gaearon</td>\n",
       "      <td>https://github.com/gaearon</td>\n",
       "      <td>dan</td>\n",
       "      <td>None</td>\n",
       "      <td>dan.abramov@gmail.com</td>\n",
       "      <td>@bluesky-social</td>\n",
       "      <td>None</td>\n",
       "      <td>False</td>\n",
       "      <td>2011-05-25 18:18:31+00:00</td>\n",
       "      <td>2024-07-05 19:12:22+00:00</td>\n",
       "      <td>87173</td>\n",
       "      <td>173</td>\n",
       "      <td>270</td>\n",
       "      <td>78</td>\n",
       "    </tr>\n",
       "    <tr>\n",
       "      <th>8683378</th>\n",
       "      <td>User</td>\n",
       "      <td>gustavoguanabara</td>\n",
       "      <td>https://github.com/gustavoguanabara</td>\n",
       "      <td>Gustavo Guanabara</td>\n",
       "      <td>http://www.cursoemvideo.com</td>\n",
       "      <td>None</td>\n",
       "      <td>Curso em Vídeo</td>\n",
       "      <td>Rio de Janeiro, Brazil</td>\n",
       "      <td>False</td>\n",
       "      <td>2014-09-07 03:56:50+00:00</td>\n",
       "      <td>2024-04-06 14:57:57+00:00</td>\n",
       "      <td>87126</td>\n",
       "      <td>3</td>\n",
       "      <td>6</td>\n",
       "      <td>0</td>\n",
       "    </tr>\n",
       "    <tr>\n",
       "      <th>241138</th>\n",
       "      <td>User</td>\n",
       "      <td>karpathy</td>\n",
       "      <td>https://github.com/karpathy</td>\n",
       "      <td>Andrej</td>\n",
       "      <td>https://twitter.com/karpathy</td>\n",
       "      <td>andrej.karpathy@gmail.com</td>\n",
       "      <td>None</td>\n",
       "      <td>Stanford</td>\n",
       "      <td>False</td>\n",
       "      <td>2010-04-10 17:55:32+00:00</td>\n",
       "      <td>2024-05-20 10:08:52+00:00</td>\n",
       "      <td>82228</td>\n",
       "      <td>8</td>\n",
       "      <td>55</td>\n",
       "      <td>9</td>\n",
       "    </tr>\n",
       "  </tbody>\n",
       "</table>\n",
       "</div>"
      ]
     },
     "execution_count": 12,
     "metadata": {},
     "output_type": "execute_result"
    }
   ],
   "execution_count": 12
  },
  {
   "metadata": {},
   "cell_type": "markdown",
   "source": [
    "There are only two users (and accounts overall) with 100.000 followers.\n",
    "That are Linus Torvalds and Evan You, both very popular and known open source developers."
   ],
   "id": "c0428f51b8dc3797"
  },
  {
   "metadata": {},
   "cell_type": "markdown",
   "source": "#### Organization Accounts",
   "id": "c9a406ed3821d836"
  },
  {
   "metadata": {
    "ExecuteTime": {
     "end_time": "2024-07-16T15:24:54.326098Z",
     "start_time": "2024-07-16T15:24:54.313864Z"
    }
   },
   "cell_type": "code",
   "source": "organizations = df[df[\"type\"] == \"Organization\"]",
   "id": "9c437cf2f383f9c7",
   "outputs": [],
   "execution_count": 13
  },
  {
   "metadata": {
    "ExecuteTime": {
     "end_time": "2024-07-16T15:24:54.362501Z",
     "start_time": "2024-07-16T15:24:54.345054Z"
    }
   },
   "cell_type": "code",
   "source": "organizations[\"followers_count\"].describe()",
   "id": "de713ef7c839cc58",
   "outputs": [
    {
     "data": {
      "text/plain": [
       "count      684.000000\n",
       "mean      3815.320175\n",
       "std       5857.799322\n",
       "min       1296.000000\n",
       "25%       1607.000000\n",
       "50%       2191.500000\n",
       "75%       3711.750000\n",
       "max      81928.000000\n",
       "Name: followers_count, dtype: float64"
      ]
     },
     "execution_count": 14,
     "metadata": {},
     "output_type": "execute_result"
    }
   ],
   "execution_count": 14
  },
  {
   "metadata": {
    "ExecuteTime": {
     "end_time": "2024-07-16T15:24:55.549082Z",
     "start_time": "2024-07-16T15:24:54.474561Z"
    }
   },
   "cell_type": "code",
   "source": "organizations[\"followers_count\"].plot.hist(bins=50, logy=True, xlabel=\"Number of followers\", ylabel=\"Frequency (log)\")",
   "id": "18471c9023ca22fc",
   "outputs": [
    {
     "data": {
      "text/plain": [
       "<Axes: xlabel='Number of followers', ylabel='Frequency (log)'>"
      ]
     },
     "execution_count": 15,
     "metadata": {},
     "output_type": "execute_result"
    },
    {
     "data": {
      "text/plain": [
       "<Figure size 640x480 with 1 Axes>"
      ],
      "image/png": "[encoded data removed]"
     },
     "metadata": {},
     "output_type": "display_data"
    }
   ],
   "execution_count": 15
  },
  {
   "metadata": {
    "ExecuteTime": {
     "end_time": "2024-07-16T15:24:55.585812Z",
     "start_time": "2024-07-16T15:24:55.553437Z"
    }
   },
   "cell_type": "code",
   "source": "organizations.sort_values(by=\"followers_count\", ascending=False).head()",
   "id": "d93973ebbeed7996",
   "outputs": [
    {
     "data": {
      "text/plain": [
       "                  type       username                               url  \\\n",
       "id                                                                        \n",
       "14957082  Organization         openai         https://github.com/openai   \n",
       "6154722   Organization      microsoft      https://github.com/microsoft   \n",
       "1342004   Organization         google         https://github.com/google   \n",
       "9919      Organization         github         https://github.com/github   \n",
       "20487725  Organization  TheAlgorithms  https://github.com/TheAlgorithms   \n",
       "\n",
       "                    name                          homepage  \\\n",
       "id                                                           \n",
       "14957082          OpenAI               https://openai.com/   \n",
       "6154722        Microsoft  https://opensource.microsoft.com   \n",
       "1342004           Google        https://opensource.google/   \n",
       "9919              GitHub          https://github.com/about   \n",
       "20487725  The Algorithms       https://the-algorithms.com/   \n",
       "\n",
       "                             email company                  location  \\\n",
       "id                                                                     \n",
       "14957082                      None    None                      None   \n",
       "6154722   opensource@microsoft.com    None               Redmond, WA   \n",
       "1342004      opensource@google.com    None  United States of America   \n",
       "9919                          None    None         San Francisco, CA   \n",
       "20487725  hello@the-algorithms.com    None                     India   \n",
       "\n",
       "          hireable                created_at                updated_at  \\\n",
       "id                                                                       \n",
       "14957082     False 2015-10-03 19:34:05+00:00 2024-06-26 16:58:47+00:00   \n",
       "6154722      False 2013-12-10 19:06:48+00:00 2024-02-09 18:50:14+00:00   \n",
       "1342004      False 2012-01-18 01:30:18+00:00 2024-04-19 18:36:13+00:00   \n",
       "9919         False 2008-05-11 04:37:31+00:00 2022-11-29 19:44:55+00:00   \n",
       "20487725     False 2016-07-16 08:17:02+00:00 2021-05-08 06:44:32+00:00   \n",
       "\n",
       "          followers_count  following_count  public_repositories_count  \\\n",
       "id                                                                      \n",
       "14957082            81928                0                        169   \n",
       "6154722             71498                0                       6271   \n",
       "1342004             42910                0                       2660   \n",
       "9919                40604                0                        496   \n",
       "20487725            37811                0                         48   \n",
       "\n",
       "          public_gists_count  \n",
       "id                            \n",
       "14957082                   0  \n",
       "6154722                    0  \n",
       "1342004                    0  \n",
       "9919                       0  \n",
       "20487725                   0  "
      ],
      "text/html": [
       "<div>\n",
       "<style scoped>\n",
       "    .dataframe tbody tr th:only-of-type {\n",
       "        vertical-align: middle;\n",
       "    }\n",
       "\n",
       "    .dataframe tbody tr th {\n",
       "        vertical-align: top;\n",
       "    }\n",
       "\n",
       "    .dataframe thead th {\n",
       "        text-align: right;\n",
       "    }\n",
       "</style>\n",
       "<table border=\"1\" class=\"dataframe\">\n",
       "  <thead>\n",
       "    <tr style=\"text-align: right;\">\n",
       "      <th></th>\n",
       "      <th>type</th>\n",
       "      <th>username</th>\n",
       "      <th>url</th>\n",
       "      <th>name</th>\n",
       "      <th>homepage</th>\n",
       "      <th>email</th>\n",
       "      <th>company</th>\n",
       "      <th>location</th>\n",
       "      <th>hireable</th>\n",
       "      <th>created_at</th>\n",
       "      <th>updated_at</th>\n",
       "      <th>followers_count</th>\n",
       "      <th>following_count</th>\n",
       "      <th>public_repositories_count</th>\n",
       "      <th>public_gists_count</th>\n",
       "    </tr>\n",
       "    <tr>\n",
       "      <th>id</th>\n",
       "      <th></th>\n",
       "      <th></th>\n",
       "      <th></th>\n",
       "      <th></th>\n",
       "      <th></th>\n",
       "      <th></th>\n",
       "      <th></th>\n",
       "      <th></th>\n",
       "      <th></th>\n",
       "      <th></th>\n",
       "      <th></th>\n",
       "      <th></th>\n",
       "      <th></th>\n",
       "      <th></th>\n",
       "      <th></th>\n",
       "    </tr>\n",
       "  </thead>\n",
       "  <tbody>\n",
       "    <tr>\n",
       "      <th>14957082</th>\n",
       "      <td>Organization</td>\n",
       "      <td>openai</td>\n",
       "      <td>https://github.com/openai</td>\n",
       "      <td>OpenAI</td>\n",
       "      <td>https://openai.com/</td>\n",
       "      <td>None</td>\n",
       "      <td>None</td>\n",
       "      <td>None</td>\n",
       "      <td>False</td>\n",
       "      <td>2015-10-03 19:34:05+00:00</td>\n",
       "      <td>2024-06-26 16:58:47+00:00</td>\n",
       "      <td>81928</td>\n",
       "      <td>0</td>\n",
       "      <td>169</td>\n",
       "      <td>0</td>\n",
       "    </tr>\n",
       "    <tr>\n",
       "      <th>6154722</th>\n",
       "      <td>Organization</td>\n",
       "      <td>microsoft</td>\n",
       "      <td>https://github.com/microsoft</td>\n",
       "      <td>Microsoft</td>\n",
       "      <td>https://opensource.microsoft.com</td>\n",
       "      <td>opensource@microsoft.com</td>\n",
       "      <td>None</td>\n",
       "      <td>Redmond, WA</td>\n",
       "      <td>False</td>\n",
       "      <td>2013-12-10 19:06:48+00:00</td>\n",
       "      <td>2024-02-09 18:50:14+00:00</td>\n",
       "      <td>71498</td>\n",
       "      <td>0</td>\n",
       "      <td>6271</td>\n",
       "      <td>0</td>\n",
       "    </tr>\n",
       "    <tr>\n",
       "      <th>1342004</th>\n",
       "      <td>Organization</td>\n",
       "      <td>google</td>\n",
       "      <td>https://github.com/google</td>\n",
       "      <td>Google</td>\n",
       "      <td>https://opensource.google/</td>\n",
       "      <td>opensource@google.com</td>\n",
       "      <td>None</td>\n",
       "      <td>United States of America</td>\n",
       "      <td>False</td>\n",
       "      <td>2012-01-18 01:30:18+00:00</td>\n",
       "      <td>2024-04-19 18:36:13+00:00</td>\n",
       "      <td>42910</td>\n",
       "      <td>0</td>\n",
       "      <td>2660</td>\n",
       "      <td>0</td>\n",
       "    </tr>\n",
       "    <tr>\n",
       "      <th>9919</th>\n",
       "      <td>Organization</td>\n",
       "      <td>github</td>\n",
       "      <td>https://github.com/github</td>\n",
       "      <td>GitHub</td>\n",
       "      <td>https://github.com/about</td>\n",
       "      <td>None</td>\n",
       "      <td>None</td>\n",
       "      <td>San Francisco, CA</td>\n",
       "      <td>False</td>\n",
       "      <td>2008-05-11 04:37:31+00:00</td>\n",
       "      <td>2022-11-29 19:44:55+00:00</td>\n",
       "      <td>40604</td>\n",
       "      <td>0</td>\n",
       "      <td>496</td>\n",
       "      <td>0</td>\n",
       "    </tr>\n",
       "    <tr>\n",
       "      <th>20487725</th>\n",
       "      <td>Organization</td>\n",
       "      <td>TheAlgorithms</td>\n",
       "      <td>https://github.com/TheAlgorithms</td>\n",
       "      <td>The Algorithms</td>\n",
       "      <td>https://the-algorithms.com/</td>\n",
       "      <td>hello@the-algorithms.com</td>\n",
       "      <td>None</td>\n",
       "      <td>India</td>\n",
       "      <td>False</td>\n",
       "      <td>2016-07-16 08:17:02+00:00</td>\n",
       "      <td>2021-05-08 06:44:32+00:00</td>\n",
       "      <td>37811</td>\n",
       "      <td>0</td>\n",
       "      <td>48</td>\n",
       "      <td>0</td>\n",
       "    </tr>\n",
       "  </tbody>\n",
       "</table>\n",
       "</div>"
      ]
     },
     "execution_count": 16,
     "metadata": {},
     "output_type": "execute_result"
    }
   ],
   "execution_count": 16
  },
  {
   "metadata": {},
   "cell_type": "markdown",
   "source": [
    "We can see that there are fewer organizations with many followers than individual users.\n",
    "The most popular organization is OpenAI with over 80.000 followers, followed by Microsoft with more than 70.000.\n",
    "The third most popular organization is Google with around 43.000 followers, followed closely by GitHub with around 40.000."
   ],
   "id": "eff3fbdbb2a4a806"
  },
  {
   "metadata": {},
   "cell_type": "markdown",
   "source": "### Number of Following",
   "id": "51936482f25dcc8a"
  },
  {
   "metadata": {
    "ExecuteTime": {
     "end_time": "2024-07-16T15:24:55.648665Z",
     "start_time": "2024-07-16T15:24:55.630722Z"
    }
   },
   "cell_type": "code",
   "source": "users[\"following_count\"].describe()",
   "id": "bb999a9d3a5ee0f0",
   "outputs": [
    {
     "data": {
      "text/plain": [
       "count      4316.000000\n",
       "mean       1314.667285\n",
       "std       11847.406372\n",
       "min           0.000000\n",
       "25%           2.000000\n",
       "50%          18.000000\n",
       "75%          82.000000\n",
       "max      368381.000000\n",
       "Name: following_count, dtype: float64"
      ]
     },
     "execution_count": 17,
     "metadata": {},
     "output_type": "execute_result"
    }
   ],
   "execution_count": 17
  },
  {
   "metadata": {
    "ExecuteTime": {
     "end_time": "2024-07-16T15:24:57.112259Z",
     "start_time": "2024-07-16T15:24:55.977094Z"
    }
   },
   "cell_type": "code",
   "source": "users[\"following_count\"].plot.hist(bins=50, logy=True, xlabel=\"Number of following\", ylabel=\"Frequency (log)\")",
   "id": "219023d3e796937b",
   "outputs": [
    {
     "data": {
      "text/plain": [
       "<Axes: xlabel='Number of following', ylabel='Frequency (log)'>"
      ]
     },
     "execution_count": 18,
     "metadata": {},
     "output_type": "execute_result"
    },
    {
     "data": {
      "text/plain": [
       "<Figure size 640x480 with 1 Axes>"
      ],
      "image/png": "[encoded data removed]"
     },
     "metadata": {},
     "output_type": "display_data"
    }
   ],
   "execution_count": 18
  },
  {
   "metadata": {
    "ExecuteTime": {
     "end_time": "2024-07-16T15:24:57.143482Z",
     "start_time": "2024-07-16T15:24:57.116259Z"
    }
   },
   "cell_type": "code",
   "source": [
    "display(users[users[\"following_count\"] > 100].shape[0])\n",
    "display(users[users[\"following_count\"] > 500].shape[0])"
   ],
   "id": "1ad60357b3e1d001",
   "outputs": [
    {
     "data": {
      "text/plain": [
       "955"
      ]
     },
     "metadata": {},
     "output_type": "display_data"
    },
    {
     "data": {
      "text/plain": [
       "355"
      ]
     },
     "metadata": {},
     "output_type": "display_data"
    }
   ],
   "execution_count": 19
  },
  {
   "metadata": {},
   "cell_type": "markdown",
   "source": [
    "Here, we perform analysis only on individual users, as organizations cannot follow anyone.\n",
    "We can see that over half of users follow less than 20 accounts, and less than 1000 users follow more than 100.\n",
    "However, it should be noted that we only collected users based on their number of followers, so it is possible that there are other users that follow more."
   ],
   "id": "80d69e7092318877"
  },
  {
   "metadata": {},
   "cell_type": "markdown",
   "source": "### Number of Public Repositories",
   "id": "12290e0975c52b76"
  },
  {
   "metadata": {},
   "cell_type": "markdown",
   "source": "#### All Accounts",
   "id": "9b5c7afc0a06e70e"
  },
  {
   "metadata": {
    "ExecuteTime": {
     "end_time": "2024-07-16T15:24:57.170613Z",
     "start_time": "2024-07-16T15:24:57.151507Z"
    }
   },
   "cell_type": "code",
   "source": "df[\"public_repositories_count\"].describe()",
   "id": "932bcf993e44f0cd",
   "outputs": [
    {
     "data": {
      "text/plain": [
       "count     5000.000000\n",
       "mean       152.449200\n",
       "std        754.894627\n",
       "min          0.000000\n",
       "25%         28.000000\n",
       "50%         66.000000\n",
       "75%        143.000000\n",
       "max      31444.000000\n",
       "Name: public_repositories_count, dtype: float64"
      ]
     },
     "execution_count": 20,
     "metadata": {},
     "output_type": "execute_result"
    }
   ],
   "execution_count": 20
  },
  {
   "metadata": {
    "ExecuteTime": {
     "end_time": "2024-07-16T15:24:58.414730Z",
     "start_time": "2024-07-16T15:24:57.457150Z"
    }
   },
   "cell_type": "code",
   "source": "df[\"public_repositories_count\"].plot.hist(bins=50, logy=True, xlabel=\"Number of public repositories\", ylabel=\"Frequency (log)\")",
   "id": "c1d853d7f944c02a",
   "outputs": [
    {
     "data": {
      "text/plain": [
       "<Axes: xlabel='Number of public repositories', ylabel='Frequency (log)'>"
      ]
     },
     "execution_count": 21,
     "metadata": {},
     "output_type": "execute_result"
    },
    {
     "data": {
      "text/plain": [
       "<Figure size 640x480 with 1 Axes>"
      ],
      "image/png": "[encoded data removed]"
     },
     "metadata": {},
     "output_type": "display_data"
    }
   ],
   "execution_count": 21
  },
  {
   "metadata": {},
   "cell_type": "markdown",
   "source": [
    "Almost all accounts have less than 150 public repositories.\n",
    "However, the accounts were not collected based on the number of their repositories, so there may exist accounts with more. "
   ],
   "id": "2622d208cf0a1bb"
  },
  {
   "metadata": {},
   "cell_type": "markdown",
   "source": "#### User Accounts",
   "id": "ad8b2d6e91ecc6f4"
  },
  {
   "metadata": {
    "ExecuteTime": {
     "end_time": "2024-07-16T15:24:58.436498Z",
     "start_time": "2024-07-16T15:24:58.418715Z"
    }
   },
   "cell_type": "code",
   "source": "users[\"public_repositories_count\"].describe()",
   "id": "fa985de98d1e97dd",
   "outputs": [
    {
     "data": {
      "text/plain": [
       "count     4316.000000\n",
       "mean       130.236098\n",
       "std        441.752615\n",
       "min          0.000000\n",
       "25%         29.000000\n",
       "50%         67.000000\n",
       "75%        141.000000\n",
       "max      18626.000000\n",
       "Name: public_repositories_count, dtype: float64"
      ]
     },
     "execution_count": 22,
     "metadata": {},
     "output_type": "execute_result"
    }
   ],
   "execution_count": 22
  },
  {
   "metadata": {
    "ExecuteTime": {
     "end_time": "2024-07-16T15:24:59.433916Z",
     "start_time": "2024-07-16T15:24:58.439782Z"
    }
   },
   "cell_type": "code",
   "source": "users[\"public_repositories_count\"].plot.hist(bins=50, logy=True, xlabel=\"Number of public repositories\", ylabel=\"Frequency (log)\")",
   "id": "c26f939ecc9e73c6",
   "outputs": [
    {
     "data": {
      "text/plain": [
       "<Axes: xlabel='Number of public repositories', ylabel='Frequency (log)'>"
      ]
     },
     "execution_count": 23,
     "metadata": {},
     "output_type": "execute_result"
    },
    {
     "data": {
      "text/plain": [
       "<Figure size 640x480 with 1 Axes>"
      ],
      "image/png": "[encoded data removed]"
     },
     "metadata": {},
     "output_type": "display_data"
    }
   ],
   "execution_count": 23
  },
  {
   "metadata": {
    "ExecuteTime": {
     "end_time": "2024-07-16T15:24:59.473155Z",
     "start_time": "2024-07-16T15:24:59.438985Z"
    }
   },
   "cell_type": "code",
   "source": "users.sort_values(by=\"public_repositories_count\", ascending=False).head()",
   "id": "89f46b0e447f974",
   "outputs": [
    {
     "data": {
      "text/plain": [
       "          type          username                                  url  \\\n",
       "id                                                                      \n",
       "43516554  User  standardgalactic  https://github.com/standardgalactic   \n",
       "73543858  User             00mjk             https://github.com/00mjk   \n",
       "25180681  User      renovate-bot      https://github.com/renovate-bot   \n",
       "309424    User           killvxk           https://github.com/killvxk   \n",
       "443562    User       vim-scripts       https://github.com/vim-scripts   \n",
       "\n",
       "                     name                                           homepage  \\\n",
       "id                                                                             \n",
       "43516554  Cogito Ergo Sum                                               None   \n",
       "73543858             None  https://m.youtube.com/channel/UCuWi5pi1B92l1Vg...   \n",
       "25180681    Mend Renovate  https://www.mend.io/free-developer-tools/renov...   \n",
       "309424               None                                               None   \n",
       "443562    Scrappy Scraper                     https://vim-scraper.github.io/   \n",
       "\n",
       "                                     email company location  hireable  \\\n",
       "id                                                                      \n",
       "43516554   standardgalactic@protonmail.com  Xanadu   Canada     False   \n",
       "73543858                              None    None     None     False   \n",
       "25180681  renovate@whitesourcesoftware.com   @mend     None     False   \n",
       "309424                                None    None     USSR     False   \n",
       "443562                                None    None     None     False   \n",
       "\n",
       "                        created_at                updated_at  followers_count  \\\n",
       "id                                                                              \n",
       "43516554 2018-09-23 12:40:35+00:00 2024-07-07 17:35:15+00:00             1378   \n",
       "73543858 2020-10-27 15:11:31+00:00 2023-08-07 21:34:52+00:00             1628   \n",
       "25180681 2017-01-17 16:55:44+00:00 2023-09-13 16:51:11+00:00             1548   \n",
       "309424   2010-06-19 13:47:37+00:00 2024-03-15 08:38:54+00:00             1414   \n",
       "443562   2010-10-18 07:02:53+00:00 2020-03-23 17:26:41+00:00             4587   \n",
       "\n",
       "          following_count  public_repositories_count  public_gists_count  \n",
       "id                                                                        \n",
       "43516554            37427                      18626                 110  \n",
       "73543858            18519                      12106                  93  \n",
       "25180681                0                      11105                   0  \n",
       "309424               7203                       6454                  86  \n",
       "443562                  0                       5208                   0  "
      ],
      "text/html": [
       "<div>\n",
       "<style scoped>\n",
       "    .dataframe tbody tr th:only-of-type {\n",
       "        vertical-align: middle;\n",
       "    }\n",
       "\n",
       "    .dataframe tbody tr th {\n",
       "        vertical-align: top;\n",
       "    }\n",
       "\n",
       "    .dataframe thead th {\n",
       "        text-align: right;\n",
       "    }\n",
       "</style>\n",
       "<table border=\"1\" class=\"dataframe\">\n",
       "  <thead>\n",
       "    <tr style=\"text-align: right;\">\n",
       "      <th></th>\n",
       "      <th>type</th>\n",
       "      <th>username</th>\n",
       "      <th>url</th>\n",
       "      <th>name</th>\n",
       "      <th>homepage</th>\n",
       "      <th>email</th>\n",
       "      <th>company</th>\n",
       "      <th>location</th>\n",
       "      <th>hireable</th>\n",
       "      <th>created_at</th>\n",
       "      <th>updated_at</th>\n",
       "      <th>followers_count</th>\n",
       "      <th>following_count</th>\n",
       "      <th>public_repositories_count</th>\n",
       "      <th>public_gists_count</th>\n",
       "    </tr>\n",
       "    <tr>\n",
       "      <th>id</th>\n",
       "      <th></th>\n",
       "      <th></th>\n",
       "      <th></th>\n",
       "      <th></th>\n",
       "      <th></th>\n",
       "      <th></th>\n",
       "      <th></th>\n",
       "      <th></th>\n",
       "      <th></th>\n",
       "      <th></th>\n",
       "      <th></th>\n",
       "      <th></th>\n",
       "      <th></th>\n",
       "      <th></th>\n",
       "      <th></th>\n",
       "    </tr>\n",
       "  </thead>\n",
       "  <tbody>\n",
       "    <tr>\n",
       "      <th>43516554</th>\n",
       "      <td>User</td>\n",
       "      <td>standardgalactic</td>\n",
       "      <td>https://github.com/standardgalactic</td>\n",
       "      <td>Cogito Ergo Sum</td>\n",
       "      <td>None</td>\n",
       "      <td>standardgalactic@protonmail.com</td>\n",
       "      <td>Xanadu</td>\n",
       "      <td>Canada</td>\n",
       "      <td>False</td>\n",
       "      <td>2018-09-23 12:40:35+00:00</td>\n",
       "      <td>2024-07-07 17:35:15+00:00</td>\n",
       "      <td>1378</td>\n",
       "      <td>37427</td>\n",
       "      <td>18626</td>\n",
       "      <td>110</td>\n",
       "    </tr>\n",
       "    <tr>\n",
       "      <th>73543858</th>\n",
       "      <td>User</td>\n",
       "      <td>00mjk</td>\n",
       "      <td>https://github.com/00mjk</td>\n",
       "      <td>None</td>\n",
       "      <td>https://m.youtube.com/channel/UCuWi5pi1B92l1Vg...</td>\n",
       "      <td>None</td>\n",
       "      <td>None</td>\n",
       "      <td>None</td>\n",
       "      <td>False</td>\n",
       "      <td>2020-10-27 15:11:31+00:00</td>\n",
       "      <td>2023-08-07 21:34:52+00:00</td>\n",
       "      <td>1628</td>\n",
       "      <td>18519</td>\n",
       "      <td>12106</td>\n",
       "      <td>93</td>\n",
       "    </tr>\n",
       "    <tr>\n",
       "      <th>25180681</th>\n",
       "      <td>User</td>\n",
       "      <td>renovate-bot</td>\n",
       "      <td>https://github.com/renovate-bot</td>\n",
       "      <td>Mend Renovate</td>\n",
       "      <td>https://www.mend.io/free-developer-tools/renov...</td>\n",
       "      <td>renovate@whitesourcesoftware.com</td>\n",
       "      <td>@mend</td>\n",
       "      <td>None</td>\n",
       "      <td>False</td>\n",
       "      <td>2017-01-17 16:55:44+00:00</td>\n",
       "      <td>2023-09-13 16:51:11+00:00</td>\n",
       "      <td>1548</td>\n",
       "      <td>0</td>\n",
       "      <td>11105</td>\n",
       "      <td>0</td>\n",
       "    </tr>\n",
       "    <tr>\n",
       "      <th>309424</th>\n",
       "      <td>User</td>\n",
       "      <td>killvxk</td>\n",
       "      <td>https://github.com/killvxk</td>\n",
       "      <td>None</td>\n",
       "      <td>None</td>\n",
       "      <td>None</td>\n",
       "      <td>None</td>\n",
       "      <td>USSR</td>\n",
       "      <td>False</td>\n",
       "      <td>2010-06-19 13:47:37+00:00</td>\n",
       "      <td>2024-03-15 08:38:54+00:00</td>\n",
       "      <td>1414</td>\n",
       "      <td>7203</td>\n",
       "      <td>6454</td>\n",
       "      <td>86</td>\n",
       "    </tr>\n",
       "    <tr>\n",
       "      <th>443562</th>\n",
       "      <td>User</td>\n",
       "      <td>vim-scripts</td>\n",
       "      <td>https://github.com/vim-scripts</td>\n",
       "      <td>Scrappy Scraper</td>\n",
       "      <td>https://vim-scraper.github.io/</td>\n",
       "      <td>None</td>\n",
       "      <td>None</td>\n",
       "      <td>None</td>\n",
       "      <td>False</td>\n",
       "      <td>2010-10-18 07:02:53+00:00</td>\n",
       "      <td>2020-03-23 17:26:41+00:00</td>\n",
       "      <td>4587</td>\n",
       "      <td>0</td>\n",
       "      <td>5208</td>\n",
       "      <td>0</td>\n",
       "    </tr>\n",
       "  </tbody>\n",
       "</table>\n",
       "</div>"
      ]
     },
     "execution_count": 24,
     "metadata": {},
     "output_type": "execute_result"
    }
   ],
   "execution_count": 24
  },
  {
   "metadata": {},
   "cell_type": "markdown",
   "source": [
    "Of the popular users, Cogito Ergo Sum has the most public repositories with over 18.000 repositories, almost all of which are forks.\n",
    "This is also the case for many other accounts, except vim-scripts, which provides a GitHub mirror for some Vim scripts and has more than 5000 source repositories."
   ],
   "id": "f04288284ed4daae"
  },
  {
   "metadata": {},
   "cell_type": "markdown",
   "source": "### Organization Accounts",
   "id": "d89907fd667589b3"
  },
  {
   "metadata": {
    "ExecuteTime": {
     "end_time": "2024-07-16T15:24:59.494545Z",
     "start_time": "2024-07-16T15:24:59.476222Z"
    }
   },
   "cell_type": "code",
   "source": "organizations[\"public_repositories_count\"].describe()",
   "id": "5dca4d51571906b6",
   "outputs": [
    {
     "data": {
      "text/plain": [
       "count      684.000000\n",
       "mean       292.612573\n",
       "std       1707.420727\n",
       "min          0.000000\n",
       "25%         24.000000\n",
       "50%         64.000000\n",
       "75%        159.500000\n",
       "max      31444.000000\n",
       "Name: public_repositories_count, dtype: float64"
      ]
     },
     "execution_count": 25,
     "metadata": {},
     "output_type": "execute_result"
    }
   ],
   "execution_count": 25
  },
  {
   "metadata": {
    "ExecuteTime": {
     "end_time": "2024-07-16T15:25:00.459859Z",
     "start_time": "2024-07-16T15:24:59.563151Z"
    }
   },
   "cell_type": "code",
   "source": "organizations[\"public_repositories_count\"].plot.hist(bins=50, logy=True, xlabel=\"Number of public repositories\", ylabel=\"Frequency (log)\")",
   "id": "bd6478541b01d438",
   "outputs": [
    {
     "data": {
      "text/plain": [
       "<Axes: xlabel='Number of public repositories', ylabel='Frequency (log)'>"
      ]
     },
     "execution_count": 26,
     "metadata": {},
     "output_type": "execute_result"
    },
    {
     "data": {
      "text/plain": [
       "<Figure size 640x480 with 1 Axes>"
      ],
      "image/png": "[encoded data removed]"
     },
     "metadata": {},
     "output_type": "display_data"
    }
   ],
   "execution_count": 26
  },
  {
   "metadata": {
    "ExecuteTime": {
     "end_time": "2024-07-16T15:25:00.501678Z",
     "start_time": "2024-07-16T15:25:00.464851Z"
    }
   },
   "cell_type": "code",
   "source": "organizations.sort_values(by=\"public_repositories_count\", ascending=False).head()",
   "id": "11f4710753a37d46",
   "outputs": [
    {
     "data": {
      "text/plain": [
       "                  type          username                                  url  \\\n",
       "id                                                                              \n",
       "16607406  Organization     4GeeksAcademy     https://github.com/4GeeksAcademy   \n",
       "6323616   Organization  londonappbrewery  https://github.com/londonappbrewery   \n",
       "10974906  Organization   PacktPublishing   https://github.com/PacktPublishing   \n",
       "6154722   Organization         microsoft         https://github.com/microsoft   \n",
       "8931462   Organization       aws-samples       https://github.com/aws-samples   \n",
       "\n",
       "                        name                          homepage  \\\n",
       "id                                                               \n",
       "16607406      4Geeks Academy      http://www.4geeksacademy.com   \n",
       "6323616   London App Brewery         https://www.appbrewery.co   \n",
       "10974906               Packt          https://www.packtpub.com   \n",
       "6154722            Microsoft  https://opensource.microsoft.com   \n",
       "8931462          AWS Samples            https://amazon.com/aws   \n",
       "\n",
       "                              email company  \\\n",
       "id                                            \n",
       "16607406     info@4geeksacademy.com    None   \n",
       "6323616   info@londonappbrewery.com    None   \n",
       "10974906                       None    None   \n",
       "6154722    opensource@microsoft.com    None   \n",
       "8931462                        None    None   \n",
       "\n",
       "                                                   location  hireable  \\\n",
       "id                                                                      \n",
       "16607406  Online, Madrid, Miami, Santiago de Chile and C...     False   \n",
       "6323616                                              London     False   \n",
       "10974906                                     Birmingham, UK     False   \n",
       "6154722                                         Redmond, WA     False   \n",
       "8931462                                                None     False   \n",
       "\n",
       "                        created_at                updated_at  followers_count  \\\n",
       "id                                                                              \n",
       "16607406 2016-01-08 09:16:02+00:00 2023-11-01 14:42:44+00:00             1787   \n",
       "6323616  2014-01-05 15:37:11+00:00 2020-01-26 00:53:50+00:00             3192   \n",
       "10974906 2015-02-12 10:36:37+00:00 2022-11-10 12:04:42+00:00            12047   \n",
       "6154722  2013-12-10 19:06:48+00:00 2024-02-09 18:50:14+00:00            71498   \n",
       "8931462  2014-09-26 17:29:50+00:00 2023-05-10 20:47:04+00:00            11259   \n",
       "\n",
       "          following_count  public_repositories_count  public_gists_count  \n",
       "id                                                                        \n",
       "16607406                0                      31444                   0  \n",
       "6323616                 0                      28182                   0  \n",
       "10974906                0                       8563                   0  \n",
       "6154722                 0                       6271                   0  \n",
       "8931462                 0                       6208                   0  "
      ],
      "text/html": [
       "<div>\n",
       "<style scoped>\n",
       "    .dataframe tbody tr th:only-of-type {\n",
       "        vertical-align: middle;\n",
       "    }\n",
       "\n",
       "    .dataframe tbody tr th {\n",
       "        vertical-align: top;\n",
       "    }\n",
       "\n",
       "    .dataframe thead th {\n",
       "        text-align: right;\n",
       "    }\n",
       "</style>\n",
       "<table border=\"1\" class=\"dataframe\">\n",
       "  <thead>\n",
       "    <tr style=\"text-align: right;\">\n",
       "      <th></th>\n",
       "      <th>type</th>\n",
       "      <th>username</th>\n",
       "      <th>url</th>\n",
       "      <th>name</th>\n",
       "      <th>homepage</th>\n",
       "      <th>email</th>\n",
       "      <th>company</th>\n",
       "      <th>location</th>\n",
       "      <th>hireable</th>\n",
       "      <th>created_at</th>\n",
       "      <th>updated_at</th>\n",
       "      <th>followers_count</th>\n",
       "      <th>following_count</th>\n",
       "      <th>public_repositories_count</th>\n",
       "      <th>public_gists_count</th>\n",
       "    </tr>\n",
       "    <tr>\n",
       "      <th>id</th>\n",
       "      <th></th>\n",
       "      <th></th>\n",
       "      <th></th>\n",
       "      <th></th>\n",
       "      <th></th>\n",
       "      <th></th>\n",
       "      <th></th>\n",
       "      <th></th>\n",
       "      <th></th>\n",
       "      <th></th>\n",
       "      <th></th>\n",
       "      <th></th>\n",
       "      <th></th>\n",
       "      <th></th>\n",
       "      <th></th>\n",
       "    </tr>\n",
       "  </thead>\n",
       "  <tbody>\n",
       "    <tr>\n",
       "      <th>16607406</th>\n",
       "      <td>Organization</td>\n",
       "      <td>4GeeksAcademy</td>\n",
       "      <td>https://github.com/4GeeksAcademy</td>\n",
       "      <td>4Geeks Academy</td>\n",
       "      <td>http://www.4geeksacademy.com</td>\n",
       "      <td>info@4geeksacademy.com</td>\n",
       "      <td>None</td>\n",
       "      <td>Online, Madrid, Miami, Santiago de Chile and C...</td>\n",
       "      <td>False</td>\n",
       "      <td>2016-01-08 09:16:02+00:00</td>\n",
       "      <td>2023-11-01 14:42:44+00:00</td>\n",
       "      <td>1787</td>\n",
       "      <td>0</td>\n",
       "      <td>31444</td>\n",
       "      <td>0</td>\n",
       "    </tr>\n",
       "    <tr>\n",
       "      <th>6323616</th>\n",
       "      <td>Organization</td>\n",
       "      <td>londonappbrewery</td>\n",
       "      <td>https://github.com/londonappbrewery</td>\n",
       "      <td>London App Brewery</td>\n",
       "      <td>https://www.appbrewery.co</td>\n",
       "      <td>info@londonappbrewery.com</td>\n",
       "      <td>None</td>\n",
       "      <td>London</td>\n",
       "      <td>False</td>\n",
       "      <td>2014-01-05 15:37:11+00:00</td>\n",
       "      <td>2020-01-26 00:53:50+00:00</td>\n",
       "      <td>3192</td>\n",
       "      <td>0</td>\n",
       "      <td>28182</td>\n",
       "      <td>0</td>\n",
       "    </tr>\n",
       "    <tr>\n",
       "      <th>10974906</th>\n",
       "      <td>Organization</td>\n",
       "      <td>PacktPublishing</td>\n",
       "      <td>https://github.com/PacktPublishing</td>\n",
       "      <td>Packt</td>\n",
       "      <td>https://www.packtpub.com</td>\n",
       "      <td>None</td>\n",
       "      <td>None</td>\n",
       "      <td>Birmingham, UK</td>\n",
       "      <td>False</td>\n",
       "      <td>2015-02-12 10:36:37+00:00</td>\n",
       "      <td>2022-11-10 12:04:42+00:00</td>\n",
       "      <td>12047</td>\n",
       "      <td>0</td>\n",
       "      <td>8563</td>\n",
       "      <td>0</td>\n",
       "    </tr>\n",
       "    <tr>\n",
       "      <th>6154722</th>\n",
       "      <td>Organization</td>\n",
       "      <td>microsoft</td>\n",
       "      <td>https://github.com/microsoft</td>\n",
       "      <td>Microsoft</td>\n",
       "      <td>https://opensource.microsoft.com</td>\n",
       "      <td>opensource@microsoft.com</td>\n",
       "      <td>None</td>\n",
       "      <td>Redmond, WA</td>\n",
       "      <td>False</td>\n",
       "      <td>2013-12-10 19:06:48+00:00</td>\n",
       "      <td>2024-02-09 18:50:14+00:00</td>\n",
       "      <td>71498</td>\n",
       "      <td>0</td>\n",
       "      <td>6271</td>\n",
       "      <td>0</td>\n",
       "    </tr>\n",
       "    <tr>\n",
       "      <th>8931462</th>\n",
       "      <td>Organization</td>\n",
       "      <td>aws-samples</td>\n",
       "      <td>https://github.com/aws-samples</td>\n",
       "      <td>AWS Samples</td>\n",
       "      <td>https://amazon.com/aws</td>\n",
       "      <td>None</td>\n",
       "      <td>None</td>\n",
       "      <td>None</td>\n",
       "      <td>False</td>\n",
       "      <td>2014-09-26 17:29:50+00:00</td>\n",
       "      <td>2023-05-10 20:47:04+00:00</td>\n",
       "      <td>11259</td>\n",
       "      <td>0</td>\n",
       "      <td>6208</td>\n",
       "      <td>0</td>\n",
       "    </tr>\n",
       "  </tbody>\n",
       "</table>\n",
       "</div>"
      ]
     },
     "execution_count": 27,
     "metadata": {},
     "output_type": "execute_result"
    }
   ],
   "execution_count": 27
  },
  {
   "metadata": {},
   "cell_type": "markdown",
   "source": [
    "On our list, 4Geeks Academy has the most public repositories, almost all of which are source repositories.\n",
    "This is also the case for London App Brewery, which is again the platform for learning programming.\n",
    "Out of popular companies, Microsoft has the most public repositories, with over 6000."
   ],
   "id": "e8eed4b6335383ff"
  },
  {
   "metadata": {},
   "cell_type": "markdown",
   "source": "### Number of Public Gists",
   "id": "b0bfa19c57e6e636"
  },
  {
   "metadata": {},
   "cell_type": "markdown",
   "source": "#### All Accounts",
   "id": "440683fe2903235b"
  },
  {
   "metadata": {
    "ExecuteTime": {
     "end_time": "2024-07-16T15:25:00.529023Z",
     "start_time": "2024-07-16T15:25:00.505674Z"
    }
   },
   "cell_type": "code",
   "source": "df[\"public_gists_count\"].describe()",
   "id": "c5dbe89550a097b0",
   "outputs": [
    {
     "data": {
      "text/plain": [
       "count    5000.00000\n",
       "mean       34.32520\n",
       "std       112.84488\n",
       "min         0.00000\n",
       "25%         0.00000\n",
       "50%         4.00000\n",
       "75%        28.00000\n",
       "max      3112.00000\n",
       "Name: public_gists_count, dtype: float64"
      ]
     },
     "execution_count": 28,
     "metadata": {},
     "output_type": "execute_result"
    }
   ],
   "execution_count": 28
  },
  {
   "metadata": {
    "ExecuteTime": {
     "end_time": "2024-07-16T15:25:01.700388Z",
     "start_time": "2024-07-16T15:25:00.604817Z"
    }
   },
   "cell_type": "code",
   "source": "df[\"public_gists_count\"].plot.hist(bins=50, logy=True, xlabel=\"Number of public gists\", ylabel=\"Frequency (log)\")",
   "id": "2aef0ff4ebf6cc1d",
   "outputs": [
    {
     "data": {
      "text/plain": [
       "<Axes: xlabel='Number of public gists', ylabel='Frequency (log)'>"
      ]
     },
     "execution_count": 29,
     "metadata": {},
     "output_type": "execute_result"
    },
    {
     "data": {
      "text/plain": [
       "<Figure size 640x480 with 1 Axes>"
      ],
      "image/png": "[encoded data removed]"
     },
     "metadata": {},
     "output_type": "display_data"
    }
   ],
   "execution_count": 29
  },
  {
   "metadata": {},
   "cell_type": "markdown",
   "source": [
    "Almost all accounts have less than 30 public gists.\n",
    "However, the accounts were not collected based on the number of their gists, so there may exist accounts with more. "
   ],
   "id": "efd82c8c9dd494a4"
  },
  {
   "metadata": {},
   "cell_type": "markdown",
   "source": "#### User Accounts",
   "id": "773988e4d2310bed"
  },
  {
   "metadata": {
    "ExecuteTime": {
     "end_time": "2024-07-16T15:25:01.720574Z",
     "start_time": "2024-07-16T15:25:01.704383Z"
    }
   },
   "cell_type": "code",
   "source": "users[\"public_gists_count\"].describe()",
   "id": "f34000c671a05a7b",
   "outputs": [
    {
     "data": {
      "text/plain": [
       "count    4316.000000\n",
       "mean       39.751622\n",
       "std       120.569990\n",
       "min         0.000000\n",
       "25%         0.000000\n",
       "50%         7.000000\n",
       "75%        34.000000\n",
       "max      3112.000000\n",
       "Name: public_gists_count, dtype: float64"
      ]
     },
     "execution_count": 30,
     "metadata": {},
     "output_type": "execute_result"
    }
   ],
   "execution_count": 30
  },
  {
   "metadata": {
    "ExecuteTime": {
     "end_time": "2024-07-16T15:25:02.656752Z",
     "start_time": "2024-07-16T15:25:01.778521Z"
    }
   },
   "cell_type": "code",
   "source": "users[\"public_gists_count\"].plot.hist(bins=50, logy=True, xlabel=\"Number of public gists\", ylabel=\"Frequency (log)\")",
   "id": "11323617e068e11a",
   "outputs": [
    {
     "data": {
      "text/plain": [
       "<Axes: xlabel='Number of public gists', ylabel='Frequency (log)'>"
      ]
     },
     "execution_count": 31,
     "metadata": {},
     "output_type": "execute_result"
    },
    {
     "data": {
      "text/plain": [
       "<Figure size 640x480 with 1 Axes>"
      ],
      "image/png": "[encoded data removed]"
     },
     "metadata": {},
     "output_type": "display_data"
    }
   ],
   "execution_count": 31
  },
  {
   "metadata": {
    "ExecuteTime": {
     "end_time": "2024-07-16T15:25:02.703246Z",
     "start_time": "2024-07-16T15:25:02.660787Z"
    }
   },
   "cell_type": "code",
   "source": "users.sort_values(by=\"public_gists_count\", ascending=False).head()",
   "id": "4c50210229fb9585",
   "outputs": [
    {
     "data": {
      "text/plain": [
       "         type      username                              url           name  \\\n",
       "id                                                                            \n",
       "563690   User      bennadel      https://github.com/bennadel      Ben Nadel   \n",
       "10111    User         mattn         https://github.com/mattn          mattn   \n",
       "32314    User          tmcw          https://github.com/tmcw  Tom MacWright   \n",
       "2041322  User       hanxiao       https://github.com/hanxiao       Han Xiao   \n",
       "6745730  User  NetanelBasal  https://github.com/NetanelBasal  Netanel Basal   \n",
       "\n",
       "                           homepage               email          company  \\\n",
       "id                                                                         \n",
       "563690     https://www.bennadel.com                None  Kinky Solutions   \n",
       "10111    https://mattn.kaoriya.net/  mattn.jp@gmail.com             None   \n",
       "32314        https://macwright.com/                None        @val-town   \n",
       "2041322                     jina.ai    han.xiao@jina.ai         @jina-ai   \n",
       "6745730    https://www.netbasal.com                None             None   \n",
       "\n",
       "                  location  hireable                created_at  \\\n",
       "id                                                               \n",
       "563690       Rhinebeck, NY     False 2011-01-13 23:19:16+00:00   \n",
       "10111         Osaka, Japan     False 2008-05-13 01:17:13+00:00   \n",
       "32314    brooklyn new york     False 2008-11-02 23:44:49+00:00   \n",
       "2041322    Berlin, Germany     False 2012-07-25 15:52:49+00:00   \n",
       "6745730             Israel     False 2014-02-21 07:56:17+00:00   \n",
       "\n",
       "                       updated_at  followers_count  following_count  \\\n",
       "id                                                                    \n",
       "563690  2024-07-10 18:34:16+00:00             2152                0   \n",
       "10111   2024-06-08 08:35:59+00:00            12058             1703   \n",
       "32314   2024-07-12 20:53:31+00:00             3435              223   \n",
       "2041322 2024-07-07 11:20:27+00:00             3791               36   \n",
       "6745730 2024-06-24 11:25:57+00:00             1571                0   \n",
       "\n",
       "         public_repositories_count  public_gists_count  \n",
       "id                                                      \n",
       "563690                         132                3112  \n",
       "10111                         1994                1936  \n",
       "32314                          302                1806  \n",
       "2041322                        106                1769  \n",
       "6745730                        189                1750  "
      ],
      "text/html": [
       "<div>\n",
       "<style scoped>\n",
       "    .dataframe tbody tr th:only-of-type {\n",
       "        vertical-align: middle;\n",
       "    }\n",
       "\n",
       "    .dataframe tbody tr th {\n",
       "        vertical-align: top;\n",
       "    }\n",
       "\n",
       "    .dataframe thead th {\n",
       "        text-align: right;\n",
       "    }\n",
       "</style>\n",
       "<table border=\"1\" class=\"dataframe\">\n",
       "  <thead>\n",
       "    <tr style=\"text-align: right;\">\n",
       "      <th></th>\n",
       "      <th>type</th>\n",
       "      <th>username</th>\n",
       "      <th>url</th>\n",
       "      <th>name</th>\n",
       "      <th>homepage</th>\n",
       "      <th>email</th>\n",
       "      <th>company</th>\n",
       "      <th>location</th>\n",
       "      <th>hireable</th>\n",
       "      <th>created_at</th>\n",
       "      <th>updated_at</th>\n",
       "      <th>followers_count</th>\n",
       "      <th>following_count</th>\n",
       "      <th>public_repositories_count</th>\n",
       "      <th>public_gists_count</th>\n",
       "    </tr>\n",
       "    <tr>\n",
       "      <th>id</th>\n",
       "      <th></th>\n",
       "      <th></th>\n",
       "      <th></th>\n",
       "      <th></th>\n",
       "      <th></th>\n",
       "      <th></th>\n",
       "      <th></th>\n",
       "      <th></th>\n",
       "      <th></th>\n",
       "      <th></th>\n",
       "      <th></th>\n",
       "      <th></th>\n",
       "      <th></th>\n",
       "      <th></th>\n",
       "      <th></th>\n",
       "    </tr>\n",
       "  </thead>\n",
       "  <tbody>\n",
       "    <tr>\n",
       "      <th>563690</th>\n",
       "      <td>User</td>\n",
       "      <td>bennadel</td>\n",
       "      <td>https://github.com/bennadel</td>\n",
       "      <td>Ben Nadel</td>\n",
       "      <td>https://www.bennadel.com</td>\n",
       "      <td>None</td>\n",
       "      <td>Kinky Solutions</td>\n",
       "      <td>Rhinebeck, NY</td>\n",
       "      <td>False</td>\n",
       "      <td>2011-01-13 23:19:16+00:00</td>\n",
       "      <td>2024-07-10 18:34:16+00:00</td>\n",
       "      <td>2152</td>\n",
       "      <td>0</td>\n",
       "      <td>132</td>\n",
       "      <td>3112</td>\n",
       "    </tr>\n",
       "    <tr>\n",
       "      <th>10111</th>\n",
       "      <td>User</td>\n",
       "      <td>mattn</td>\n",
       "      <td>https://github.com/mattn</td>\n",
       "      <td>mattn</td>\n",
       "      <td>https://mattn.kaoriya.net/</td>\n",
       "      <td>mattn.jp@gmail.com</td>\n",
       "      <td>None</td>\n",
       "      <td>Osaka, Japan</td>\n",
       "      <td>False</td>\n",
       "      <td>2008-05-13 01:17:13+00:00</td>\n",
       "      <td>2024-06-08 08:35:59+00:00</td>\n",
       "      <td>12058</td>\n",
       "      <td>1703</td>\n",
       "      <td>1994</td>\n",
       "      <td>1936</td>\n",
       "    </tr>\n",
       "    <tr>\n",
       "      <th>32314</th>\n",
       "      <td>User</td>\n",
       "      <td>tmcw</td>\n",
       "      <td>https://github.com/tmcw</td>\n",
       "      <td>Tom MacWright</td>\n",
       "      <td>https://macwright.com/</td>\n",
       "      <td>None</td>\n",
       "      <td>@val-town</td>\n",
       "      <td>brooklyn new york</td>\n",
       "      <td>False</td>\n",
       "      <td>2008-11-02 23:44:49+00:00</td>\n",
       "      <td>2024-07-12 20:53:31+00:00</td>\n",
       "      <td>3435</td>\n",
       "      <td>223</td>\n",
       "      <td>302</td>\n",
       "      <td>1806</td>\n",
       "    </tr>\n",
       "    <tr>\n",
       "      <th>2041322</th>\n",
       "      <td>User</td>\n",
       "      <td>hanxiao</td>\n",
       "      <td>https://github.com/hanxiao</td>\n",
       "      <td>Han Xiao</td>\n",
       "      <td>jina.ai</td>\n",
       "      <td>han.xiao@jina.ai</td>\n",
       "      <td>@jina-ai</td>\n",
       "      <td>Berlin, Germany</td>\n",
       "      <td>False</td>\n",
       "      <td>2012-07-25 15:52:49+00:00</td>\n",
       "      <td>2024-07-07 11:20:27+00:00</td>\n",
       "      <td>3791</td>\n",
       "      <td>36</td>\n",
       "      <td>106</td>\n",
       "      <td>1769</td>\n",
       "    </tr>\n",
       "    <tr>\n",
       "      <th>6745730</th>\n",
       "      <td>User</td>\n",
       "      <td>NetanelBasal</td>\n",
       "      <td>https://github.com/NetanelBasal</td>\n",
       "      <td>Netanel Basal</td>\n",
       "      <td>https://www.netbasal.com</td>\n",
       "      <td>None</td>\n",
       "      <td>None</td>\n",
       "      <td>Israel</td>\n",
       "      <td>False</td>\n",
       "      <td>2014-02-21 07:56:17+00:00</td>\n",
       "      <td>2024-06-24 11:25:57+00:00</td>\n",
       "      <td>1571</td>\n",
       "      <td>0</td>\n",
       "      <td>189</td>\n",
       "      <td>1750</td>\n",
       "    </tr>\n",
       "  </tbody>\n",
       "</table>\n",
       "</div>"
      ]
     },
     "execution_count": 32,
     "metadata": {},
     "output_type": "execute_result"
    }
   ],
   "execution_count": 32
  },
  {
   "metadata": {},
   "cell_type": "markdown",
   "source": "Most of the accounts with gists are users.",
   "id": "78cac30e160a707b"
  },
  {
   "metadata": {},
   "cell_type": "markdown",
   "source": "#### Organization Accounts",
   "id": "f61645986fc5f27c"
  },
  {
   "metadata": {
    "ExecuteTime": {
     "end_time": "2024-07-16T15:25:02.861243Z",
     "start_time": "2024-07-16T15:25:02.841883Z"
    }
   },
   "cell_type": "code",
   "source": "organizations[\"public_gists_count\"].describe()",
   "id": "c896b2235137b2ba",
   "outputs": [
    {
     "data": {
      "text/plain": [
       "count    684.000000\n",
       "mean       0.084795\n",
       "std        0.768221\n",
       "min        0.000000\n",
       "25%        0.000000\n",
       "50%        0.000000\n",
       "75%        0.000000\n",
       "max       12.000000\n",
       "Name: public_gists_count, dtype: float64"
      ]
     },
     "execution_count": 33,
     "metadata": {},
     "output_type": "execute_result"
    }
   ],
   "execution_count": 33
  },
  {
   "metadata": {
    "ExecuteTime": {
     "end_time": "2024-07-16T15:25:03.763173Z",
     "start_time": "2024-07-16T15:25:03.072958Z"
    }
   },
   "cell_type": "code",
   "source": "organizations[\"public_gists_count\"].plot.hist(bins=12, logy=True, xlabel=\"Number of public gists\", ylabel=\"Frequency (log)\")",
   "id": "82740027b96ef8b",
   "outputs": [
    {
     "data": {
      "text/plain": [
       "<Axes: xlabel='Number of public gists', ylabel='Frequency (log)'>"
      ]
     },
     "execution_count": 34,
     "metadata": {},
     "output_type": "execute_result"
    },
    {
     "data": {
      "text/plain": [
       "<Figure size 640x480 with 1 Axes>"
      ],
      "image/png": "[encoded data removed]"
     },
     "metadata": {},
     "output_type": "display_data"
    }
   ],
   "execution_count": 34
  },
  {
   "metadata": {
    "ExecuteTime": {
     "end_time": "2024-07-16T15:25:03.805237Z",
     "start_time": "2024-07-16T15:25:03.767199Z"
    }
   },
   "cell_type": "code",
   "source": "organizations.sort_values(by=\"public_gists_count\", ascending=False).head()",
   "id": "9c191a46d2d87214",
   "outputs": [
    {
     "data": {
      "text/plain": [
       "                 type      username                              url  \\\n",
       "id                                                                     \n",
       "69631    Organization      facebook      https://github.com/facebook   \n",
       "8085     Organization       Shopify       https://github.com/Shopify   \n",
       "5470001  Organization       lewagon       https://github.com/lewagon   \n",
       "9892522  Organization  freeCodeCamp  https://github.com/freeCodeCamp   \n",
       "82592    Organization        square        https://github.com/square   \n",
       "\n",
       "                     name                      homepage  \\\n",
       "id                                                        \n",
       "69631                Meta     https://opensource.fb.com   \n",
       "8085              Shopify  https://shopify.engineering/   \n",
       "5470001          Le Wagon       https://www.lewagon.com   \n",
       "9892522  freeCodeCamp.org      https://freecodecamp.org   \n",
       "82592              Square      https://square.github.io   \n",
       "\n",
       "                                   email company  \\\n",
       "id                                                 \n",
       "69631                               None    None   \n",
       "8085     engineering@shopify.engineering    None   \n",
       "5470001              contact@lewagon.com    None   \n",
       "9892522                             None    None   \n",
       "82592                               None    None   \n",
       "\n",
       "                             location  hireable                created_at  \\\n",
       "id                                                                          \n",
       "69631          Menlo Park, California     False 2009-04-02 03:35:22+00:00   \n",
       "8085                     The Internet     False 2008-04-21 18:02:10+00:00   \n",
       "5470001  Paris, London, Berlin & more     False 2013-09-16 13:20:52+00:00   \n",
       "9892522      United States of America     False 2014-11-22 00:12:57+00:00   \n",
       "82592                            None     False 2009-05-08 23:28:44+00:00   \n",
       "\n",
       "                       updated_at  followers_count  following_count  \\\n",
       "id                                                                    \n",
       "69631   2022-04-01 07:03:49+00:00            24173                0   \n",
       "8085    2023-06-30 18:58:31+00:00             5148                0   \n",
       "5470001 2024-01-26 00:07:32+00:00             3446                0   \n",
       "9892522 2024-07-09 07:31:20+00:00            24214                0   \n",
       "82592   2024-06-13 06:56:48+00:00             2100                0   \n",
       "\n",
       "         public_repositories_count  public_gists_count  \n",
       "id                                                      \n",
       "69631                          137                  12  \n",
       "8085                          1051                  10  \n",
       "5470001                        175                   9  \n",
       "9892522                        226                   5  \n",
       "82592                          294                   5  "
      ],
      "text/html": [
       "<div>\n",
       "<style scoped>\n",
       "    .dataframe tbody tr th:only-of-type {\n",
       "        vertical-align: middle;\n",
       "    }\n",
       "\n",
       "    .dataframe tbody tr th {\n",
       "        vertical-align: top;\n",
       "    }\n",
       "\n",
       "    .dataframe thead th {\n",
       "        text-align: right;\n",
       "    }\n",
       "</style>\n",
       "<table border=\"1\" class=\"dataframe\">\n",
       "  <thead>\n",
       "    <tr style=\"text-align: right;\">\n",
       "      <th></th>\n",
       "      <th>type</th>\n",
       "      <th>username</th>\n",
       "      <th>url</th>\n",
       "      <th>name</th>\n",
       "      <th>homepage</th>\n",
       "      <th>email</th>\n",
       "      <th>company</th>\n",
       "      <th>location</th>\n",
       "      <th>hireable</th>\n",
       "      <th>created_at</th>\n",
       "      <th>updated_at</th>\n",
       "      <th>followers_count</th>\n",
       "      <th>following_count</th>\n",
       "      <th>public_repositories_count</th>\n",
       "      <th>public_gists_count</th>\n",
       "    </tr>\n",
       "    <tr>\n",
       "      <th>id</th>\n",
       "      <th></th>\n",
       "      <th></th>\n",
       "      <th></th>\n",
       "      <th></th>\n",
       "      <th></th>\n",
       "      <th></th>\n",
       "      <th></th>\n",
       "      <th></th>\n",
       "      <th></th>\n",
       "      <th></th>\n",
       "      <th></th>\n",
       "      <th></th>\n",
       "      <th></th>\n",
       "      <th></th>\n",
       "      <th></th>\n",
       "    </tr>\n",
       "  </thead>\n",
       "  <tbody>\n",
       "    <tr>\n",
       "      <th>69631</th>\n",
       "      <td>Organization</td>\n",
       "      <td>facebook</td>\n",
       "      <td>https://github.com/facebook</td>\n",
       "      <td>Meta</td>\n",
       "      <td>https://opensource.fb.com</td>\n",
       "      <td>None</td>\n",
       "      <td>None</td>\n",
       "      <td>Menlo Park, California</td>\n",
       "      <td>False</td>\n",
       "      <td>2009-04-02 03:35:22+00:00</td>\n",
       "      <td>2022-04-01 07:03:49+00:00</td>\n",
       "      <td>24173</td>\n",
       "      <td>0</td>\n",
       "      <td>137</td>\n",
       "      <td>12</td>\n",
       "    </tr>\n",
       "    <tr>\n",
       "      <th>8085</th>\n",
       "      <td>Organization</td>\n",
       "      <td>Shopify</td>\n",
       "      <td>https://github.com/Shopify</td>\n",
       "      <td>Shopify</td>\n",
       "      <td>https://shopify.engineering/</td>\n",
       "      <td>engineering@shopify.engineering</td>\n",
       "      <td>None</td>\n",
       "      <td>The Internet</td>\n",
       "      <td>False</td>\n",
       "      <td>2008-04-21 18:02:10+00:00</td>\n",
       "      <td>2023-06-30 18:58:31+00:00</td>\n",
       "      <td>5148</td>\n",
       "      <td>0</td>\n",
       "      <td>1051</td>\n",
       "      <td>10</td>\n",
       "    </tr>\n",
       "    <tr>\n",
       "      <th>5470001</th>\n",
       "      <td>Organization</td>\n",
       "      <td>lewagon</td>\n",
       "      <td>https://github.com/lewagon</td>\n",
       "      <td>Le Wagon</td>\n",
       "      <td>https://www.lewagon.com</td>\n",
       "      <td>contact@lewagon.com</td>\n",
       "      <td>None</td>\n",
       "      <td>Paris, London, Berlin &amp; more</td>\n",
       "      <td>False</td>\n",
       "      <td>2013-09-16 13:20:52+00:00</td>\n",
       "      <td>2024-01-26 00:07:32+00:00</td>\n",
       "      <td>3446</td>\n",
       "      <td>0</td>\n",
       "      <td>175</td>\n",
       "      <td>9</td>\n",
       "    </tr>\n",
       "    <tr>\n",
       "      <th>9892522</th>\n",
       "      <td>Organization</td>\n",
       "      <td>freeCodeCamp</td>\n",
       "      <td>https://github.com/freeCodeCamp</td>\n",
       "      <td>freeCodeCamp.org</td>\n",
       "      <td>https://freecodecamp.org</td>\n",
       "      <td>None</td>\n",
       "      <td>None</td>\n",
       "      <td>United States of America</td>\n",
       "      <td>False</td>\n",
       "      <td>2014-11-22 00:12:57+00:00</td>\n",
       "      <td>2024-07-09 07:31:20+00:00</td>\n",
       "      <td>24214</td>\n",
       "      <td>0</td>\n",
       "      <td>226</td>\n",
       "      <td>5</td>\n",
       "    </tr>\n",
       "    <tr>\n",
       "      <th>82592</th>\n",
       "      <td>Organization</td>\n",
       "      <td>square</td>\n",
       "      <td>https://github.com/square</td>\n",
       "      <td>Square</td>\n",
       "      <td>https://square.github.io</td>\n",
       "      <td>None</td>\n",
       "      <td>None</td>\n",
       "      <td>None</td>\n",
       "      <td>False</td>\n",
       "      <td>2009-05-08 23:28:44+00:00</td>\n",
       "      <td>2024-06-13 06:56:48+00:00</td>\n",
       "      <td>2100</td>\n",
       "      <td>0</td>\n",
       "      <td>294</td>\n",
       "      <td>5</td>\n",
       "    </tr>\n",
       "  </tbody>\n",
       "</table>\n",
       "</div>"
      ]
     },
     "execution_count": 35,
     "metadata": {},
     "output_type": "execute_result"
    }
   ],
   "execution_count": 35
  },
  {
   "metadata": {},
   "cell_type": "markdown",
   "source": [
    "Only a few of the organizations on our list have any public gists.\n",
    "Popular organizations with the most gists are Facebook and Shopify."
   ],
   "id": "a5e24ad0c5af51ca"
  },
  {
   "metadata": {},
   "cell_type": "markdown",
   "source": "## Boolean Properties",
   "id": "f19b2840278c3ac4"
  },
  {
   "metadata": {},
   "cell_type": "markdown",
   "source": "We can also analyze a few interesting boolean properties about users.",
   "id": "4a8a3a0dc89e54af"
  },
  {
   "metadata": {
    "ExecuteTime": {
     "end_time": "2024-07-16T15:25:03.947425Z",
     "start_time": "2024-07-16T15:25:03.938716Z"
    }
   },
   "cell_type": "code",
   "source": [
    "def number_of_with_without(series: pd.Series, df: pd.DataFrame = df) -> (int, int):\n",
    "    \"\"\"Returns the number of rows that do and do not match the boolean series.\"\"\"\n",
    "    return df[series].shape[0], df[~series].shape[0]"
   ],
   "id": "1503432274b0bc2f",
   "outputs": [],
   "execution_count": 36
  },
  {
   "metadata": {
    "ExecuteTime": {
     "end_time": "2024-07-16T15:25:04.406370Z",
     "start_time": "2024-07-16T15:25:04.386654Z"
    }
   },
   "cell_type": "code",
   "source": [
    "# Number of accounts with/without name\n",
    "number_of_with_without(~df[\"name\"].isnull())"
   ],
   "id": "4b9bc6a7862d4cd5",
   "outputs": [
    {
     "data": {
      "text/plain": [
       "(4723, 277)"
      ]
     },
     "execution_count": 37,
     "metadata": {},
     "output_type": "execute_result"
    }
   ],
   "execution_count": 37
  },
  {
   "metadata": {
    "ExecuteTime": {
     "end_time": "2024-07-16T15:25:04.903169Z",
     "start_time": "2024-07-16T15:25:04.884741Z"
    }
   },
   "cell_type": "code",
   "source": [
    "# Number of accounts with/without homepage\n",
    "number_of_with_without(~df[\"homepage\"].isnull())"
   ],
   "id": "6c278d3e9fdacb9",
   "outputs": [
    {
     "data": {
      "text/plain": [
       "(3986, 1014)"
      ]
     },
     "execution_count": 38,
     "metadata": {},
     "output_type": "execute_result"
    }
   ],
   "execution_count": 38
  },
  {
   "metadata": {
    "ExecuteTime": {
     "end_time": "2024-07-16T15:25:05.185150Z",
     "start_time": "2024-07-16T15:25:05.167260Z"
    }
   },
   "cell_type": "code",
   "source": [
    "# Number of accounts with/without email\n",
    "number_of_with_without(~df[\"email\"].isnull())"
   ],
   "id": "a5005b8a4d6a4eeb",
   "outputs": [
    {
     "data": {
      "text/plain": [
       "(2451, 2549)"
      ]
     },
     "execution_count": 39,
     "metadata": {},
     "output_type": "execute_result"
    }
   ],
   "execution_count": 39
  },
  {
   "metadata": {
    "ExecuteTime": {
     "end_time": "2024-07-16T15:25:05.762711Z",
     "start_time": "2024-07-16T15:25:05.745169Z"
    }
   },
   "cell_type": "code",
   "source": [
    "# Number of accounts with/without location\n",
    "number_of_with_without(~df[\"location\"].isnull())"
   ],
   "id": "5b4e1df08ca1822a",
   "outputs": [
    {
     "data": {
      "text/plain": [
       "(3754, 1246)"
      ]
     },
     "execution_count": 40,
     "metadata": {},
     "output_type": "execute_result"
    }
   ],
   "execution_count": 40
  },
  {
   "metadata": {
    "ExecuteTime": {
     "end_time": "2024-07-16T15:25:05.951664Z",
     "start_time": "2024-07-16T15:25:05.931068Z"
    }
   },
   "cell_type": "code",
   "source": [
    "# Number of users with/without company\n",
    "number_of_with_without(~users[\"company\"].isnull(), users)"
   ],
   "id": "56df931f137f3248",
   "outputs": [
    {
     "data": {
      "text/plain": [
       "(2586, 1730)"
      ]
     },
     "execution_count": 41,
     "metadata": {},
     "output_type": "execute_result"
    }
   ],
   "execution_count": 41
  },
  {
   "metadata": {
    "ExecuteTime": {
     "end_time": "2024-07-16T15:25:06.367373Z",
     "start_time": "2024-07-16T15:25:06.352090Z"
    }
   },
   "cell_type": "code",
   "source": [
    "# Number of users that are hireable\n",
    "number_of_with_without(users[\"hireable\"], users)"
   ],
   "id": "adb92322c99f4974",
   "outputs": [
    {
     "data": {
      "text/plain": [
       "(1163, 3153)"
      ]
     },
     "execution_count": 42,
     "metadata": {},
     "output_type": "execute_result"
    }
   ],
   "execution_count": 42
  },
  {
   "metadata": {},
   "cell_type": "markdown",
   "source": [
    "Almost all the accounts have a name set, and only less than 300 do not.\n",
    "Most of the accounts also specify their homepage and the location.\n",
    "However, they are almost equally split on disclosing their email.\n",
    "More than half of the user accounts specify their company, and most of them are not hireable. "
   ],
   "id": "3e2a89203be63d28"
  },
  {
   "metadata": {},
   "cell_type": "markdown",
   "source": "## Date Properties",
   "id": "f8a01ccce97b1410"
  },
  {
   "metadata": {},
   "cell_type": "markdown",
   "source": "We know when each user was created and last updated.",
   "id": "27ddbe579d509738"
  },
  {
   "metadata": {},
   "cell_type": "markdown",
   "source": "### Created Date",
   "id": "95bc0d0cec28c01d"
  },
  {
   "metadata": {},
   "cell_type": "markdown",
   "source": "The created date contains the date and time when the account was created.",
   "id": "552c37830ddc5c42"
  },
  {
   "metadata": {
    "ExecuteTime": {
     "end_time": "2024-07-16T15:25:06.529036Z",
     "start_time": "2024-07-16T15:25:06.514026Z"
    }
   },
   "cell_type": "code",
   "source": "df[\"created_at\"].describe()",
   "id": "3cb36c2238a667cb",
   "outputs": [
    {
     "data": {
      "text/plain": [
       "count                                   5000\n",
       "mean     2014-04-16 00:30:05.969999872+00:00\n",
       "min                2007-10-20 05:24:19+00:00\n",
       "25%                2011-04-28 23:07:08+00:00\n",
       "50%         2013-09-20 08:31:09.500000+00:00\n",
       "75%         2016-10-18 02:18:39.500000+00:00\n",
       "max                2024-06-12 02:05:28+00:00\n",
       "Name: created_at, dtype: object"
      ]
     },
     "execution_count": 43,
     "metadata": {},
     "output_type": "execute_result"
    }
   ],
   "execution_count": 43
  },
  {
   "metadata": {
    "ExecuteTime": {
     "end_time": "2024-07-16T15:25:06.863046Z",
     "start_time": "2024-07-16T15:25:06.822879Z"
    }
   },
   "cell_type": "code",
   "source": "users.sort_values(by=\"created_at\")",
   "id": "211a31c1a20cc8eb",
   "outputs": [
    {
     "data": {
      "text/plain": [
       "           type         username                                 url  \\\n",
       "id                                                                     \n",
       "2          User          defunkt          https://github.com/defunkt   \n",
       "1          User          mojombo          https://github.com/mojombo   \n",
       "3          User          pjhyett          https://github.com/pjhyett   \n",
       "4          User           wycats           https://github.com/wycats   \n",
       "7          User          evanphx          https://github.com/evanphx   \n",
       "...         ...              ...                                 ...   \n",
       "167228919  User       NitrixXero       https://github.com/NitrixXero   \n",
       "170892541  User    LegendaryNaix    https://github.com/LegendaryNaix   \n",
       "171361497  User  MightyTechNinja  https://github.com/MightyTechNinja   \n",
       "171626795  User          Octonho          https://github.com/Octonho   \n",
       "172458433  User   iurysantos-hub   https://github.com/iurysantos-hub   \n",
       "\n",
       "                         name                       homepage  \\\n",
       "id                                                             \n",
       "2             Chris Wanstrath     http://chriswanstrath.com/   \n",
       "1          Tom Preston-Werner  http://tom.preston-werner.com   \n",
       "3                    PJ Hyett              https://hyett.com   \n",
       "4                 Yehuda Katz          http://yehudakatz.com   \n",
       "7                Evan Phoenix            https://evanphx.dev   \n",
       "...                       ...                            ...   \n",
       "167228919       Elijah Gordon                           None   \n",
       "170892541   Super Coding Star                           None   \n",
       "171361497     MightyTechNinja                           None   \n",
       "171626795                Octo                           None   \n",
       "172458433                iury                           None   \n",
       "\n",
       "                               email  \\\n",
       "id                                     \n",
       "2                               None   \n",
       "1                    tom@mojombo.com   \n",
       "3                       pj@hyett.com   \n",
       "4                   wycats@gmail.com   \n",
       "7                        evan@phx.io   \n",
       "...                              ...   \n",
       "167228919                       None   \n",
       "170892541  LegendaryNaix@outlook.com   \n",
       "171361497  mightytechninja@gmail.com   \n",
       "171626795                       None   \n",
       "172458433                       None   \n",
       "\n",
       "                                                     company         location  \\\n",
       "id                                                                              \n",
       "2                                                       None             None   \n",
       "1          @chatterbugapp, @redwoodjs, @preston-werner-ve...    San Francisco   \n",
       "3                                               GitHub, Inc.    San Francisco   \n",
       "4                                                  @tildeio      Portland, OR   \n",
       "7                                                @hashicorp   Los Angeles, CA   \n",
       "...                                                      ...              ...   \n",
       "167228919                                               None           Greece   \n",
       "170892541                                               None             None   \n",
       "171361497                                 Personal Developer             None   \n",
       "171626795                                               None           Brazil   \n",
       "172458433                                               None             None   \n",
       "\n",
       "           hireable                created_at                updated_at  \\\n",
       "id                                                                        \n",
       "2             False 2007-10-20 05:24:19+00:00 2024-05-25 22:31:18+00:00   \n",
       "1             False 2007-10-20 05:24:19+00:00 2024-06-20 20:33:22+00:00   \n",
       "3             False 2008-01-07 17:54:22+00:00 2024-01-22 12:11:10+00:00   \n",
       "4             False 2008-01-12 05:38:33+00:00 2024-07-08 19:34:07+00:00   \n",
       "7             False 2008-01-12 16:46:24+00:00 2024-06-30 22:20:05+00:00   \n",
       "...             ...                       ...                       ...   \n",
       "167228919     False 2024-04-16 16:00:05+00:00 2024-05-24 22:12:45+00:00   \n",
       "170892541      True 2024-05-26 20:46:38+00:00 2024-07-10 17:29:18+00:00   \n",
       "171361497     False 2024-05-31 15:19:10+00:00 2024-07-12 11:56:57+00:00   \n",
       "171626795     False 2024-06-03 21:35:00+00:00 2024-07-11 20:07:36+00:00   \n",
       "172458433     False 2024-06-12 02:05:28+00:00 2024-06-12 03:15:17+00:00   \n",
       "\n",
       "           followers_count  following_count  public_repositories_count  \\\n",
       "id                                                                       \n",
       "2                    22325              215                        107   \n",
       "1                    23948               11                         66   \n",
       "3                     8289               30                          8   \n",
       "4                    10204               13                        294   \n",
       "7                     1633                9                        182   \n",
       "...                    ...              ...                        ...   \n",
       "167228919             1329                0                         15   \n",
       "170892541             1527             3677                         49   \n",
       "171361497             1423             1949                         35   \n",
       "171626795             1544               83                          2   \n",
       "172458433             1931             7465                          3   \n",
       "\n",
       "           public_gists_count  \n",
       "id                             \n",
       "2                         274  \n",
       "1                          62  \n",
       "3                          21  \n",
       "4                         763  \n",
       "7                         445  \n",
       "...                       ...  \n",
       "167228919                   0  \n",
       "170892541                   0  \n",
       "171361497                   0  \n",
       "171626795                   0  \n",
       "172458433                   0  \n",
       "\n",
       "[4316 rows x 15 columns]"
      ],
      "text/html": [
       "<div>\n",
       "<style scoped>\n",
       "    .dataframe tbody tr th:only-of-type {\n",
       "        vertical-align: middle;\n",
       "    }\n",
       "\n",
       "    .dataframe tbody tr th {\n",
       "        vertical-align: top;\n",
       "    }\n",
       "\n",
       "    .dataframe thead th {\n",
       "        text-align: right;\n",
       "    }\n",
       "</style>\n",
       "<table border=\"1\" class=\"dataframe\">\n",
       "  <thead>\n",
       "    <tr style=\"text-align: right;\">\n",
       "      <th></th>\n",
       "      <th>type</th>\n",
       "      <th>username</th>\n",
       "      <th>url</th>\n",
       "      <th>name</th>\n",
       "      <th>homepage</th>\n",
       "      <th>email</th>\n",
       "      <th>company</th>\n",
       "      <th>location</th>\n",
       "      <th>hireable</th>\n",
       "      <th>created_at</th>\n",
       "      <th>updated_at</th>\n",
       "      <th>followers_count</th>\n",
       "      <th>following_count</th>\n",
       "      <th>public_repositories_count</th>\n",
       "      <th>public_gists_count</th>\n",
       "    </tr>\n",
       "    <tr>\n",
       "      <th>id</th>\n",
       "      <th></th>\n",
       "      <th></th>\n",
       "      <th></th>\n",
       "      <th></th>\n",
       "      <th></th>\n",
       "      <th></th>\n",
       "      <th></th>\n",
       "      <th></th>\n",
       "      <th></th>\n",
       "      <th></th>\n",
       "      <th></th>\n",
       "      <th></th>\n",
       "      <th></th>\n",
       "      <th></th>\n",
       "      <th></th>\n",
       "    </tr>\n",
       "  </thead>\n",
       "  <tbody>\n",
       "    <tr>\n",
       "      <th>2</th>\n",
       "      <td>User</td>\n",
       "      <td>defunkt</td>\n",
       "      <td>https://github.com/defunkt</td>\n",
       "      <td>Chris Wanstrath</td>\n",
       "      <td>http://chriswanstrath.com/</td>\n",
       "      <td>None</td>\n",
       "      <td>None</td>\n",
       "      <td>None</td>\n",
       "      <td>False</td>\n",
       "      <td>2007-10-20 05:24:19+00:00</td>\n",
       "      <td>2024-05-25 22:31:18+00:00</td>\n",
       "      <td>22325</td>\n",
       "      <td>215</td>\n",
       "      <td>107</td>\n",
       "      <td>274</td>\n",
       "    </tr>\n",
       "    <tr>\n",
       "      <th>1</th>\n",
       "      <td>User</td>\n",
       "      <td>mojombo</td>\n",
       "      <td>https://github.com/mojombo</td>\n",
       "      <td>Tom Preston-Werner</td>\n",
       "      <td>http://tom.preston-werner.com</td>\n",
       "      <td>tom@mojombo.com</td>\n",
       "      <td>@chatterbugapp, @redwoodjs, @preston-werner-ve...</td>\n",
       "      <td>San Francisco</td>\n",
       "      <td>False</td>\n",
       "      <td>2007-10-20 05:24:19+00:00</td>\n",
       "      <td>2024-06-20 20:33:22+00:00</td>\n",
       "      <td>23948</td>\n",
       "      <td>11</td>\n",
       "      <td>66</td>\n",
       "      <td>62</td>\n",
       "    </tr>\n",
       "    <tr>\n",
       "      <th>3</th>\n",
       "      <td>User</td>\n",
       "      <td>pjhyett</td>\n",
       "      <td>https://github.com/pjhyett</td>\n",
       "      <td>PJ Hyett</td>\n",
       "      <td>https://hyett.com</td>\n",
       "      <td>pj@hyett.com</td>\n",
       "      <td>GitHub, Inc.</td>\n",
       "      <td>San Francisco</td>\n",
       "      <td>False</td>\n",
       "      <td>2008-01-07 17:54:22+00:00</td>\n",
       "      <td>2024-01-22 12:11:10+00:00</td>\n",
       "      <td>8289</td>\n",
       "      <td>30</td>\n",
       "      <td>8</td>\n",
       "      <td>21</td>\n",
       "    </tr>\n",
       "    <tr>\n",
       "      <th>4</th>\n",
       "      <td>User</td>\n",
       "      <td>wycats</td>\n",
       "      <td>https://github.com/wycats</td>\n",
       "      <td>Yehuda Katz</td>\n",
       "      <td>http://yehudakatz.com</td>\n",
       "      <td>wycats@gmail.com</td>\n",
       "      <td>@tildeio</td>\n",
       "      <td>Portland, OR</td>\n",
       "      <td>False</td>\n",
       "      <td>2008-01-12 05:38:33+00:00</td>\n",
       "      <td>2024-07-08 19:34:07+00:00</td>\n",
       "      <td>10204</td>\n",
       "      <td>13</td>\n",
       "      <td>294</td>\n",
       "      <td>763</td>\n",
       "    </tr>\n",
       "    <tr>\n",
       "      <th>7</th>\n",
       "      <td>User</td>\n",
       "      <td>evanphx</td>\n",
       "      <td>https://github.com/evanphx</td>\n",
       "      <td>Evan Phoenix</td>\n",
       "      <td>https://evanphx.dev</td>\n",
       "      <td>evan@phx.io</td>\n",
       "      <td>@hashicorp</td>\n",
       "      <td>Los Angeles, CA</td>\n",
       "      <td>False</td>\n",
       "      <td>2008-01-12 16:46:24+00:00</td>\n",
       "      <td>2024-06-30 22:20:05+00:00</td>\n",
       "      <td>1633</td>\n",
       "      <td>9</td>\n",
       "      <td>182</td>\n",
       "      <td>445</td>\n",
       "    </tr>\n",
       "    <tr>\n",
       "      <th>...</th>\n",
       "      <td>...</td>\n",
       "      <td>...</td>\n",
       "      <td>...</td>\n",
       "      <td>...</td>\n",
       "      <td>...</td>\n",
       "      <td>...</td>\n",
       "      <td>...</td>\n",
       "      <td>...</td>\n",
       "      <td>...</td>\n",
       "      <td>...</td>\n",
       "      <td>...</td>\n",
       "      <td>...</td>\n",
       "      <td>...</td>\n",
       "      <td>...</td>\n",
       "      <td>...</td>\n",
       "    </tr>\n",
       "    <tr>\n",
       "      <th>167228919</th>\n",
       "      <td>User</td>\n",
       "      <td>NitrixXero</td>\n",
       "      <td>https://github.com/NitrixXero</td>\n",
       "      <td>Elijah Gordon</td>\n",
       "      <td>None</td>\n",
       "      <td>None</td>\n",
       "      <td>None</td>\n",
       "      <td>Greece</td>\n",
       "      <td>False</td>\n",
       "      <td>2024-04-16 16:00:05+00:00</td>\n",
       "      <td>2024-05-24 22:12:45+00:00</td>\n",
       "      <td>1329</td>\n",
       "      <td>0</td>\n",
       "      <td>15</td>\n",
       "      <td>0</td>\n",
       "    </tr>\n",
       "    <tr>\n",
       "      <th>170892541</th>\n",
       "      <td>User</td>\n",
       "      <td>LegendaryNaix</td>\n",
       "      <td>https://github.com/LegendaryNaix</td>\n",
       "      <td>Super Coding Star</td>\n",
       "      <td>None</td>\n",
       "      <td>LegendaryNaix@outlook.com</td>\n",
       "      <td>None</td>\n",
       "      <td>None</td>\n",
       "      <td>True</td>\n",
       "      <td>2024-05-26 20:46:38+00:00</td>\n",
       "      <td>2024-07-10 17:29:18+00:00</td>\n",
       "      <td>1527</td>\n",
       "      <td>3677</td>\n",
       "      <td>49</td>\n",
       "      <td>0</td>\n",
       "    </tr>\n",
       "    <tr>\n",
       "      <th>171361497</th>\n",
       "      <td>User</td>\n",
       "      <td>MightyTechNinja</td>\n",
       "      <td>https://github.com/MightyTechNinja</td>\n",
       "      <td>MightyTechNinja</td>\n",
       "      <td>None</td>\n",
       "      <td>mightytechninja@gmail.com</td>\n",
       "      <td>Personal Developer</td>\n",
       "      <td>None</td>\n",
       "      <td>False</td>\n",
       "      <td>2024-05-31 15:19:10+00:00</td>\n",
       "      <td>2024-07-12 11:56:57+00:00</td>\n",
       "      <td>1423</td>\n",
       "      <td>1949</td>\n",
       "      <td>35</td>\n",
       "      <td>0</td>\n",
       "    </tr>\n",
       "    <tr>\n",
       "      <th>171626795</th>\n",
       "      <td>User</td>\n",
       "      <td>Octonho</td>\n",
       "      <td>https://github.com/Octonho</td>\n",
       "      <td>Octo</td>\n",
       "      <td>None</td>\n",
       "      <td>None</td>\n",
       "      <td>None</td>\n",
       "      <td>Brazil</td>\n",
       "      <td>False</td>\n",
       "      <td>2024-06-03 21:35:00+00:00</td>\n",
       "      <td>2024-07-11 20:07:36+00:00</td>\n",
       "      <td>1544</td>\n",
       "      <td>83</td>\n",
       "      <td>2</td>\n",
       "      <td>0</td>\n",
       "    </tr>\n",
       "    <tr>\n",
       "      <th>172458433</th>\n",
       "      <td>User</td>\n",
       "      <td>iurysantos-hub</td>\n",
       "      <td>https://github.com/iurysantos-hub</td>\n",
       "      <td>iury</td>\n",
       "      <td>None</td>\n",
       "      <td>None</td>\n",
       "      <td>None</td>\n",
       "      <td>None</td>\n",
       "      <td>False</td>\n",
       "      <td>2024-06-12 02:05:28+00:00</td>\n",
       "      <td>2024-06-12 03:15:17+00:00</td>\n",
       "      <td>1931</td>\n",
       "      <td>7465</td>\n",
       "      <td>3</td>\n",
       "      <td>0</td>\n",
       "    </tr>\n",
       "  </tbody>\n",
       "</table>\n",
       "<p>4316 rows × 15 columns</p>\n",
       "</div>"
      ]
     },
     "execution_count": 44,
     "metadata": {},
     "output_type": "execute_result"
    }
   ],
   "execution_count": 44
  },
  {
   "metadata": {
    "ExecuteTime": {
     "end_time": "2024-07-16T15:25:07.066368Z",
     "start_time": "2024-07-16T15:25:07.021693Z"
    }
   },
   "cell_type": "code",
   "source": "organizations.sort_values(by=\"created_at\")",
   "id": "83deeb812dd907b1",
   "outputs": [
    {
     "data": {
      "text/plain": [
       "                   type           username  \\\n",
       "id                                           \n",
       "4223       Organization              rails   \n",
       "8085       Organization            Shopify   \n",
       "9919       Organization             github   \n",
       "18133      Organization                git   \n",
       "23211      Organization             heroku   \n",
       "...                 ...                ...   \n",
       "152806972  Organization  100xdevs-cohort-2   \n",
       "153379578  Organization         meta-llama   \n",
       "160199024  Organization        instructlab   \n",
       "160608161  Organization   diia-open-source   \n",
       "166525102  Organization            GSSoC24   \n",
       "\n",
       "                                            url           name  \\\n",
       "id                                                               \n",
       "4223                   https://github.com/rails  Ruby on Rails   \n",
       "8085                 https://github.com/Shopify        Shopify   \n",
       "9919                  https://github.com/github         GitHub   \n",
       "18133                    https://github.com/git            Git   \n",
       "23211                 https://github.com/heroku         Heroku   \n",
       "...                                         ...            ...   \n",
       "152806972  https://github.com/100xdevs-cohort-2           None   \n",
       "153379578         https://github.com/meta-llama     Meta Llama   \n",
       "160199024        https://github.com/instructlab    InstructLab   \n",
       "160608161   https://github.com/diia-open-source           Diia   \n",
       "166525102            https://github.com/GSSoC24        GSSoC24   \n",
       "\n",
       "                                 homepage                            email  \\\n",
       "id                                                                           \n",
       "4223             https://rubyonrails.org/                             None   \n",
       "8085         https://shopify.engineering/  engineering@shopify.engineering   \n",
       "9919             https://github.com/about                             None   \n",
       "18133                 https://git-scm.com                             None   \n",
       "23211                 https://heroku.com/                             None   \n",
       "...                                   ...                              ...   \n",
       "152806972                            None                             None   \n",
       "153379578         https://llama.meta.com/                             None   \n",
       "160199024         https://instructlab.ai/                             None   \n",
       "160608161            https://diia.gov.ua/                             None   \n",
       "166525102  https://gssoc.girlscript.tech/            gssoc@girlscript.tech   \n",
       "\n",
       "          company           location  hireable                created_at  \\\n",
       "id                                                                         \n",
       "4223         None               None     False 2008-04-02 01:59:25+00:00   \n",
       "8085         None       The Internet     False 2008-04-21 18:02:10+00:00   \n",
       "9919         None  San Francisco, CA     False 2008-05-11 04:37:31+00:00   \n",
       "18133        None               None     False 2008-07-23 14:16:55+00:00   \n",
       "23211        None  San Francisco, CA     False 2008-09-04 20:53:06+00:00   \n",
       "...           ...                ...       ...                       ...   \n",
       "152806972    None               None     False 2023-12-03 17:58:30+00:00   \n",
       "153379578    None               None     False 2023-12-09 15:49:39+00:00   \n",
       "160199024    None               None     False 2024-02-16 02:39:40+00:00   \n",
       "160608161    None            Ukraine     False 2024-02-20 12:29:10+00:00   \n",
       "166525102    None              India     False 2024-04-09 14:11:45+00:00   \n",
       "\n",
       "                         updated_at  followers_count  following_count  \\\n",
       "id                                                                      \n",
       "4223      2021-09-13 14:26:11+00:00             1837                0   \n",
       "8085      2023-06-30 18:58:31+00:00             5148                0   \n",
       "9919      2022-11-29 19:44:55+00:00            40604                0   \n",
       "18133     2024-07-04 12:20:19+00:00             2774                0   \n",
       "23211     2023-04-28 23:13:51+00:00             1528                0   \n",
       "...                             ...              ...              ...   \n",
       "152806972 2023-12-03 17:58:30+00:00             1912                0   \n",
       "153379578 2024-03-13 20:07:36+00:00             2237                0   \n",
       "160199024 2024-05-21 07:00:05+00:00             1512                0   \n",
       "160608161 2024-06-24 13:48:08+00:00             2107                0   \n",
       "166525102 2024-04-09 15:29:37+00:00             2107                0   \n",
       "\n",
       "           public_repositories_count  public_gists_count  \n",
       "id                                                        \n",
       "4223                             124                   3  \n",
       "8085                            1051                  10  \n",
       "9919                             496                   0  \n",
       "18133                              7                   0  \n",
       "23211                            842                   0  \n",
       "...                              ...                 ...  \n",
       "152806972                         34                   0  \n",
       "153379578                          5                   0  \n",
       "160199024                         15                   0  \n",
       "160608161                         42                   0  \n",
       "166525102                          4                   0  \n",
       "\n",
       "[684 rows x 15 columns]"
      ],
      "text/html": [
       "<div>\n",
       "<style scoped>\n",
       "    .dataframe tbody tr th:only-of-type {\n",
       "        vertical-align: middle;\n",
       "    }\n",
       "\n",
       "    .dataframe tbody tr th {\n",
       "        vertical-align: top;\n",
       "    }\n",
       "\n",
       "    .dataframe thead th {\n",
       "        text-align: right;\n",
       "    }\n",
       "</style>\n",
       "<table border=\"1\" class=\"dataframe\">\n",
       "  <thead>\n",
       "    <tr style=\"text-align: right;\">\n",
       "      <th></th>\n",
       "      <th>type</th>\n",
       "      <th>username</th>\n",
       "      <th>url</th>\n",
       "      <th>name</th>\n",
       "      <th>homepage</th>\n",
       "      <th>email</th>\n",
       "      <th>company</th>\n",
       "      <th>location</th>\n",
       "      <th>hireable</th>\n",
       "      <th>created_at</th>\n",
       "      <th>updated_at</th>\n",
       "      <th>followers_count</th>\n",
       "      <th>following_count</th>\n",
       "      <th>public_repositories_count</th>\n",
       "      <th>public_gists_count</th>\n",
       "    </tr>\n",
       "    <tr>\n",
       "      <th>id</th>\n",
       "      <th></th>\n",
       "      <th></th>\n",
       "      <th></th>\n",
       "      <th></th>\n",
       "      <th></th>\n",
       "      <th></th>\n",
       "      <th></th>\n",
       "      <th></th>\n",
       "      <th></th>\n",
       "      <th></th>\n",
       "      <th></th>\n",
       "      <th></th>\n",
       "      <th></th>\n",
       "      <th></th>\n",
       "      <th></th>\n",
       "    </tr>\n",
       "  </thead>\n",
       "  <tbody>\n",
       "    <tr>\n",
       "      <th>4223</th>\n",
       "      <td>Organization</td>\n",
       "      <td>rails</td>\n",
       "      <td>https://github.com/rails</td>\n",
       "      <td>Ruby on Rails</td>\n",
       "      <td>https://rubyonrails.org/</td>\n",
       "      <td>None</td>\n",
       "      <td>None</td>\n",
       "      <td>None</td>\n",
       "      <td>False</td>\n",
       "      <td>2008-04-02 01:59:25+00:00</td>\n",
       "      <td>2021-09-13 14:26:11+00:00</td>\n",
       "      <td>1837</td>\n",
       "      <td>0</td>\n",
       "      <td>124</td>\n",
       "      <td>3</td>\n",
       "    </tr>\n",
       "    <tr>\n",
       "      <th>8085</th>\n",
       "      <td>Organization</td>\n",
       "      <td>Shopify</td>\n",
       "      <td>https://github.com/Shopify</td>\n",
       "      <td>Shopify</td>\n",
       "      <td>https://shopify.engineering/</td>\n",
       "      <td>engineering@shopify.engineering</td>\n",
       "      <td>None</td>\n",
       "      <td>The Internet</td>\n",
       "      <td>False</td>\n",
       "      <td>2008-04-21 18:02:10+00:00</td>\n",
       "      <td>2023-06-30 18:58:31+00:00</td>\n",
       "      <td>5148</td>\n",
       "      <td>0</td>\n",
       "      <td>1051</td>\n",
       "      <td>10</td>\n",
       "    </tr>\n",
       "    <tr>\n",
       "      <th>9919</th>\n",
       "      <td>Organization</td>\n",
       "      <td>github</td>\n",
       "      <td>https://github.com/github</td>\n",
       "      <td>GitHub</td>\n",
       "      <td>https://github.com/about</td>\n",
       "      <td>None</td>\n",
       "      <td>None</td>\n",
       "      <td>San Francisco, CA</td>\n",
       "      <td>False</td>\n",
       "      <td>2008-05-11 04:37:31+00:00</td>\n",
       "      <td>2022-11-29 19:44:55+00:00</td>\n",
       "      <td>40604</td>\n",
       "      <td>0</td>\n",
       "      <td>496</td>\n",
       "      <td>0</td>\n",
       "    </tr>\n",
       "    <tr>\n",
       "      <th>18133</th>\n",
       "      <td>Organization</td>\n",
       "      <td>git</td>\n",
       "      <td>https://github.com/git</td>\n",
       "      <td>Git</td>\n",
       "      <td>https://git-scm.com</td>\n",
       "      <td>None</td>\n",
       "      <td>None</td>\n",
       "      <td>None</td>\n",
       "      <td>False</td>\n",
       "      <td>2008-07-23 14:16:55+00:00</td>\n",
       "      <td>2024-07-04 12:20:19+00:00</td>\n",
       "      <td>2774</td>\n",
       "      <td>0</td>\n",
       "      <td>7</td>\n",
       "      <td>0</td>\n",
       "    </tr>\n",
       "    <tr>\n",
       "      <th>23211</th>\n",
       "      <td>Organization</td>\n",
       "      <td>heroku</td>\n",
       "      <td>https://github.com/heroku</td>\n",
       "      <td>Heroku</td>\n",
       "      <td>https://heroku.com/</td>\n",
       "      <td>None</td>\n",
       "      <td>None</td>\n",
       "      <td>San Francisco, CA</td>\n",
       "      <td>False</td>\n",
       "      <td>2008-09-04 20:53:06+00:00</td>\n",
       "      <td>2023-04-28 23:13:51+00:00</td>\n",
       "      <td>1528</td>\n",
       "      <td>0</td>\n",
       "      <td>842</td>\n",
       "      <td>0</td>\n",
       "    </tr>\n",
       "    <tr>\n",
       "      <th>...</th>\n",
       "      <td>...</td>\n",
       "      <td>...</td>\n",
       "      <td>...</td>\n",
       "      <td>...</td>\n",
       "      <td>...</td>\n",
       "      <td>...</td>\n",
       "      <td>...</td>\n",
       "      <td>...</td>\n",
       "      <td>...</td>\n",
       "      <td>...</td>\n",
       "      <td>...</td>\n",
       "      <td>...</td>\n",
       "      <td>...</td>\n",
       "      <td>...</td>\n",
       "      <td>...</td>\n",
       "    </tr>\n",
       "    <tr>\n",
       "      <th>152806972</th>\n",
       "      <td>Organization</td>\n",
       "      <td>100xdevs-cohort-2</td>\n",
       "      <td>https://github.com/100xdevs-cohort-2</td>\n",
       "      <td>None</td>\n",
       "      <td>None</td>\n",
       "      <td>None</td>\n",
       "      <td>None</td>\n",
       "      <td>None</td>\n",
       "      <td>False</td>\n",
       "      <td>2023-12-03 17:58:30+00:00</td>\n",
       "      <td>2023-12-03 17:58:30+00:00</td>\n",
       "      <td>1912</td>\n",
       "      <td>0</td>\n",
       "      <td>34</td>\n",
       "      <td>0</td>\n",
       "    </tr>\n",
       "    <tr>\n",
       "      <th>153379578</th>\n",
       "      <td>Organization</td>\n",
       "      <td>meta-llama</td>\n",
       "      <td>https://github.com/meta-llama</td>\n",
       "      <td>Meta Llama</td>\n",
       "      <td>https://llama.meta.com/</td>\n",
       "      <td>None</td>\n",
       "      <td>None</td>\n",
       "      <td>None</td>\n",
       "      <td>False</td>\n",
       "      <td>2023-12-09 15:49:39+00:00</td>\n",
       "      <td>2024-03-13 20:07:36+00:00</td>\n",
       "      <td>2237</td>\n",
       "      <td>0</td>\n",
       "      <td>5</td>\n",
       "      <td>0</td>\n",
       "    </tr>\n",
       "    <tr>\n",
       "      <th>160199024</th>\n",
       "      <td>Organization</td>\n",
       "      <td>instructlab</td>\n",
       "      <td>https://github.com/instructlab</td>\n",
       "      <td>InstructLab</td>\n",
       "      <td>https://instructlab.ai/</td>\n",
       "      <td>None</td>\n",
       "      <td>None</td>\n",
       "      <td>None</td>\n",
       "      <td>False</td>\n",
       "      <td>2024-02-16 02:39:40+00:00</td>\n",
       "      <td>2024-05-21 07:00:05+00:00</td>\n",
       "      <td>1512</td>\n",
       "      <td>0</td>\n",
       "      <td>15</td>\n",
       "      <td>0</td>\n",
       "    </tr>\n",
       "    <tr>\n",
       "      <th>160608161</th>\n",
       "      <td>Organization</td>\n",
       "      <td>diia-open-source</td>\n",
       "      <td>https://github.com/diia-open-source</td>\n",
       "      <td>Diia</td>\n",
       "      <td>https://diia.gov.ua/</td>\n",
       "      <td>None</td>\n",
       "      <td>None</td>\n",
       "      <td>Ukraine</td>\n",
       "      <td>False</td>\n",
       "      <td>2024-02-20 12:29:10+00:00</td>\n",
       "      <td>2024-06-24 13:48:08+00:00</td>\n",
       "      <td>2107</td>\n",
       "      <td>0</td>\n",
       "      <td>42</td>\n",
       "      <td>0</td>\n",
       "    </tr>\n",
       "    <tr>\n",
       "      <th>166525102</th>\n",
       "      <td>Organization</td>\n",
       "      <td>GSSoC24</td>\n",
       "      <td>https://github.com/GSSoC24</td>\n",
       "      <td>GSSoC24</td>\n",
       "      <td>https://gssoc.girlscript.tech/</td>\n",
       "      <td>gssoc@girlscript.tech</td>\n",
       "      <td>None</td>\n",
       "      <td>India</td>\n",
       "      <td>False</td>\n",
       "      <td>2024-04-09 14:11:45+00:00</td>\n",
       "      <td>2024-04-09 15:29:37+00:00</td>\n",
       "      <td>2107</td>\n",
       "      <td>0</td>\n",
       "      <td>4</td>\n",
       "      <td>0</td>\n",
       "    </tr>\n",
       "  </tbody>\n",
       "</table>\n",
       "<p>684 rows × 15 columns</p>\n",
       "</div>"
      ]
     },
     "execution_count": 45,
     "metadata": {},
     "output_type": "execute_result"
    }
   ],
   "execution_count": 45
  },
  {
   "metadata": {
    "ExecuteTime": {
     "end_time": "2024-07-16T15:25:07.619731Z",
     "start_time": "2024-07-16T15:25:07.286047Z"
    }
   },
   "cell_type": "code",
   "source": [
    "ax = df.groupby(df[\"created_at\"].dt.year).size().plot(xlabel=\"Year created\", ylabel=\"Frequency\")\n",
    "ax.xaxis.set_major_locator(ticker.MaxNLocator(integer=True))"
   ],
   "id": "1dba810fe231f114",
   "outputs": [
    {
     "data": {
      "text/plain": [
       "<Figure size 640x480 with 1 Axes>"
      ],
      "image/png": "[encoded data removed]"
     },
     "metadata": {},
     "output_type": "display_data"
    }
   ],
   "execution_count": 46
  },
  {
   "metadata": {},
   "cell_type": "markdown",
   "source": [
    "Most accounts have been created before 2014.\n",
    "The oldest users (and accounts overall) are Tom Preston-Werner, Chris Wanstrath and P. J. Hyett, the founders of GitHub.\n",
    "The oldest organizations are Ruby on Rails and Shopify, which are even older than the GitHub organization."
   ],
   "id": "f04c5aa40b169af1"
  },
  {
   "metadata": {},
   "cell_type": "markdown",
   "source": "### Updated Date",
   "id": "c63e49df796e7b1b"
  },
  {
   "metadata": {},
   "cell_type": "markdown",
   "source": "The updated date represents when the account was last updated, like changing the about field, email, website or location.",
   "id": "e8a5362b2b9a832f"
  },
  {
   "metadata": {
    "ExecuteTime": {
     "end_time": "2024-07-16T15:25:07.643279Z",
     "start_time": "2024-07-16T15:25:07.623726Z"
    }
   },
   "cell_type": "code",
   "source": "users[\"updated_at\"].describe()",
   "id": "656b3112a73b949c",
   "outputs": [
    {
     "data": {
      "text/plain": [
       "count                                   4316\n",
       "mean     2024-04-10 11:04:21.566497024+00:00\n",
       "min                2017-06-06 16:59:56+00:00\n",
       "25%         2024-05-04 19:12:03.500000+00:00\n",
       "50%         2024-06-21 05:31:17.500000+00:00\n",
       "75%      2024-07-05 23:17:40.750000128+00:00\n",
       "max                2024-07-14 01:16:25+00:00\n",
       "Name: updated_at, dtype: object"
      ]
     },
     "execution_count": 47,
     "metadata": {},
     "output_type": "execute_result"
    }
   ],
   "execution_count": 47
  },
  {
   "metadata": {
    "ExecuteTime": {
     "end_time": "2024-07-16T15:25:08.349393Z",
     "start_time": "2024-07-16T15:25:07.980928Z"
    }
   },
   "cell_type": "code",
   "source": [
    "ax = users.groupby(users[\"updated_at\"].dt.year).size().plot(xlabel=\"Year updated\", ylabel=\"Frequency\")\n",
    "ax.xaxis.set_major_locator(ticker.MaxNLocator(integer=True))"
   ],
   "id": "f35e5dfa9d19797d",
   "outputs": [
    {
     "data": {
      "text/plain": [
       "<Figure size 640x480 with 1 Axes>"
      ],
      "image/png": "[encoded data removed]"
     },
     "metadata": {},
     "output_type": "display_data"
    }
   ],
   "execution_count": 48
  },
  {
   "metadata": {
    "ExecuteTime": {
     "end_time": "2024-07-16T15:25:08.662079Z",
     "start_time": "2024-07-16T15:25:08.640602Z"
    }
   },
   "cell_type": "code",
   "source": "organizations[\"updated_at\"].describe()",
   "id": "49711bfda61bcd3c",
   "outputs": [
    {
     "data": {
      "text/plain": [
       "count                                    684\n",
       "mean     2023-08-14 06:11:30.201754368+00:00\n",
       "min                2017-01-11 21:59:59+00:00\n",
       "25%         2023-04-04 15:22:02.500000+00:00\n",
       "50%                2024-02-24 05:04:07+00:00\n",
       "75%         2024-06-19 11:35:40.500000+00:00\n",
       "max                2024-07-13 17:08:27+00:00\n",
       "Name: updated_at, dtype: object"
      ]
     },
     "execution_count": 49,
     "metadata": {},
     "output_type": "execute_result"
    }
   ],
   "execution_count": 49
  },
  {
   "metadata": {
    "ExecuteTime": {
     "end_time": "2024-07-16T15:25:09.402325Z",
     "start_time": "2024-07-16T15:25:08.996216Z"
    }
   },
   "cell_type": "code",
   "source": [
    "ax = organizations.groupby(organizations[\"updated_at\"].dt.year).size().plot(xlabel=\"Year updated\", ylabel=\"Frequency\")\n",
    "ax.xaxis.set_major_locator(ticker.MaxNLocator(integer=True))"
   ],
   "id": "6a90d9563fc4805b",
   "outputs": [
    {
     "data": {
      "text/plain": [
       "<Figure size 640x480 with 1 Axes>"
      ],
      "image/png": "[encoded data removed]"
     },
     "metadata": {},
     "output_type": "display_data"
    }
   ],
   "execution_count": 50
  },
  {
   "metadata": {},
   "cell_type": "markdown",
   "source": "We can see that the user accounts are more regularly updated than the organization ones.",
   "id": "e897379b7320a8e6"
  },
  {
   "metadata": {},
   "cell_type": "markdown",
   "source": "## Companies",
   "id": "8df1647db0286129"
  },
  {
   "metadata": {},
   "cell_type": "markdown",
   "source": [
    "We can check where the most popular users are employed.\n",
    "This is done only for user accounts, as organizations cannot have a company specified."
   ],
   "id": "54ffc708754240b7"
  },
  {
   "metadata": {
    "ExecuteTime": {
     "end_time": "2024-07-16T15:25:09.478411Z",
     "start_time": "2024-07-16T15:25:09.465223Z"
    }
   },
   "cell_type": "code",
   "source": [
    "# We normalize the company names and convert them to lowercase\n",
    "companies = users[\"company\"].str.replace(\"@\", \"\").str.strip().str.lower()"
   ],
   "id": "7680a44177d38cd5",
   "outputs": [],
   "execution_count": 51
  },
  {
   "metadata": {
    "ExecuteTime": {
     "end_time": "2024-07-16T15:25:09.713169Z",
     "start_time": "2024-07-16T15:25:09.695839Z"
    }
   },
   "cell_type": "code",
   "source": "companies.describe()",
   "id": "cc63c49ab41d2a0a",
   "outputs": [
    {
     "data": {
      "text/plain": [
       "count       2586\n",
       "unique      1987\n",
       "top       google\n",
       "freq          80\n",
       "Name: company, dtype: object"
      ]
     },
     "execution_count": 52,
     "metadata": {},
     "output_type": "execute_result"
    }
   ],
   "execution_count": 52
  },
  {
   "metadata": {
    "ExecuteTime": {
     "end_time": "2024-07-16T15:25:10.154353Z",
     "start_time": "2024-07-16T15:25:10.128165Z"
    }
   },
   "cell_type": "code",
   "source": "companies.value_counts()",
   "id": "820134e2b0b06e60",
   "outputs": [
    {
     "data": {
      "text/plain": [
       "company\n",
       "google         80\n",
       "microsoft      78\n",
       "bytedance      29\n",
       "github         25\n",
       "alibaba        22\n",
       "               ..\n",
       "toptal          1\n",
       "imatix          1\n",
       "zenith bank     1\n",
       "auth0           1\n",
       "cnrs            1\n",
       "Name: count, Length: 1987, dtype: int64"
      ]
     },
     "execution_count": 53,
     "metadata": {},
     "output_type": "execute_result"
    }
   ],
   "execution_count": 53
  },
  {
   "metadata": {
    "ExecuteTime": {
     "end_time": "2024-07-16T15:25:10.841799Z",
     "start_time": "2024-07-16T15:25:10.303151Z"
    }
   },
   "cell_type": "code",
   "source": [
    "ax = companies.value_counts().nlargest(15).plot.barh()\n",
    "ax.set_xlabel(\"Users\")\n",
    "ax.set_ylabel(\"Organization\")\n",
    "ax.bar_label(ax.containers[0], padding=5)\n",
    "ax.set_xlim(right=ax.get_xlim()[1] * 1.1)\n",
    "ax.invert_yaxis()"
   ],
   "id": "50fbdf41f71e5831",
   "outputs": [
    {
     "data": {
      "text/plain": [
       "<Figure size 640x480 with 1 Axes>"
      ],
      "image/png": "[encoded data removed]"
     },
     "metadata": {},
     "output_type": "display_data"
    }
   ],
   "execution_count": 54
  },
  {
   "metadata": {},
   "cell_type": "markdown",
   "source": [
    "We can see that users are employed by many different companies.\n",
    "Google and Microsoft are employing the most users.\n",
    "Note that the results here are not exact, as the normalization of the company name is not perfect."
   ],
   "id": "bfea174581f99694"
  },
  {
   "metadata": {},
   "cell_type": "markdown",
   "source": "## Locations",
   "id": "80287aeee0724973"
  },
  {
   "metadata": {},
   "cell_type": "markdown",
   "source": "We will analyze where the most popular accounts are located.",
   "id": "32e2b61822ad581"
  },
  {
   "metadata": {
    "ExecuteTime": {
     "end_time": "2024-07-16T15:25:15.916337Z",
     "start_time": "2024-07-16T15:25:10.845796Z"
    }
   },
   "cell_type": "code",
   "source": [
    "gc = Geocode()\n",
    "gc.load()"
   ],
   "id": "f90ec565f170f50",
   "outputs": [],
   "execution_count": 55
  },
  {
   "metadata": {},
   "cell_type": "markdown",
   "source": "### All Accounts",
   "id": "50f53956b994cdf9"
  },
  {
   "metadata": {
    "ExecuteTime": {
     "end_time": "2024-07-16T15:25:24.455902Z",
     "start_time": "2024-07-16T15:25:15.920840Z"
    }
   },
   "cell_type": "code",
   "source": [
    "all_locations = gc.decode_parallel(df[\"location\"].to_list()) # Geocode locations for all accounts\n",
    "all_locations = [location[0] for location in all_locations if location] # Get the first match for each location\n",
    "all_locations = pd.DataFrame(all_locations) # Convert locations into dataframe"
   ],
   "id": "753472fbc206757b",
   "outputs": [
    {
     "name": "stderr",
     "output_type": "stream",
     "text": [
      "2024-07-16 17:25:16,248 [INFO ] [geocode.geoc]: Running decode in parallel with 7 cores\n",
      "100%|██████████| 7/7 [00:00<00:00, 74.26it/s]\n"
     ]
    }
   ],
   "execution_count": 56
  },
  {
   "metadata": {
    "ExecuteTime": {
     "end_time": "2024-07-16T15:25:24.503642Z",
     "start_time": "2024-07-16T15:25:24.457441Z"
    }
   },
   "cell_type": "code",
   "source": "all_locations",
   "id": "d23c4bcc905c4201",
   "outputs": [
    {
     "data": {
      "text/plain": [
       "                name               official_name country_code  longitude  \\\n",
       "0           Portland                    Portland           US -122.67621   \n",
       "1          Singapore                   Singapore           SG  103.85007   \n",
       "2     Rio de Janeiro              Rio de Janeiro           BR  -43.18223   \n",
       "3           Shanghai                    Shanghai           CN  121.45806   \n",
       "4           Shanghai                    Shanghai           CN  121.45806   \n",
       "...              ...                         ...          ...        ...   \n",
       "3489          Fuzhou                      Fuzhou           CN  119.30611   \n",
       "3490       New Delhi                   New Delhi           IN   77.21480   \n",
       "3491           China  People’s Republic of China           CN  105.00000   \n",
       "3492   San Francisco               San Francisco           US -122.41942   \n",
       "3493         Phoenix                     Phoenix           US -112.07404   \n",
       "\n",
       "      latitude geoname_id location_type  population  \n",
       "0     45.52345    5746545          city      652503  \n",
       "1      1.28967    1880252          city     5638700  \n",
       "2    -22.90642    3451190          city     6747815  \n",
       "3     31.22222    1796236          city    22315474  \n",
       "4     31.22222    1796236          city    22315474  \n",
       "...        ...        ...           ...         ...  \n",
       "3489  26.06139    1810821          city     3740000  \n",
       "3490  28.62137    1261481          city      317797  \n",
       "3491  35.00000    1814991       country  1411778724  \n",
       "3492  37.77493    5391959          city      864816  \n",
       "3493  33.44838    5308655          city     1608139  \n",
       "\n",
       "[3494 rows x 8 columns]"
      ],
      "text/html": [
       "<div>\n",
       "<style scoped>\n",
       "    .dataframe tbody tr th:only-of-type {\n",
       "        vertical-align: middle;\n",
       "    }\n",
       "\n",
       "    .dataframe tbody tr th {\n",
       "        vertical-align: top;\n",
       "    }\n",
       "\n",
       "    .dataframe thead th {\n",
       "        text-align: right;\n",
       "    }\n",
       "</style>\n",
       "<table border=\"1\" class=\"dataframe\">\n",
       "  <thead>\n",
       "    <tr style=\"text-align: right;\">\n",
       "      <th></th>\n",
       "      <th>name</th>\n",
       "      <th>official_name</th>\n",
       "      <th>country_code</th>\n",
       "      <th>longitude</th>\n",
       "      <th>latitude</th>\n",
       "      <th>geoname_id</th>\n",
       "      <th>location_type</th>\n",
       "      <th>population</th>\n",
       "    </tr>\n",
       "  </thead>\n",
       "  <tbody>\n",
       "    <tr>\n",
       "      <th>0</th>\n",
       "      <td>Portland</td>\n",
       "      <td>Portland</td>\n",
       "      <td>US</td>\n",
       "      <td>-122.67621</td>\n",
       "      <td>45.52345</td>\n",
       "      <td>5746545</td>\n",
       "      <td>city</td>\n",
       "      <td>652503</td>\n",
       "    </tr>\n",
       "    <tr>\n",
       "      <th>1</th>\n",
       "      <td>Singapore</td>\n",
       "      <td>Singapore</td>\n",
       "      <td>SG</td>\n",
       "      <td>103.85007</td>\n",
       "      <td>1.28967</td>\n",
       "      <td>1880252</td>\n",
       "      <td>city</td>\n",
       "      <td>5638700</td>\n",
       "    </tr>\n",
       "    <tr>\n",
       "      <th>2</th>\n",
       "      <td>Rio de Janeiro</td>\n",
       "      <td>Rio de Janeiro</td>\n",
       "      <td>BR</td>\n",
       "      <td>-43.18223</td>\n",
       "      <td>-22.90642</td>\n",
       "      <td>3451190</td>\n",
       "      <td>city</td>\n",
       "      <td>6747815</td>\n",
       "    </tr>\n",
       "    <tr>\n",
       "      <th>3</th>\n",
       "      <td>Shanghai</td>\n",
       "      <td>Shanghai</td>\n",
       "      <td>CN</td>\n",
       "      <td>121.45806</td>\n",
       "      <td>31.22222</td>\n",
       "      <td>1796236</td>\n",
       "      <td>city</td>\n",
       "      <td>22315474</td>\n",
       "    </tr>\n",
       "    <tr>\n",
       "      <th>4</th>\n",
       "      <td>Shanghai</td>\n",
       "      <td>Shanghai</td>\n",
       "      <td>CN</td>\n",
       "      <td>121.45806</td>\n",
       "      <td>31.22222</td>\n",
       "      <td>1796236</td>\n",
       "      <td>city</td>\n",
       "      <td>22315474</td>\n",
       "    </tr>\n",
       "    <tr>\n",
       "      <th>...</th>\n",
       "      <td>...</td>\n",
       "      <td>...</td>\n",
       "      <td>...</td>\n",
       "      <td>...</td>\n",
       "      <td>...</td>\n",
       "      <td>...</td>\n",
       "      <td>...</td>\n",
       "      <td>...</td>\n",
       "    </tr>\n",
       "    <tr>\n",
       "      <th>3489</th>\n",
       "      <td>Fuzhou</td>\n",
       "      <td>Fuzhou</td>\n",
       "      <td>CN</td>\n",
       "      <td>119.30611</td>\n",
       "      <td>26.06139</td>\n",
       "      <td>1810821</td>\n",
       "      <td>city</td>\n",
       "      <td>3740000</td>\n",
       "    </tr>\n",
       "    <tr>\n",
       "      <th>3490</th>\n",
       "      <td>New Delhi</td>\n",
       "      <td>New Delhi</td>\n",
       "      <td>IN</td>\n",
       "      <td>77.21480</td>\n",
       "      <td>28.62137</td>\n",
       "      <td>1261481</td>\n",
       "      <td>city</td>\n",
       "      <td>317797</td>\n",
       "    </tr>\n",
       "    <tr>\n",
       "      <th>3491</th>\n",
       "      <td>China</td>\n",
       "      <td>People’s Republic of China</td>\n",
       "      <td>CN</td>\n",
       "      <td>105.00000</td>\n",
       "      <td>35.00000</td>\n",
       "      <td>1814991</td>\n",
       "      <td>country</td>\n",
       "      <td>1411778724</td>\n",
       "    </tr>\n",
       "    <tr>\n",
       "      <th>3492</th>\n",
       "      <td>San Francisco</td>\n",
       "      <td>San Francisco</td>\n",
       "      <td>US</td>\n",
       "      <td>-122.41942</td>\n",
       "      <td>37.77493</td>\n",
       "      <td>5391959</td>\n",
       "      <td>city</td>\n",
       "      <td>864816</td>\n",
       "    </tr>\n",
       "    <tr>\n",
       "      <th>3493</th>\n",
       "      <td>Phoenix</td>\n",
       "      <td>Phoenix</td>\n",
       "      <td>US</td>\n",
       "      <td>-112.07404</td>\n",
       "      <td>33.44838</td>\n",
       "      <td>5308655</td>\n",
       "      <td>city</td>\n",
       "      <td>1608139</td>\n",
       "    </tr>\n",
       "  </tbody>\n",
       "</table>\n",
       "<p>3494 rows × 8 columns</p>\n",
       "</div>"
      ]
     },
     "execution_count": 57,
     "metadata": {},
     "output_type": "execute_result"
    }
   ],
   "execution_count": 57
  },
  {
   "metadata": {},
   "cell_type": "markdown",
   "source": "There are slightly less than 3500 accounts whose locations could be decoded.",
   "id": "2f727fde40ea74"
  },
  {
   "metadata": {
    "ExecuteTime": {
     "end_time": "2024-07-16T15:25:24.527395Z",
     "start_time": "2024-07-16T15:25:24.509733Z"
    }
   },
   "cell_type": "code",
   "source": "all_locations[\"country_code\"].value_counts()",
   "id": "2e037dc1abfbcdbd",
   "outputs": [
    {
     "data": {
      "text/plain": [
       "country_code\n",
       "US    1120\n",
       "CN     561\n",
       "GB     188\n",
       "DE     154\n",
       "BR     151\n",
       "      ... \n",
       "JM       1\n",
       "CL       1\n",
       "GH       1\n",
       "EE       1\n",
       "EC       1\n",
       "Name: count, Length: 109, dtype: int64"
      ]
     },
     "execution_count": 58,
     "metadata": {},
     "output_type": "execute_result"
    }
   ],
   "execution_count": 58
  },
  {
   "metadata": {
    "ExecuteTime": {
     "end_time": "2024-07-16T15:25:25.258833Z",
     "start_time": "2024-07-16T15:25:24.530916Z"
    }
   },
   "cell_type": "code",
   "source": [
    "ax = all_locations[\"country_code\"].value_counts().nlargest(15).plot.barh()\n",
    "ax.set_xlabel(\"Accounts\")\n",
    "ax.set_ylabel(\"Country\")\n",
    "ax.bar_label(ax.containers[0], padding=5)\n",
    "ax.set_xlim(right=ax.get_xlim()[1] * 1.1)\n",
    "ax.invert_yaxis()"
   ],
   "id": "4ca526b2729d2943",
   "outputs": [
    {
     "data": {
      "text/plain": [
       "<Figure size 640x480 with 1 Axes>"
      ],
      "image/png": "[encoded data removed]"
     },
     "metadata": {},
     "output_type": "display_data"
    }
   ],
   "execution_count": 59
  },
  {
   "metadata": {},
   "cell_type": "markdown",
   "source": [
    "The most commonly detected country of popular accounts is the United States with over 1000 accounts.\n",
    "China is in the second place with more than 500 accounts, followed by the United Kingdom which has around slightly less than 200 accounts."
   ],
   "id": "da2a87c020d46429"
  },
  {
   "metadata": {},
   "cell_type": "markdown",
   "source": "For a more visual representation, we can draw a map of account locations.",
   "id": "68287974f5429c0c"
  },
  {
   "metadata": {
    "ExecuteTime": {
     "end_time": "2024-07-16T15:25:25.479279Z",
     "start_time": "2024-07-16T15:25:25.258833Z"
    }
   },
   "cell_type": "code",
   "source": [
    "worldmap = folium.Map(location=[35, 0], zoom_start=2, tiles=\"Cartodb dark_matter\")\n",
    "folium.plugins.HeatMap(all_locations[[\"latitude\", \"longitude\"]]).add_to(worldmap)\n",
    "worldmap"
   ],
   "id": "6416afb478fe5b4a",
   "outputs": [
    {
     "data": {
      "text/plain": [
       "<folium.folium.Map at 0x1d170e2a010>"
      ],
      "text/html": [
       "<div style=\"width:100%;\"><div style=\"position:relative;width:100%;height:0;padding-bottom:60%;\"><span style=\"color:#565656\">Make this Notebook Trusted to load map: File -> Trust Notebook</span><iframe srcdoc=\"&lt;!DOCTYPE html&gt;\n",
       "&lt;html&gt;\n",
       "&lt;head&gt;\n",
       "    \n",
       "    &lt;meta http-equiv=&quot;content-type&quot; content=&quot;text/html; charset=UTF-8&quot; /&gt;\n",
       "    \n",
       "        &lt;script&gt;\n",
       "            L_NO_TOUCH = false;\n",
       "            L_DISABLE_3D = false;\n",
       "        &lt;/script&gt;\n",
       "    \n",
       "    &lt;style&gt;html, body {width: 100%;height: 100%;margin: 0;padding: 0;}&lt;/style&gt;\n",
       "    &lt;style&gt;#map {position:absolute;top:0;bottom:0;right:0;left:0;}&lt;/style&gt;\n",
       "    &lt;script src=&quot;https://cdn.jsdelivr.net/npm/leaflet@1.9.3/dist/leaflet.js&quot;&gt;&lt;/script&gt;\n",
       "    &lt;script src=&quot;https://code.jquery.com/jquery-3.7.1.min.js&quot;&gt;&lt;/script&gt;\n",
       "    &lt;script src=&quot;https://cdn.jsdelivr.net/npm/bootstrap@5.2.2/dist/js/bootstrap.bundle.min.js&quot;&gt;&lt;/script&gt;\n",
       "    &lt;script src=&quot;https://cdnjs.cloudflare.com/ajax/libs/Leaflet.awesome-markers/2.0.2/leaflet.awesome-markers.js&quot;&gt;&lt;/script&gt;\n",
       "    &lt;link rel=&quot;stylesheet&quot; href=&quot;https://cdn.jsdelivr.net/npm/leaflet@1.9.3/dist/leaflet.css&quot;/&gt;\n",
       "    &lt;link rel=&quot;stylesheet&quot; href=&quot;https://cdn.jsdelivr.net/npm/bootstrap@5.2.2/dist/css/bootstrap.min.css&quot;/&gt;\n",
       "    &lt;link rel=&quot;stylesheet&quot; href=&quot;https://netdna.bootstrapcdn.com/bootstrap/3.0.0/css/bootstrap-glyphicons.css&quot;/&gt;\n",
       "    &lt;link rel=&quot;stylesheet&quot; href=&quot;https://cdn.jsdelivr.net/npm/@fortawesome/fontawesome-free@6.2.0/css/all.min.css&quot;/&gt;\n",
       "    &lt;link rel=&quot;stylesheet&quot; href=&quot;https://cdnjs.cloudflare.com/ajax/libs/Leaflet.awesome-markers/2.0.2/leaflet.awesome-markers.css&quot;/&gt;\n",
       "    &lt;link rel=&quot;stylesheet&quot; href=&quot;https://cdn.jsdelivr.net/gh/python-visualization/folium/folium/templates/leaflet.awesome.rotate.min.css&quot;/&gt;\n",
       "    \n",
       "            &lt;meta name=&quot;viewport&quot; content=&quot;width=device-width,\n",
       "                initial-scale=1.0, maximum-scale=1.0, user-scalable=no&quot; /&gt;\n",
       "            &lt;style&gt;\n",
       "                #map_d8f3b8cd669d59a2dd30d797b6ad43f8 {\n",
       "                    position: relative;\n",
       "                    width: 100.0%;\n",
       "                    height: 100.0%;\n",
       "                    left: 0.0%;\n",
       "                    top: 0.0%;\n",
       "                }\n",
       "                .leaflet-container { font-size: 1rem; }\n",
       "            &lt;/style&gt;\n",
       "        \n",
       "    &lt;script src=&quot;https://cdn.jsdelivr.net/gh/python-visualization/folium@main/folium/templates/leaflet_heat.min.js&quot;&gt;&lt;/script&gt;\n",
       "&lt;/head&gt;\n",
       "&lt;body&gt;\n",
       "    \n",
       "    \n",
       "            &lt;div class=&quot;folium-map&quot; id=&quot;map_d8f3b8cd669d59a2dd30d797b6ad43f8&quot; &gt;&lt;/div&gt;\n",
       "        \n",
       "&lt;/body&gt;\n",
       "&lt;script&gt;\n",
       "    \n",
       "    \n",
       "            var map_d8f3b8cd669d59a2dd30d797b6ad43f8 = L.map(\n",
       "                &quot;map_d8f3b8cd669d59a2dd30d797b6ad43f8&quot;,\n",
       "                {\n",
       "                    center: [35.0, 0.0],\n",
       "                    crs: L.CRS.EPSG3857,\n",
       "                    zoom: 2,\n",
       "                    zoomControl: true,\n",
       "                    preferCanvas: false,\n",
       "                }\n",
       "            );\n",
       "\n",
       "            \n",
       "\n",
       "        \n",
       "    \n",
       "            var tile_layer_f1f55c3d8c293137c6db2e17d2d003e6 = L.tileLayer(\n",
       "                &quot;https://{s}.basemaps.cartocdn.com/dark_all/{z}/{x}/{y}{r}.png&quot;,\n",
       "                {&quot;attribution&quot;: &quot;\\u0026copy; \\u003ca href=\\&quot;https://www.openstreetmap.org/copyright\\&quot;\\u003eOpenStreetMap\\u003c/a\\u003e contributors \\u0026copy; \\u003ca href=\\&quot;https://carto.com/attributions\\&quot;\\u003eCARTO\\u003c/a\\u003e&quot;, &quot;detectRetina&quot;: false, &quot;maxNativeZoom&quot;: 20, &quot;maxZoom&quot;: 20, &quot;minZoom&quot;: 0, &quot;noWrap&quot;: false, &quot;opacity&quot;: 1, &quot;subdomains&quot;: &quot;abcd&quot;, &quot;tms&quot;: false}\n",
       "            );\n",
       "        \n",
       "    \n",
       "            tile_layer_f1f55c3d8c293137c6db2e17d2d003e6.addTo(map_d8f3b8cd669d59a2dd30d797b6ad43f8);\n",
       "        \n",
       "    \n",
       "            var heat_map_7ca7a6cbcf90e32d63a5b354b8c3e6c0 = L.heatLayer(\n",
       "                [[45.52345, -122.67621], [1.28967, 103.85007], [-22.90642, -43.18223], [31.22222, 121.45806], [31.22222, 121.45806], [47.50012, -120.50147], [42.36565, -71.10832], [40.44062, -79.99589], [25.67325, -100.45813], [51.50853, -0.12574], [30.26715, -97.74306], [39.76, -98.5], [37.25022, -119.75126], [32.71571, -117.16472], [37.77493, -122.41942], [22.0, 79.0], [39.9075, 116.39723], [37.77493, -122.41942], [48.85341, 2.3488], [54.75844, -2.69531], [37.77493, -122.41942], [43.25011, -79.84963], [39.25024, -111.75103], [-10.0, -55.0], [39.76, -98.5], [34.75037, -92.50044], [40.71427, -74.00597], [-10.0, -55.0], [54.75844, -2.69531], [41.50028, -99.75067], [51.50853, -0.12574], [37.54812, -77.44675], [42.36565, -71.10832], [30.26715, -97.74306], [12.97194, 77.59369], [43.00035, -75.4999], [47.41667, 8.66667], [22.0, 79.0], [41.38879, 2.15899], [29.76328, -95.36327], [45.16667, 15.5], [52.52437, 13.41053], [39.9075, 116.39723], [39.76, -98.5], [37.25022, -119.75126], [37.25022, -119.75126], [37.2, -8.16667], [37.77493, -122.41942], [40.16706, -74.49987], [37.77493, -122.41942], [37.25022, -119.75126], [39.76, -98.5], [37.77493, -122.41942], [37.77493, -122.41942], [42.75508, -7.86621], [43.07305, -89.40123], [45.52345, -122.67621], [33.83529, -117.9145], [35.68536, 139.75309], [47.33333, 13.33333], [37.49223, 15.07041], [30.29365, 120.16142], [40.6501, -73.94958], [49.25014, -84.49983], [35.0, 105.0], [33.44838, -112.07404], [35.0, 105.0], [37.25022, -119.75126], [38.89511, -77.03637], [38.62727, -90.19789], [37.25022, -119.75126], [31.22222, 121.45806], [56.0, -4.0], [56.0, 10.0], [28.75054, -82.5001], [43.00035, -75.4999], [39.9075, 116.39723], [43.00035, -75.4999], [40.71427, -74.00597], [54.75844, -2.69531], [41.03508, 28.98331], [48.85341, 2.3488], [28.75054, -82.5001], [51.50853, -0.12574], [45.52345, -122.67621], [47.60621, -122.33207], [37.80437, -122.2708], [30.29365, 120.16142], [1.28967, 103.85007], [39.14222, 117.17667], [31.22222, 121.45806], [43.00035, -75.4999], [52.37403, 4.88969], [60.16952, 24.93545], [51.50853, -0.12574], [28.75054, -82.5001], [53.0, 28.0], [44.5002, -114.25118], [31.22222, 121.45806], [30.29365, 120.16142], [39.76, -98.5], [-10.0, -55.0], [42.36565, -71.10832], [31.22222, 121.45806], [30.66667, 104.06667], [35.43333, 139.65], [28.53834, -81.37924], [-5.0, 120.0], [40.71427, -74.00597], [31.22222, 121.45806], [50.06143, 19.93658], [27.70169, 85.3206], [37.80437, -122.2708], [35.0, 105.0], [37.77493, -122.41942], [37.77493, -122.41942], [23.11667, 113.25], [35.68536, 139.75309], [36.16589, -86.78444], [30.29365, 120.16142], [37.25022, -119.75126], [-36.84853, 174.76349], [-1.28333, 36.81667], [22.0, 79.0], [37.38605, -122.08385], [37.77493, -122.41942], [47.50012, -120.50147], [42.69751, 23.32415], [25.39689, 68.37718], [43.00035, -75.4999], [46.0, 25.0], [30.29365, 120.16142], [31.22222, 121.45806], [52.52437, 13.41053], [40.00032, -89.25037], [42.36565, -71.10832], [1.28967, 103.85007], [34.05223, -118.24368], [37.87159, -122.27275], [35.0, 105.0], [48.85341, 2.3488], [36.06488, 120.38042], [41.85003, -87.65005], [39.9075, 116.39723], [31.22222, 121.45806], [39.9075, 116.39723], [42.35843, -71.05977], [25.39689, 68.37718], [-1.28333, 36.81667], [36.85293, -75.97799], [37.25022, -119.75126], [24.0, 88.0], [10.0, -84.0], [39.9075, 116.39723], [60.0, 100.0], [35.6895, 139.69171], [23.7104, 90.40744], [39.76, -98.5], [47.50012, -120.50147], [43.25011, -79.84963], [62.0, 15.0], [53.0, -8.0], [35.0, 105.0], [37.77493, -122.41942], [47.60621, -122.33207], [-37.814, 144.96332], [43.00035, -75.4999], [37.77493, -122.41942], [34.69374, 135.50218], [52.48142, -1.89983], [47.60621, -122.33207], [54.75844, -2.69531], [49.25014, -84.49983], [-10.0, -55.0], [37.77493, -122.41942], [54.75844, -2.69531], [-10.0, -55.0], [60.0, 100.0], [31.22222, 121.45806], [-10.0, -55.0], [28.41124, 77.31316], [35.0, 105.0], [41.60054, -93.60911], [39.25024, -111.75103], [30.29365, 120.16142], [59.91273, 10.74609], [52.52437, 13.41053], [45.52345, -122.67621], [39.76, -98.5], [-33.86785, 151.20732], [6.25184, -75.56359], [-10.0, -75.25], [40.6501, -73.94958], [37.77493, -122.41942], [37.77493, -122.41942], [-37.814, 144.96332], [51.5, 10.5], [37.77493, -122.41942], [22.54554, 114.0683], [34.05223, -118.24368], [44.00013, -120.50139], [37.566, 126.9784], [1.28967, 103.85007], [37.22661, -121.97468], [43.00035, -75.4999], [39.91987, 32.85427], [22.27832, 114.17469], [37.25022, -119.75126], [31.22222, 121.45806], [34.69374, 135.50218], [37.77493, -122.41942], [23.7104, 90.40744], [44.43225, 26.10626], [30.58333, 114.26667], [37.25022, -119.75126], [51.50853, -0.12574], [38.89511, -77.03637], [42.36565, -71.10832], [45.52345, -122.67621], [43.70643, -79.39864], [22.40694, -79.96472], [37.25022, -119.75126], [37.77493, -122.41942], [-10.0, -55.0], [39.76, -98.5], [-22.90642, -43.18223], [-23.5475, -46.63611], [31.25044, -99.25061], [37.25022, -119.75126], [23.11667, 113.25], [38.91706, -77.00025], [29.56026, 106.55771], [35.68536, 139.75309], [38.50029, -98.50063], [42.36565, -71.10832], [42.36565, -71.10832], [39.76, -98.5], [52.16045, -0.70312], [37.77493, -122.41942], [42.36565, -71.10832], [60.10867, -113.64258], [31.86389, 117.28083], [37.25022, -119.75126], [47.60621, -122.33207], [39.76, -98.5], [37.77493, -122.41942], [39.25024, -111.75103], [35.6895, 139.69171], [39.9075, 116.39723], [35.0, 105.0], [-37.814, 144.96332], [41.25626, -95.94043], [47.60621, -122.33207], [42.83333, 12.83333], [24.15114, 120.70541], [35.0, 105.0], [37.77493, -122.41942], [35.6895, 139.69171], [35.0, 105.0], [47.50012, -120.50147], [43.00035, -75.4999], [37.77493, -122.41942], [42.35843, -71.05977], [22.0, 79.0], [-9.58333, -36.41667], [31.22222, 121.45806], [37.25022, -119.75126], [55.67594, 12.56553], [39.9075, 116.39723], [-23.5475, -46.63611], [47.60621, -122.33207], [51.5, 10.5], [41.38879, 2.15899], [34.05223, -118.24368], [31.56887, 120.28857], [38.71667, -9.13333], [12.97194, 77.59369], [39.9075, 116.39723], [45.52345, -122.67621], [37.566, 126.9784], [39.9075, 116.39723], [23.11667, 113.25], [32.78306, -96.80667], [40.71427, -74.00597], [41.01384, 28.94966], [35.68536, 139.75309], [24.15114, 120.70541], [54.75844, -2.69531], [22.0, 79.0], [-36.84853, 174.76349], [35.0, 105.0], [52.52437, 13.41053], [41.85003, -87.65005], [51.5, 10.5], [40.25034, -83.00018], [39.91987, 32.85427], [-10.0, -55.0], [42.36565, -71.10832], [30.29365, 120.16142], [37.77493, -122.41942], [51.50853, -0.12574], [22.54554, 114.0683], [48.20849, 16.37208], [47.60621, -122.33207], [35.50069, -80.00032], [22.54554, 114.0683], [52.37403, 4.88969], [28.07389, -82.43902], [51.50853, -0.12574], [54.75844, -2.69531], [30.29365, 120.16142], [51.50853, -0.12574], [47.60621, -122.33207], [30.29365, 120.16142], [41.14961, -8.61099], [49.75, 15.0], [31.30408, 120.59538], [34.75778, 113.64861], [37.25022, -119.75126], [45.99696, -118.49854], [-33.86785, 151.20732], [47.36667, 8.55], [37.77493, -122.41942], [28.62137, 77.2148], [42.58333, 20.91667], [22.0, 79.0], [27.94752, -82.45843], [37.77493, -122.41942], [44.00013, -120.50139], [24.15114, 120.70541], [39.76, -98.5], [39.76, -98.5], [37.87159, -122.27275], [50.82838, -0.13947], [23.5, 113.25], [42.83333, 12.83333], [37.25022, -119.75126], [31.30408, 120.59538], [35.0, 105.0], [15.5, 101.0], [41.89193, 12.51133], [-22.0, -49.0], [37.77493, -122.41942], [37.25022, -119.75126], [-8.33333, -37.75], [45.81444, 15.97798], [52.0, 20.0], [55.0415, 82.9346], [39.9075, 116.39723], [35.68536, 139.75309], [35.50069, -80.00032], [47.60621, -122.33207], [50.08804, 14.42076], [51.5, 10.5], [27.70169, 85.3206], [52.0, 20.0], [43.07305, -89.40123], [-10.0, -55.0], [39.9075, 116.39723], [37.77493, -122.41942], [51.50853, -0.12574], [22.54554, 114.0683], [1.28967, 103.85007], [37.25022, -119.75126], [51.5, 10.5], [22.54554, 114.0683], [31.22222, 121.45806], [39.6945, -8.13057], [31.22222, 121.45806], [30.29365, 120.16142], [54.75844, -2.69531], [39.76, -98.5], [37.25022, -119.75126], [45.52345, -122.67621], [45.41117, -75.69812], [39.6945, -8.13057], [51.50853, -0.12574], [27.70169, 85.3206], [37.25022, -119.75126], [22.0, 79.0], [31.22222, 121.45806], [30.06263, 31.24967], [-10.0, -55.0], [37.77493, -122.41942], [51.50853, -0.12574], [44.84044, -0.5805], [39.91987, 32.85427], [31.22222, 121.45806], [51.5, 10.5], [35.0, 105.0], [-23.5475, -46.63611], [38.62727, -90.19789], [1.28967, 103.85007], [30.26715, -97.74306], [23.02579, 72.58727], [54.75844, -2.69531], [39.9075, 116.39723], [35.0, 105.0], [40.0, -4.0], [47.60621, -122.33207], [52.52437, 13.41053], [40.44062, -79.99589], [-33.86785, 151.20732], [-33.86785, 151.20732], [37.77493, -122.41942], [24.80361, 120.96861], [42.69751, 23.32415], [37.77493, -122.41942], [-10.0, -55.0], [36.16589, -86.78444], [49.10635, -122.82509], [35.6895, 139.69171], [31.22222, 121.45806], [1.28967, 103.85007], [48.78232, 9.17702], [-33.86785, 151.20732], [37.77493, -122.41942], [52.52437, 13.41053], [39.76, -98.5], [51.66667, 5.0], [52.52437, 13.41053], [-10.0, -55.0], [49.24966, -123.11934], [37.77493, -122.41942], [37.566, 126.9784], [60.10867, -113.64258], [22.54554, 114.0683], [49.24966, -123.11934], [47.60621, -122.33207], [-37.814, 144.96332], [56.0, 10.0], [30.66667, 104.06667], [-27.59667, -48.54917], [49.24966, -123.11934], [37.77493, -122.41942], [59.32938, 18.06871], [52.52437, 13.41053], [49.25014, -84.49983], [37.25022, -119.75126], [49.24966, -123.11934], [37.25022, -119.75126], [23.11667, 113.25], [28.62137, 77.2148], [28.65195, 77.23149], [51.50853, -0.12574], [37.77493, -122.41942], [23.7104, 90.40744], [37.77493, -122.41942], [52.52437, 13.41053], [41.50028, -99.75067], [37.77493, -122.41942], [37.77493, -122.41942], [-10.0, -55.0], [52.00017, -71.99907], [47.00016, 8.01427], [28.62137, 77.2148], [36.17497, -115.13722], [39.9075, 116.39723], [40.71427, -74.00597], [37.77493, -122.41942], [59.32938, 18.06871], [-22.90642, -43.18223], [60.16952, 24.93545], [31.22222, 121.45806], [39.76, -98.5], [43.00035, -75.4999], [39.76, -98.5], [48.20849, 16.37208], [18.51957, 73.85535], [35.75035, -86.25027], [31.30408, 120.59538], [37.77493, -122.41942], [37.25022, -119.75126], [51.50853, -0.12574], [43.61093, 3.87635], [43.00035, -75.4999], [30.26715, -97.74306], [47.50012, -120.50147], [-27.46794, 153.02809], [43.70643, -79.39864], [31.30408, 120.59538], [-27.46794, 153.02809], [51.50853, -0.12574], [39.9075, 116.39723], [48.85341, 2.3488], [59.32938, 18.06871], [39.91691, 116.39706], [52.0, 20.0], [39.76, -98.5], [50.45466, 30.5238], [35.6895, 139.69171], [42.83333, 12.83333], [50.75, 4.5], [40.25034, -83.00018], [39.0, 35.0], [28.75054, -82.5001], [37.77493, -122.41942], [24.0, 90.0], [29.56026, 106.55771], [31.22222, 121.45806], [37.77493, -122.41942], [37.25022, -119.75126], [37.25022, -119.75126], [22.0, 79.0], [48.30639, 14.28611], [52.52437, 13.41053], [42.35843, -71.05977], [54.75844, -2.69531], [48.20849, 16.37208], [39.9075, 116.39723], [51.5, 10.5], [51.50853, -0.12574], [34.05223, -118.24368], [39.76, -98.5], [52.52437, 13.41053], [46.25024, -94.25055], [59.32938, 18.06871], [35.69439, 51.42151], [35.50069, -80.00032], [37.25022, -119.75126], [51.5, 10.5], [40.4165, -3.70256], [61.49911, 23.78712], [22.54554, 114.0683], [49.24966, -123.11934], [35.0, 105.0], [35.6895, 139.69171], [-10.0, -55.0], [47.50012, -120.50147], [52.25, 5.75], [37.25022, -119.75126], [44.00013, -120.50139], [30.29365, 120.16142], [37.77493, -122.41942], [19.07283, 72.88261], [40.71427, -74.00597], [59.32938, 18.06871], [52.52437, 13.41053], [22.54554, 114.0683], [37.77493, -122.41942], [56.0, 10.0], [49.21667, -2.11667], [50.45466, 30.5238], [-10.0, -55.0], [37.77493, -122.41942], [31.22222, 121.45806], [-10.0, -55.0], [-10.0, -55.0], [54.75844, -2.69531], [37.77493, -122.41942], [50.11552, 8.68417], [39.9075, 116.39723], [46.0, 2.0], [37.77493, -122.41942], [39.76, -98.5], [32.08088, 34.78057], [35.0, 105.0], [34.75037, -92.50044], [39.9075, 116.39723], [41.85003, -87.65005], [19.28333, -99.13333], [31.25044, -99.25061], [51.5, 10.5], [35.6895, 139.69171], [30.29365, 120.16142], [34.05223, -118.24368], [37.77493, -122.41942], [53.79648, -1.54785], [42.35843, -71.05977], [48.20849, 16.37208], [46.0, 2.0], [50.75, 4.5], [25.07725, 55.30927], [23.7104, 90.40744], [39.25024, -111.75103], [51.83333, -1.25], [39.76, -98.5], [51.51494, 7.466], [51.5, 10.5], [22.27832, 114.17469], [49.24966, -123.11934], [52.52437, 13.41053], [35.0, 105.0], [37.77493, -122.41942], [34.5003, -111.50098], [43.00035, -75.4999], [-10.0, -55.0], [39.76, -98.5], [47.50012, -120.50147], [38.34957, -8.58651], [35.68536, 139.75309], [39.9075, 116.39723], [23.7104, 90.40744], [39.76, -98.5], [32.78306, -96.80667], [37.77493, -122.41942], [37.77493, -122.41942], [39.76, -98.5], [43.70643, -79.39864], [47.50012, -120.50147], [30.66667, 104.06667], [30.29365, 120.16142], [39.9075, 116.39723], [31.22222, 121.45806], [31.22222, 121.45806], [42.88645, -78.87837], [50.75, 4.5], [28.62137, 77.2148], [54.75844, -2.69531], [30.29365, 120.16142], [23.11667, 113.25], [35.6895, 139.69171], [39.91691, 116.39706], [42.35843, -71.05977], [37.77493, -122.41942], [48.13743, 11.57549], [51.50853, -0.12574], [49.0, 32.0], [39.73915, -104.9847], [-34.61315, -58.37723], [39.95238, -75.16362], [47.60621, -122.33207], [36.85293, -75.97799], [23.75, 85.5], [34.05223, -118.24368], [42.35843, -71.05977], [52.25, 5.75], [60.0, 100.0], [30.29365, 120.16142], [51.5, 10.5], [39.25024, -111.75103], [40.6501, -73.94958], [47.60621, -122.33207], [35.0, 105.0], [38.71667, -9.13333], [33.0, 119.83333], [51.50853, -0.12574], [48.85341, 2.3488], [1.28967, 103.85007], [37.77493, -122.41942], [49.25014, -84.49983], [39.76, -98.5], [50.45466, 30.5238], [-1.28333, 36.81667], [31.22222, 121.45806], [37.77493, -122.41942], [59.91273, 10.74609], [39.25021, -116.75119], [18.51957, 73.85535], [35.0, 105.0], [31.22222, 121.45806], [45.52345, -122.67621], [41.69411, 44.83368], [31.25044, -99.25061], [60.10867, -113.64258], [37.77493, -122.41942], [37.25022, -119.75126], [-33.86785, 151.20732], [30.29365, 120.16142], [42.66667, 25.25], [22.0, 79.0], [42.35843, -71.05977], [48.13743, 11.57549], [54.75844, -2.69531], [45.46427, 9.18951], [35.0, 105.0], [46.0, 2.0], [37.77493, -122.41942], [35.0, 105.0], [-20.44278, -54.64639], [23.11667, 113.25], [31.22222, 121.45806], [48.20849, 16.37208], [14.18368, 121.28554], [39.76, -98.5], [43.00035, -75.4999], [-10.0, -55.0], [39.73915, -104.9847], [39.0, 22.0], [47.36667, 8.55], [52.22977, 21.01178], [46.81228, -71.21454], [39.09973, -94.57857], [28.46824, -16.25462], [43.00035, -75.4999], [41.01384, 28.94966], [38.89511, -77.03637], [38.89511, -77.03637], [10.82302, 106.62965], [47.41667, 8.66667], [31.22222, 121.45806], [51.50853, -0.12574], [1.28967, 103.85007], [39.76, -98.5], [-10.0, -55.0], [40.71427, -74.00597], [-10.0, -55.0], [31.5, 34.75], [23.11667, 113.25], [37.77493, -122.41942], [35.6895, 139.69171], [30.29365, 120.16142], [47.00016, 8.01427], [43.70643, -79.39864], [30.29365, 120.16142], [39.9075, 116.39723], [51.50853, -0.12574], [31.22222, 121.45806], [62.0, 10.0], [1.28967, 103.85007], [59.93863, 30.31413], [1.28967, 103.85007], [37.77493, -122.41942], [-10.0, -55.0], [43.00035, -75.4999], [51.45523, -2.59665], [6.45407, 3.39467], [35.0, 105.0], [37.77493, -122.41942], [-27.46794, 153.02809], [30.29365, 120.16142], [42.35843, -71.05977], [31.22222, 121.45806], [47.60621, -122.33207], [37.77493, -122.41942], [22.0, 79.0], [51.50853, -0.12574], [45.52345, -122.67621], [48.69096, 9.14062], [41.89649, -8.5063], [64.0, 26.0], [46.0, 2.0], [33.83333, 35.83333], [30.26715, -97.74306], [42.83333, 12.83333], [31.22222, 121.45806], [50.75, 4.5], [39.12711, -84.51439], [51.50853, -0.12574], [43.00035, -75.4999], [37.25022, -119.75126], [39.76, -98.5], [52.16045, -0.70312], [46.0, 2.0], [-37.814, 144.96332], [-25.0, 122.0], [14.18368, 121.28554], [30.29365, 120.16142], [30.29365, 120.16142], [39.9075, 116.39723], [-29.91778, -51.18361], [49.24966, -123.11934], [47.36667, 8.55], [37.77493, -122.41942], [51.50853, -0.12574], [52.0, 20.0], [37.566, 126.9784], [39.9075, 116.39723], [28.62137, 77.2148], [24.15114, 120.70541], [40.44062, -79.99589], [51.50853, -0.12574], [39.76, -98.5], [30.66667, 104.06667], [40.4165, -3.70256], [40.16706, -74.49987], [35.0, 105.0], [35.41667, 139.33333], [62.0, 15.0], [35.68536, 139.75309], [23.11667, 113.25], [47.60621, -122.33207], [-34.61315, -58.37723], [47.00016, 8.01427], [47.00016, 8.01427], [50.04132, 21.99901], [42.36565, -71.10832], [35.6895, 139.69171], [48.85341, 2.3488], [40.44062, -79.99589], [22.27832, 114.17469], [39.76, -98.5], [44.25029, -85.50033], [48.69096, 9.14062], [53.99983, -125.0032], [54.75844, -2.69531], [52.25, 5.75], [34.5003, -111.50098], [46.0, 2.0], [50.08804, 14.42076], [54.75844, -2.69531], [28.53834, -81.37924], [-1.28333, 36.81667], [39.77667, 30.52056], [35.99403, -78.89862], [35.0, 105.0], [35.6895, 139.69171], [43.00035, -75.4999], [-22.90642, -43.18223], [37.25022, -119.75126], [52.25, 5.75], [51.50853, -0.12574], [19.07283, 72.88261], [37.25022, -119.75126], [-10.0, -55.0], [22.54554, 114.0683], [1.28967, 103.85007], [-10.0, -55.0], [35.6895, 139.69171], [-23.5475, -46.63611], [52.52437, 13.41053], [-37.814, 144.96332], [-22.90642, -43.18223], [43.00035, -75.4999], [22.27832, 114.17469], [37.25022, -119.75126], [56.0, 10.0], [45.74846, 4.84671], [30.66667, 104.06667], [39.76, -98.5], [43.70643, -79.39864], [40.6501, -73.94958], [43.07305, -89.40123], [-10.0, -55.0], [-23.5475, -46.63611], [54.75844, -2.69531], [52.25, 5.75], [25.77427, -80.19366], [51.5, 10.5], [47.60621, -122.33207], [24.15114, 120.70541], [30.29365, 120.16142], [40.71427, -74.00597], [51.50853, -0.12574], [23.11667, 113.25], [1.28967, 103.85007], [31.22222, 121.45806], [39.29038, -76.61219], [30.66667, 104.06667], [30.29365, 120.16142], [55.95206, -3.19648], [18.51957, 73.85535], [37.25022, -119.75126], [50.63297, 3.05858], [40.8, -77.7], [-23.5475, -46.63611], [35.89035, 139.78916], [43.00035, -75.4999], [37.77493, -122.41942], [37.77493, -122.41942], [39.46883, -74.63373], [48.20849, 16.37208], [37.25022, -119.75126], [22.0, 79.0], [39.9075, 116.39723], [-23.5475, -46.63611], [43.61093, 3.87635], [47.50012, -120.50147], [28.62137, 77.2148], [-23.5475, -46.63611], [35.0, 105.0], [46.25024, -94.25055], [52.52437, 13.41053], [37.25022, -119.75126], [62.0, 15.0], [-10.0, -55.0], [30.29365, 120.16142], [36.5, 127.75], [51.5, 10.5], [30.29365, 120.16142], [37.33939, -121.89496], [36.5, 127.75], [42.35843, -71.05977], [50.75, 4.5], [22.40694, -79.96472], [31.22222, 121.45806], [51.5, 10.5], [52.52437, 13.41053], [-23.5475, -46.63611], [55.95206, -3.19648], [-23.5475, -46.63611], [55.95206, -3.19648], [30.29365, 120.16142], [41.85003, -87.65005], [42.35843, -71.05977], [37.566, 126.9784], [49.25014, -84.49983], [22.40694, -79.96472], [46.0, 2.0], [31.22222, 121.45806], [51.50853, -0.12574], [31.22222, 121.45806], [27.61672, 113.85353], [31.22222, 121.45806], [30.26715, -97.74306], [42.69751, 23.32415], [37.77493, -122.41942], [52.52437, 13.41053], [30.29365, 120.16142], [47.60621, -122.33207], [43.00035, -75.4999], [-23.5475, -46.63611], [31.30408, 120.59538], [39.00027, -105.50083], [50.82838, -0.13947], [50.08804, 14.42076], [35.0, 105.0], [39.29038, -76.61219], [48.85341, 2.3488], [-12.0, -42.0], [51.5, 10.5], [34.05223, -118.24368], [54.75844, -2.69531], [37.77493, -122.41942], [35.0, 105.0], [-42.0, 174.0], [47.60621, -122.33207], [31.22222, 121.45806], [19.5, -80.66667], [52.52437, 13.41053], [35.0, 105.0], [35.0, 105.0], [14.18368, 121.28554], [51.50853, -0.12574], [46.5001, -65.99878], [40.16706, -74.49987], [51.5, 10.5], [-23.17944, -45.88694], [51.5, 10.5], [35.0, 105.0], [51.05089, 13.73832], [47.60621, -122.33207], [-10.0, -55.0], [37.77493, -122.41942], [33.34058, 44.40088], [46.76667, 23.6], [22.54554, 114.0683], [-10.0, -55.0], [47.00016, 8.01427], [52.37403, 4.88969], [52.52437, 13.41053], [31.22222, 121.45806], [42.35843, -71.05977], [43.00035, -75.4999], [39.95238, -75.16362], [-34.5, -68.5], [31.22222, 121.45806], [-10.0, -55.0], [47.50012, -120.50147], [43.70643, -79.39864], [45.46427, 9.18951], [37.77493, -122.41942], [36.72016, -4.42034], [31.22222, 121.45806], [54.75844, -2.69531], [30.29365, 120.16142], [46.0, 2.0], [54.75844, -2.69531], [39.9075, 116.39723], [22.0, 79.0], [49.0, 11.5], [39.76, -98.5], [43.70643, -79.39864], [40.00032, -86.25027], [54.75844, -2.69531], [47.50012, -120.50147], [39.76, -98.5], [37.77493, -122.41942], [30.29365, 120.16142], [40.71427, -74.00597], [60.10867, -113.64258], [41.03508, 28.98331], [37.54812, -77.44675], [51.50853, -0.12574], [35.0, 105.0], [35.6895, 139.69171], [35.6895, 139.69171], [40.6501, -73.94958], [56.0, 10.0], [19.36667, -99.66667], [37.77493, -122.41942], [-25.0, 135.0], [39.76, -98.5], [40.00032, -86.25027], [41.54821, -8.42545], [37.77493, -122.41942], [36.5, 127.75], [51.50853, -0.12574], [47.60621, -122.33207], [37.55376, -77.46026], [37.77493, -122.41942], [39.91691, 116.39706], [31.22222, 121.45806], [50.75, 4.5], [38.91222, 121.60222], [25.04776, 121.53185], [20.78785, -156.38612], [30.26715, -97.74306], [51.50853, -0.12574], [31.22222, 121.45806], [37.77493, -122.41942], [10.41667, 76.5], [37.98869, -84.47772], [40.71427, -74.00597], [39.95238, -75.16362], [39.9075, 116.39723], [47.00016, 8.01427], [9.02497, 38.74689], [47.00016, 8.01427], [22.54554, 114.0683], [39.76, -98.5], [43.00035, -75.4999], [39.9075, 116.39723], [44.25029, -85.50033], [39.9075, 116.39723], [-10.0, -55.0], [37.77493, -122.41942], [30.29365, 120.16142], [30.29365, 120.16142], [-27.46794, 153.02809], [37.77493, -122.41942], [59.32938, 18.06871], [39.9075, 116.39723], [-23.5475, -46.63611], [59.32938, 18.06871], [40.16706, -74.49987], [41.85003, -87.65005], [30.29365, 120.16142], [47.60621, -122.33207], [31.22222, 121.45806], [39.73915, -104.9847], [39.0, 22.0], [40.71427, -74.00597], [22.54554, 114.0683], [52.52437, 13.41053], [54.75844, -2.69531], [41.01384, 28.94966], [52.25, 5.75], [37.25022, -119.75126], [39.76, -98.5], [22.0, 79.0], [39.76, -98.5], [35.22709, -80.84313], [31.22222, 121.45806], [35.0, 105.0], [-27.59667, -48.54917], [41.38879, 2.15899], [36.5, 127.75], [51.1801, 71.44598], [45.41117, -75.69812], [47.60621, -122.33207], [22.0, 79.0], [51.50853, -0.12574], [48.85341, 2.3488], [39.76, -98.5], [51.50853, -0.12574], [10.82302, 106.62965], [50.06143, 19.93658], [52.52437, 13.41053], [55.75222, 37.61556], [23.7104, 90.40744], [40.00032, -86.25027], [38.62727, -90.19789], [42.36565, -71.10832], [20.78785, -156.38612], [30.29365, 120.16142], [41.69411, 44.83368], [51.45523, -2.59665], [51.50853, -0.12574], [1.28967, 103.85007], [35.0, 105.0], [62.0, 15.0], [37.77493, -122.41942], [19.07283, 72.88261], [37.33939, -121.89496], [-6.92222, 107.60694], [35.6895, 139.69171], [49.24966, -123.11934], [37.54812, -77.44675], [32.71571, -117.16472], [35.69439, 51.42151], [39.8538, -80.22287], [49.98081, 36.25272], [46.55611, 15.64306], [19.36667, -99.66667], [41.03508, 28.98331], [30.26715, -97.74306], [39.0, 35.0], [34.05223, -118.24368], [35.6895, 139.69171], [41.89193, 12.51133], [30.29365, 120.16142], [39.00039, -76.74997], [55.67594, 12.56553], [38.71667, -9.13333], [56.0, 10.0], [37.77493, -122.41942], [42.35843, -71.05977], [37.77493, -122.41942], [27.0, 30.0], [43.00035, -75.4999], [37.25022, -119.75126], [43.32472, 21.90333], [52.25, 5.75], [34.52813, 69.17233], [46.0, 2.0], [39.91987, 32.85427], [47.60621, -122.33207], [16.16667, 107.83333], [-22.90642, -43.18223], [52.52437, 13.41053], [30.29365, 120.16142], [4.0, -73.25], [-37.814, 144.96332], [60.10867, -113.64258], [40.71427, -74.00597], [22.54554, 114.0683], [53.0, -8.0], [56.0, 10.0], [51.05011, -114.08529], [47.50012, -120.50147], [43.70643, -79.39864], [19.5, -80.66667], [-6.21462, 106.84513], [31.25044, -99.25061], [22.54554, 114.0683], [51.50853, -0.12574], [44.97997, -93.26384], [22.54554, 114.0683], [37.77493, -122.41942], [37.54827, -121.98857], [43.00035, -75.4999], [31.22222, 121.45806], [39.73915, -104.9847], [-25.0, 135.0], [40.0, -4.0], [37.25022, -119.75126], [35.0, 105.0], [35.0, 105.0], [53.55073, 9.99302], [30.29365, 120.16142], [52.37403, 4.88969], [30.66667, 104.06667], [10.0, 8.0], [62.0, 15.0], [25.39689, 68.37718], [49.25014, -84.49983], [41.01384, 28.94966], [35.0, 105.0], [43.00035, -75.4999], [22.54554, 114.0683], [-33.86785, 151.20732], [31.22222, 121.45806], [51.50853, -0.12574], [22.0, 79.0], [-22.90642, -43.18223], [37.25022, -119.75126], [52.37403, 4.88969], [31.22222, 121.45806], [37.77493, -122.41942], [40.00032, -86.25027], [30.58333, 114.26667], [51.50853, -0.12574], [52.37403, 4.88969], [48.11198, -1.67429], [37.77493, -122.41942], [52.25, 5.75], [39.9075, 116.39723], [53.9, 27.56667], [48.85341, 2.3488], [51.05011, -114.08529], [35.0, 105.0], [52.0, 20.0], [24.80361, 120.96861], [35.91667, 14.43333], [47.50012, -120.50147], [51.50853, -0.12574], [40.4165, -3.70256], [45.52345, -122.67621], [52.0, 20.0], [39.25024, -111.75103], [24.47979, 118.08187], [37.77493, -122.41942], [37.77493, -122.41942], [47.60621, -122.33207], [43.00035, -75.4999], [35.0, 105.0], [64.0, 26.0], [1.28967, 103.85007], [37.25022, -119.75126], [39.73915, -104.9847], [37.25022, -119.75126], [52.52437, 13.41053], [37.33939, -121.89496], [42.35843, -71.05977], [54.75844, -2.69531], [35.6895, 139.69171], [22.54554, 114.0683], [52.52437, 13.41053], [43.00035, -75.4999], [51.50853, -0.12574], [22.0, 79.0], [52.25, 5.75], [40.4165, -3.70256], [37.36883, -122.03635], [16.16667, 107.83333], [25.39689, 68.37718], [51.5, 10.5], [39.76, -98.5], [39.76, -98.5], [39.76, -98.5], [22.0, 79.0], [42.83333, 12.83333], [48.85341, 2.3488], [52.37403, 4.88969], [44.00013, -120.50139], [6.25184, -75.56359], [40.4165, -3.70256], [52.37403, 4.88969], [56.0, 10.0], [37.80437, -122.2708], [62.0, 15.0], [39.76, -98.5], [37.77493, -122.41942], [16.80528, 96.15611], [40.8, -77.7], [48.85341, 2.3488], [41.38879, 2.15899], [35.69439, 51.42151], [31.30408, 120.59538], [35.0, 105.0], [52.52437, 13.41053], [31.22222, 121.45806], [22.0, 79.0], [37.77493, -122.41942], [35.0, 105.0], [47.60621, -122.33207], [44.84044, -0.5805], [39.9075, 116.39723], [23.11667, 113.25], [37.77493, -122.41942], [39.8538, -80.22287], [37.25022, -119.75126], [37.25022, -119.75126], [35.0, 105.0], [35.0, 105.0], [35.0, 105.0], [35.6895, 139.69171], [51.50853, -0.12574], [59.32938, 18.06871], [45.52345, -122.67621], [41.01384, 28.94966], [22.0, 79.0], [22.0, 79.0], [47.50012, -120.50147], [29.5, 47.75], [22.0, 79.0], [37.77493, -122.41942], [45.52345, -122.67621], [37.25022, -119.75126], [47.41667, 8.66667], [23.11667, 113.25], [30.26715, -97.74306], [51.50853, -0.12574], [-23.5475, -46.63611], [37.77493, -122.41942], [52.5, -3.5], [35.7721, -78.63861], [45.52345, -122.67621], [-25.0, 135.0], [47.67399, -122.12151], [22.0, 79.0], [50.75, 4.5], [44.97997, -93.26384], [37.33939, -121.89496], [1.28967, 103.85007], [39.95238, -75.16362], [51.50853, -0.12574], [36.81196, 34.63886], [37.77493, -122.41942], [36.16667, 5.5], [52.25, 5.75], [40.71427, -74.00597], [39.76, -98.5], [46.0, 2.0], [42.83333, 12.83333], [22.54554, 114.0683], [35.68536, 139.75309], [47.00016, 8.01427], [43.00035, -75.4999], [37.77493, -122.41942], [9.02497, 38.74689], [32.22174, -110.92648], [33.749, -84.38798], [30.29365, 120.16142], [36.5, 127.75], [31.22222, 121.45806], [54.75844, -2.69531], [37.25022, -119.75126], [46.19673, 6.11044], [23.5, 113.25], [37.566, 126.9784], [51.5, 10.5], [40.01499, -105.27055], [32.08088, 34.78057], [51.50853, -0.12574], [35.68536, 139.75309], [60.10867, -113.64258], [40.0, -4.0], [37.25022, -119.75126], [39.29038, -76.61219], [7.75, 80.75], [37.77493, -122.41942], [39.9075, 116.39723], [53.33306, -6.24889], [6.61667, 2.51667], [41.4995, -81.69541], [37.25022, -119.75126], [35.6895, 139.69171], [31.22222, 121.45806], [37.25022, -119.75126], [47.00016, 8.01427], [22.0, 79.0], [51.5, 10.5], [47.33333, 13.33333], [37.25022, -119.75126], [39.0, 22.0], [44.25029, -85.50033], [49.00937, 8.40444], [-10.0, -55.0], [31.22222, 121.45806], [37.25022, -119.75126], [37.98376, 23.72784], [39.76, -98.5], [35.0, 105.0], [22.0, 79.0], [39.00027, -105.50083], [52.25, 5.75], [37.38283, -5.97317], [41.01384, 28.94966], [57.70716, 11.96679], [47.60621, -122.33207], [42.83333, 12.83333], [60.16952, 24.93545], [55.60587, 13.00073], [35.6895, 139.69171], [52.52437, 13.41053], [46.0, 2.0], [51.50853, -0.12574], [37.77493, -122.41942], [38.71667, -9.13333], [41.89193, 12.51133], [22.0, 79.0], [47.60621, -122.33207], [53.0, -8.0], [-37.814, 144.96332], [-1.28333, 36.81667], [35.0, 105.0], [47.00016, 8.01427], [40.0, -4.0], [23.7104, 90.40744], [46.0, 2.0], [37.25022, -119.75126], [35.0, 105.0], [23.11667, 113.25], [22.54554, 114.0683], [30.06263, 31.24967], [23.11667, 113.25], [47.00016, 8.01427], [-10.0, -55.0], [35.50069, -80.00032], [52.07667, 4.29861], [39.95238, -75.16362], [40.6501, -73.94958], [6.25184, -75.56359], [37.77493, -122.41942], [22.20056, 113.54611], [41.01384, 28.94966], [37.25022, -119.75126], [35.0, 105.0], [50.75, 4.5], [12.97194, 77.59369], [50.08804, 14.42076], [47.36667, 8.55], [35.0, 105.0], [46.0, 2.0], [45.50884, -73.58781], [-37.814, 144.96332], [-23.5475, -46.63611], [37.77493, -122.41942], [35.0, 105.0], [50.08804, 14.42076], [23.11667, 113.25], [27.0, 30.0], [48.13743, 11.57549], [39.9075, 116.39723], [41.85003, -87.65005], [60.10867, -113.64258], [51.5, 10.5], [45.41117, -75.69812], [36.5, 127.75], [51.50853, -0.12574], [39.76, -98.5], [37.80437, -122.2708], [23.5, 113.25], [32.71571, -117.16472], [35.0, 105.0], [25.04776, 121.53185], [39.76, -98.5], [65.0, -18.0], [53.33306, -6.24889], [30.29365, 120.16142], [52.25, 5.75], [51.50853, -0.12574], [23.11667, 113.25], [36.17497, -115.13722], [6.93548, 79.84868], [-23.69389, -46.565], [39.14222, 117.17667], [35.0, 105.0], [51.5, 10.5], [37.54812, -77.44675], [51.50853, -0.12574], [37.77493, -122.41942], [37.77493, -122.41942], [10.82327, 106.62978], [41.85003, -87.65005], [25.04776, 121.53185], [39.8538, -80.22287], [13.40882, 122.56155], [51.50853, -0.12574], [39.9075, 116.39723], [34.05223, -118.24368], [35.6895, 139.69171], [43.70643, -79.39864], [36.09986, -80.24422], [52.25, 5.75], [47.60621, -122.33207], [37.80437, -122.2708], [47.33333, 13.33333], [52.52437, 13.41053], [50.45466, 30.5238], [39.9075, 116.39723], [54.75844, -2.69531], [37.33939, -121.89496], [19.07283, 72.88261], [42.66667, 25.25], [34.05223, -118.24368], [52.37403, 4.88969], [42.36565, -71.10832], [35.0, 105.0], [59.32938, 18.06871], [40.0, -4.0], [32.71571, -117.16472], [52.25, 5.75], [40.71427, -74.00597], [51.5, 10.5], [48.85341, 2.3488], [37.77493, -122.41942], [37.25022, -119.75126], [47.60621, -122.33207], [37.77493, -122.41942], [51.5, 10.5], [39.76, -98.5], [45.81444, 15.97798], [-23.5475, -46.63611], [37.25022, -119.75126], [49.4891, 8.46694], [39.9075, 116.39723], [39.76, -98.5], [27.70169, 85.3206], [31.22222, 121.45806], [44.00013, -120.50139], [-6.0, 35.0], [21.30694, -157.85833], [38.46219, 27.09229], [51.50853, -0.12574], [45.50884, -73.58781], [23.11667, 113.25], [62.0, 15.0], [42.35843, -71.05977], [33.44838, -112.07404], [42.35843, -71.05977], [28.0, 84.0], [54.75844, -2.69531], [45.77969, 3.08682], [39.76, -98.5], [40.71427, -74.00597], [30.29365, 120.16142], [-10.0, -55.0], [48.13743, 11.57549], [43.61093, 3.87635], [44.50026, -100.25069], [37.77493, -122.41942], [46.0, 2.0], [45.46427, 9.18951], [39.9075, 116.39723], [22.54554, 114.0683], [39.9075, 116.39723], [37.25022, -119.75126], [51.50853, -0.12574], [31.22222, 121.45806], [35.0, 105.0], [39.76, -98.5], [-23.5475, -46.63611], [31.22222, 121.45806], [43.70643, -79.39864], [-25.0, 135.0], [30.29365, 120.16142], [-23.5475, -46.63611], [30.29365, 120.16142], [51.50853, -0.12574], [37.77493, -122.41942], [48.85341, 2.3488], [39.73915, -104.9847], [50.75, 4.5], [35.91667, 10.41667], [23.11667, 113.25], [40.6501, -73.94958], [-33.86785, 151.20732], [62.0, 15.0], [39.00027, -105.50083], [-33.86785, 151.20732], [30.26715, -97.74306], [9.02497, 38.74689], [-6.21462, 106.84513], [23.11667, 113.25], [48.13743, 11.57549], [48.85341, 2.3488], [54.75844, -2.69531], [22.0, 79.0], [22.54554, 114.0683], [37.77493, -122.41942], [31.16667, 121.41667], [22.27832, 114.17469], [19.5, -80.66667], [43.5789, -79.6583], [39.73915, -104.9847], [47.50012, -120.50147], [43.70643, -79.39864], [46.08333, 15.0], [40.4165, -3.70256], [52.22977, 21.01178], [37.77493, -122.41942], [52.16045, -0.70312], [44.81892, 20.45998], [37.77493, -122.41942], [39.9075, 116.39723], [43.00035, -75.4999], [24.46861, 39.61417], [41.85003, -87.65005], [-23.5475, -46.63611], [39.73915, -104.9847], [37.25022, -119.75126], [37.77493, -122.41942], [52.52437, 13.41053], [59.32938, 18.06871], [45.52345, -122.67621], [40.71427, -74.00597], [-8.05389, -34.88111], [62.7345, 7.1506], [37.77493, -122.41942], [1.28967, 103.85007], [30.29365, 120.16142], [42.83333, 12.83333], [52.52437, 13.41053], [40.71427, -74.00597], [52.0, 20.0], [37.77493, -122.41942], [-10.0, -55.0], [28.53834, -81.37924], [30.26715, -97.74306], [-22.505, -43.17861], [50.45466, 30.5238], [-34.6, -58.45], [47.41667, 8.66667], [37.54812, -77.44675], [42.36565, -71.10832], [-28.00029, 153.43088], [41.38879, 2.15899], [39.76, -98.5], [54.68916, 25.2798], [52.0, 20.0], [35.0, 105.0], [39.91987, 32.85427], [39.95238, -75.16362], [30.66667, 104.06667], [37.25022, -119.75126], [50.08804, 14.42076], [60.10867, -113.64258], [44.00034, -72.74983], [52.52437, 13.41053], [22.0, 79.0], [51.50853, -0.12574], [51.33962, 12.37129], [46.0, 2.0], [48.13743, 11.57549], [23.11667, 113.25], [35.6895, 139.69171], [43.70643, -79.39864], [53.38297, -1.4659], [48.13743, 11.57549], [52.52437, 13.41053], [37.77493, -122.41942], [41.14961, -8.61099], [21.00292, 75.56602], [34.5003, -111.50098], [35.14953, -90.04898], [43.00035, -75.4999], [22.0, 79.0], [30.26715, -97.74306], [39.9075, 116.39723], [22.0, 79.0], [51.1, 17.03333], [52.40692, 16.92993], [22.0, 79.0], [51.5, 10.5], [35.0, 105.0], [22.54554, 114.0683], [39.73915, -104.9847], [22.0, 79.0], [47.06667, 15.45], [37.77493, -122.41942], [32.78306, -96.80667], [37.77493, -122.41942], [31.22222, 121.45806], [22.0, 79.0], [30.58333, 114.26667], [37.77493, -122.41942], [-1.28333, 36.81667], [35.0, 105.0], [40.16706, -74.49987], [46.19673, 6.11044], [37.77493, -122.41942], [54.75844, -2.69531], [52.37403, 4.88969], [-10.0, -75.25], [37.36883, -122.03635], [22.0, 79.0], [43.00035, -75.4999], [30.26715, -97.74306], [-23.5475, -46.63611], [-27.59667, -48.54917], [50.45466, 30.5238], [39.76, -98.5], [37.77493, -122.41942], [52.52437, 13.41053], [6.66667, 2.25], [37.33939, -121.89496], [31.22222, 121.45806], [-5.795, -35.20944], [28.53834, -81.37924], [37.25022, -119.75126], [19.07283, 72.88261], [39.9075, 116.39723], [50.37153, -4.14305], [-25.0, 135.0], [22.0, 79.0], [43.00035, -75.4999], [40.6501, -73.94958], [39.09973, -94.57857], [51.50853, -0.12574], [46.0, 2.0], [40.71427, -74.00597], [37.25022, -119.75126], [39.9075, 116.39723], [37.80437, -122.2708], [42.35843, -71.05977], [37.25022, -119.75126], [-23.5475, -46.63611], [39.76, -98.5], [30.26715, -97.74306], [37.77493, -122.41942], [39.76, -98.5], [39.25024, -111.75103], [22.0, 79.0], [52.52437, 13.41053], [22.0, 79.0], [47.50012, -120.50147], [22.27832, 114.17469], [24.8608, 67.0104], [43.00035, -75.4999], [37.77493, -122.41942], [43.00035, -75.4999], [32.78306, -96.80667], [37.54812, -77.44675], [-23.5475, -46.63611], [59.32938, 18.06871], [29.56026, 106.55771], [42.36565, -71.10832], [54.75844, -2.69531], [59.91273, 10.74609], [39.56939, 2.65024], [41.85003, -87.65005], [-10.0, -55.0], [35.0, 105.0], [52.0, 20.0], [33.34058, 44.40088], [30.26715, -97.74306], [48.85341, 2.3488], [47.41667, 8.66667], [39.00027, -105.50083], [35.0, 105.0], [39.91987, 32.85427], [50.45466, 30.5238], [37.25022, -119.75126], [52.52437, 13.41053], [37.25022, -119.75126], [47.00016, 8.01427], [37.77493, -122.41942], [35.6895, 139.69171], [36.17497, -115.13722], [36.5, 127.75], [52.25, 5.75], [39.0, 22.0], [39.76, -98.5], [-31.64881, -60.70868], [24.15114, 120.70541], [50.82838, -0.13947], [35.6895, 139.69171], [39.0, 35.0], [37.25022, -119.75126], [36.17497, -115.13722], [25.77427, -80.19366], [22.54554, 114.0683], [45.41117, -75.69812], [37.38605, -122.08385], [47.50012, -120.50147], [44.25029, -85.50033], [42.36565, -71.10832], [47.00016, 8.01427], [47.00016, 8.01427], [31.22222, 121.45806], [48.69096, 9.14062], [39.76, -98.5], [42.35843, -71.05977], [39.76, -98.5], [43.70643, -79.39864], [-27.46794, 153.02809], [40.00032, -86.25027], [28.5, -10.0], [23.7104, 90.40744], [40.71427, -74.00597], [48.66667, 19.5], [30.29365, 120.16142], [46.0, 2.0], [60.0, 100.0], [-6.21462, 106.84513], [-23.5475, -46.63611], [39.91987, 32.85427], [56.946, 24.10589], [30.29365, 120.16142], [59.32938, 18.06871], [52.37403, 4.88969], [49.0, 11.5], [37.77493, -122.41942], [-33.86785, 151.20732], [37.77493, -122.41942], [35.99403, -78.89862], [50.37153, -4.14305], [22.0, 79.0], [43.00035, -75.4999], [28.19874, 112.97087], [42.36565, -71.10832], [51.50853, -0.12574], [25.04776, 121.53185], [46.0, 2.0], [-10.0, -55.0], [42.36565, -71.10832], [-34.61315, -58.37723], [47.49835, 19.04045], [37.25022, -119.75126], [18.51957, 73.85535], [31.22222, 121.45806], [45.50884, -73.58781], [30.29365, 120.16142], [38.71667, -9.13333], [39.76, -98.5], [37.77493, -122.41942], [43.70643, -79.39864], [43.00035, -75.4999], [50.45466, 30.5238], [42.69751, 23.32415], [35.6895, 139.69171], [22.0, 79.0], [51.5, 10.5], [37.77493, -122.41942], [51.50853, -0.12574], [-36.84853, 174.76349], [43.07305, -89.40123], [48.85341, 2.3488], [47.60621, -122.33207], [52.52437, 13.41053], [33.749, -84.38798], [43.00035, -75.4999], [47.60621, -122.33207], [39.00039, -76.74997], [34.0, 9.0], [-23.5475, -46.63611], [37.77493, -122.41942], [28.0, 84.0], [60.16952, 24.93545], [35.6895, 139.69171], [39.9075, 116.39723], [48.13743, 11.57549], [6.16667, 80.75], [60.16952, 24.93545], [40.00032, -86.25027], [37.33939, -121.89496], [46.0, 2.0], [64.0, 26.0], [22.54554, 114.0683], [22.0, 79.0], [19.07283, 72.88261], [31.22222, 121.45806], [52.155, 5.3875], [43.70643, -79.39864], [22.54554, 114.0683], [-3.71722, -38.54306], [52.40692, 16.92993], [33.749, -84.38798], [18.51957, 73.85535], [43.00035, -75.4999], [39.76, -98.5], [37.77493, -122.41942], [52.52437, 13.41053], [48.20849, 16.37208], [47.60621, -122.33207], [25.39689, 68.37718], [47.50012, -120.50147], [39.76, -98.5], [22.54554, 114.0683], [33.44838, -112.07404], [47.50012, -120.50147], [52.25, 5.75], [56.946, 24.10589], [-18.0, -44.0], [39.76, -98.5], [41.69411, 44.83368], [37.77493, -122.41942], [32.78306, -96.80667], [39.0, 35.0], [51.50853, -0.12574], [52.25, 5.75], [19.36667, -99.66667], [-30.03283, -51.23019], [36.5, 127.75], [50.75, 4.5], [62.0, 10.0], [60.10867, -113.64258], [31.22222, 121.45806], [59.32938, 18.06871], [33.749, -84.38798], [31.22222, 121.45806], [52.52437, 13.41053], [19.42847, -99.12766], [37.25022, -119.75126], [31.22222, 121.45806], [35.99403, -78.89862], [43.00035, -75.4999], [30.29365, 120.16142], [-10.0, -55.0], [24.8608, 67.0104], [40.4165, -3.70256], [42.83333, 12.83333], [47.60621, -122.33207], [22.33971, 87.32501], [10.41667, 76.5], [43.70643, -79.39864], [41.01384, 28.94966], [38.71667, -9.13333], [28.58, 77.33], [60.10867, -113.64258], [52.52437, 13.41053], [22.0, 79.0], [38.89511, -77.03637], [52.37403, 4.88969], [35.0, 105.0], [44.25029, -85.50033], [37.77493, -122.41942], [25.67325, -100.45813], [43.70643, -79.39864], [22.0, 79.0], [51.5, 10.5], [39.00027, -105.50083], [39.9075, 116.39723], [26.25, 118.0], [39.76, -98.5], [-23.5475, -46.63611], [22.0, 79.0], [49.0, 32.0], [37.77493, -122.41942], [52.22977, 21.01178], [12.06308, 0.36349], [33.83333, 35.83333], [-10.0, -55.0], [39.76, -98.5], [39.9075, 116.39723], [22.54554, 114.0683], [49.24966, -123.11934], [23.7104, 90.40744], [6.36536, 2.41833], [42.88645, -78.87837], [9.02497, 38.74689], [37.33939, -121.89496], [23.11667, 113.25], [-10.0, -55.0], [43.00035, -75.4999], [22.56263, 88.36304], [33.0, 44.0], [53.55014, -113.46871], [28.75054, -82.5001], [35.6895, 139.69171], [52.0, 20.0], [37.25022, -119.75126], [47.60621, -122.33207], [55.67594, 12.56553], [35.0, 33.0], [52.52437, 13.41053], [-37.814, 144.96332], [51.50853, -0.12574], [37.77493, -122.41942], [-8.05389, -34.88111], [24.89904, 91.87198], [35.6895, 139.69171], [40.00032, -86.25027], [10.41667, 76.5], [39.91691, 116.39706], [31.22222, 121.45806], [54.90272, 23.90961], [-23.5475, -46.63611], [39.95238, -75.16362], [28.62137, 77.2148], [51.50853, -0.12574], [48.85341, 2.3488], [-22.90642, -43.18223], [31.00047, -92.0004], [30.29365, 120.16142], [30.26715, -97.74306], [40.0, -4.0], [-25.42778, -49.27306], [-10.0, -55.0], [43.70643, -79.39864], [43.00035, -75.4999], [24.47979, 118.08187], [25.03889, 102.71833], [42.42812, -72.66292], [35.41667, 139.33333], [13.40882, 122.56155], [40.0, -4.0], [54.32133, 10.13489], [40.8, -96.66696], [42.83333, 12.83333], [47.36667, 8.55], [39.9075, 116.39723], [14.18368, 121.28554], [40.44062, -79.99589], [39.9075, 116.39723], [51.5, 10.5], [36.17497, -115.13722], [39.76, -98.5], [47.50012, -120.50147], [-42.0, 174.0], [-29.0, 24.0], [39.9075, 116.39723], [37.25022, -119.75126], [22.54554, 114.0683], [37.77493, -122.41942], [51.5, 10.5], [31.5, 34.75], [48.13743, 11.57549], [25.04776, 121.53185], [53.0, -8.0], [24.47979, 118.08187], [31.5, 34.75], [-27.59667, -48.54917], [16.06778, 108.22083], [52.25, 5.75], [39.73915, -104.9847], [35.0, 105.0], [32.71571, -117.16472], [1.28967, 103.85007], [43.06667, 141.35], [37.77493, -122.41942], [31.22222, 121.45806], [22.56263, 88.36304], [32.08088, 34.78057], [40.6501, -73.94958], [-1.28333, 36.81667], [39.76, -98.5], [40.71427, -74.00597], [23.75, 54.5], [48.85341, 2.3488], [22.0, 79.0], [52.25, 5.75], [27.5035, 77.67215], [54.75844, -2.69531], [35.02107, 135.75385], [18.24829, -66.49989], [39.91987, 32.85427], [13.08784, 80.27847], [-7.9797, 112.6304], [-1.94995, 30.05885], [51.50853, -0.12574], [52.37403, 4.88969], [37.33939, -121.89496], [44.49381, 11.33875], [37.25022, -119.75126], [39.76, -98.5], [39.00027, -105.50083], [35.0, 105.0], [49.25014, -84.49983], [42.69751, 23.32415], [39.9075, 116.39723], [33.749, -84.38798], [40.0, -4.0], [42.66667, 25.25], [10.41667, 76.5], [51.5, 10.5], [43.00035, -75.4999], [31.22222, 121.45806], [34.05223, -118.24368], [52.37403, 4.88969], [9.05785, 7.49508], [35.0, 105.0], [35.68536, 139.75309], [31.30408, 120.59538], [40.16706, -74.49987], [15.5, 47.5], [37.77493, -122.41942], [30.29365, 120.16142], [55.75222, 37.61556], [31.22222, 121.45806], [41.01384, 28.94966], [39.9075, 116.39723], [53.79648, -1.54785], [39.00027, -105.50083], [37.77493, -122.41942], [34.05223, -118.24368], [31.16667, 121.41667], [22.0, 79.0], [54.75844, -2.69531], [37.566, 126.9784], [44.00013, -120.50139], [43.00035, -75.4999], [37.25022, -119.75126], [22.27832, 114.17469], [39.76, -98.5], [39.9075, 116.39723], [62.0, 10.0], [40.4165, -3.70256], [54.75844, -2.69531], [37.25022, -119.75126], [28.75054, -82.5001], [40.51872, -74.4121], [47.60621, -122.33207], [6.45407, 3.39467], [51.50853, -0.12574], [41.01384, 28.94966], [30.29365, 120.16142], [47.60621, -122.33207], [39.14222, 117.17667], [48.85341, 2.3488], [52.52437, 13.41053], [37.80437, -122.2708], [60.10867, -113.64258], [53.33306, -6.24889], [51.5, 10.5], [41.01384, 28.94966], [27.70169, 85.3206], [39.76, -98.5], [32.75041, -86.75026], [37.77493, -122.41942], [33.44838, -112.07404], [21.14631, 79.08491], [31.22222, 121.45806], [28.75054, -82.5001], [48.85341, 2.3488], [48.13743, 11.57549], [52.52437, 13.41053], [64.0, 26.0], [22.0, 79.0], [44.25029, -85.50033], [37.77493, -122.41942], [49.24966, -123.11934], [46.0, 25.0], [40.71427, -74.00597], [35.6895, 139.69171], [-12.04318, -77.02824], [53.0, -8.0], [43.00035, -75.4999], [-27.46794, 153.02809], [37.77493, -122.41942], [33.749, -84.38798], [15.33333, 74.08333], [37.77493, -122.41942], [13.08784, 80.27847], [37.77493, -122.41942], [13.40882, 122.56155], [31.22222, 121.45806], [29.95465, -90.07507], [-10.0, -55.0], [22.27832, 114.17469], [39.9075, 116.39723], [37.77493, -122.41942], [44.25029, -85.50033], [47.60621, -122.33207], [22.54554, 114.0683], [45.50884, -73.58781], [52.37403, 4.88969], [22.20056, 113.54611], [54.75844, -2.69531], [27.94752, -82.45843], [41.14961, -8.61099], [-34.5, -68.5], [37.77493, -122.41942], [30.29365, 120.16142], [39.9075, 116.39723], [48.85341, 2.3488], [43.00035, -75.4999], [22.54554, 114.0683], [37.33939, -121.89496], [52.25, 5.75], [39.9075, 116.39723], [37.25022, -119.75126], [65.0, -18.0], [28.0, 84.0], [28.4601, 77.02635], [23.67027, 58.18911], [36.5, 127.75], [23.11667, 113.25], [45.52345, -122.67621], [48.85341, 2.3488], [51.22172, 6.77616], [30.26715, -97.74306], [34.5003, -111.50098], [39.9075, 116.39723], [44.25029, -85.50033], [51.50853, -0.12574], [39.76, -98.5], [39.76, -98.5], [35.99403, -78.89862], [47.00016, 8.01427], [39.9075, 116.39723], [41.3275, 19.81889], [54.75844, -2.69531], [49.24966, -123.11934], [52.9536, -1.15047], [19.36667, -99.66667], [52.37403, 4.88969], [35.0, 105.0], [39.76, -98.5], [30.26715, -97.74306], [22.80979, 89.56439], [-10.0, -75.25], [39.0, 35.0], [12.16667, -68.96667], [47.00016, 8.01427], [22.27832, 114.17469], [35.0, 105.0], [36.72016, -4.42034], [13.08784, 80.27847], [-33.86785, 151.20732], [-23.17944, -45.88694], [49.24966, -123.11934], [35.0, 105.0], [23.01797, 113.74866], [22.0, 79.0], [39.9075, 116.39723], [35.0, 105.0], [51.1, 17.03333], [25.04776, 121.53185], [-33.86785, 151.20732], [43.00035, -75.4999], [53.9, 27.56667], [31.22222, 121.45806], [55.67594, 12.56553], [40.71427, -74.00597], [48.85341, 2.3488], [40.44062, -79.99589], [40.4165, -3.70256], [41.38879, 2.15899], [48.85341, 2.3488], [51.50853, -0.12574], [49.24966, -123.11934], [7.41251, -7.55383], [32.06167, 118.77778], [-6.21462, 106.84513], [39.76, -98.5], [-10.0, -55.0], [28.46824, -16.25462], [39.9075, 116.39723], [37.77493, -122.41942], [22.0, 79.0], [54.75844, -2.69531], [19.0, -70.66667], [37.36883, -122.03635], [38.71667, -9.13333], [39.9075, 116.39723], [52.52437, 13.41053], [39.76, -98.5], [35.0, 105.0], [41.66704, -72.66648], [31.22222, 121.45806], [30.29365, 120.16142], [52.52437, 13.41053], [-33.86785, 151.20732], [42.26259, -71.80229], [35.0, 105.0], [47.60621, -122.33207], [21.30694, -157.85833], [43.70643, -79.39864], [52.52437, 13.41053], [22.27832, 114.17469], [51.5, 10.5], [22.0, 79.0], [22.80278, 86.18545], [37.77493, -122.41942], [45.52345, -122.67621], [-5.0, 120.0], [39.76, -98.5], [54.75844, -2.69531], [39.9075, 116.39723], [62.0, 15.0], [38.71667, -9.13333], [13.75398, 100.50144], [31.22222, 121.45806], [37.77493, -122.41942], [22.0, 79.0], [39.9075, 116.39723], [48.85341, 2.3488], [35.6895, 139.69171], [37.25022, -119.75126], [-10.0, -55.0], [40.6501, -73.94958], [35.0, 105.0], [43.07305, -89.40123], [40.0, -4.0], [51.50853, -0.12574], [28.0, 84.0], [27.0, 30.0], [30.29365, 120.16142], [54.75844, -2.69531], [59.91273, 10.74609], [37.77493, -122.41942], [47.50012, -120.50147], [37.25022, -119.75126], [39.9075, 116.39723], [60.10867, -113.64258], [14.18368, 121.28554], [53.55073, 9.99302], [39.9075, 116.39723], [39.00027, -105.50083], [52.52437, 13.41053], [47.60621, -122.33207], [39.9075, 116.39723], [52.25, 5.75], [42.35843, -71.05977], [30.29365, 120.16142], [39.76, -98.5], [22.54554, 114.0683], [47.50012, -120.50147], [41.85003, -87.65005], [43.70643, -79.39864], [39.76, -98.5], [1.28967, 103.85007], [30.26715, -97.74306], [37.25022, -119.75126], [31.22222, 121.45806], [51.45657, 7.01228], [35.0, 105.0], [-33.86785, 151.20732], [44.25, 28.33333], [43.70643, -79.39864], [40.44062, -79.99589], [35.0, 105.0], [55.75222, 37.61556], [39.73915, -104.9847], [-37.814, 144.96332], [37.25022, -119.75126], [35.0, 105.0], [42.35843, -71.05977], [51.5, 10.5], [44.00013, -120.50139], [52.25, 5.75], [25.04776, 121.53185], [35.0, 105.0], [32.06167, 118.77778], [51.50853, -0.12574], [52.16045, -0.70312], [39.9075, 116.39723], [24.0, 90.0], [48.85341, 2.3488], [37.25022, -119.75126], [22.54554, 114.0683], [38.62727, -90.19789], [48.85341, 2.3488], [55.75222, 37.61556], [39.76, -98.5], [51.5, 10.5], [37.33939, -121.89496], [52.52437, 13.41053], [37.566, 126.9784], [13.08784, 80.27847], [39.76, -98.5], [49.24966, -123.11934], [33.72148, 73.04329], [40.44062, -79.99589], [39.9075, 116.39723], [30.26715, -97.74306], [37.566, 126.9784], [39.9075, 116.39723], [-27.75796, 29.9318], [48.69096, 9.14062], [37.77493, -122.41942], [22.0, 79.0], [46.0, 2.0], [52.25, 5.75], [-10.0, -55.0], [40.4165, -3.70256], [30.26715, -97.74306], [62.0, 15.0], [40.44062, -79.99589], [39.25024, -111.75103], [32.0, 53.0], [59.32938, 18.06871], [39.9075, 116.39723], [52.09083, 5.12222], [22.54554, 114.0683], [-33.86785, 151.20732], [37.77493, -122.41942], [12.91723, 74.85603], [60.16952, 24.93545], [45.41117, -75.69812], [45.52345, -122.67621], [43.00035, -75.4999], [37.87159, -122.27275], [35.0, 105.0], [28.53834, -81.37924], [39.76838, -86.15804], [39.76, -98.5], [-27.46794, 153.02809], [51.5, 10.5], [52.37403, 4.88969], [22.40694, -79.96472], [23.7104, 90.40744], [39.9075, 116.39723], [39.76, -98.5], [35.6895, 139.69171], [40.6501, -73.94958], [51.50853, -0.12574], [47.60621, -122.33207], [22.0, 79.0], [62.0, 10.0], [-25.0, 135.0], [33.74557, -117.86783], [31.22222, 121.45806], [39.76, -98.5], [35.6895, 139.69171], [37.98376, 23.72784], [52.52437, 13.41053], [51.50853, -0.12574], [53.38297, -1.4659], [40.00032, -86.25027], [14.62056, 120.58167], [-31.95224, 115.8614], [35.69439, 51.42151], [53.33306, -6.24889], [38.62727, -90.19789], [42.36565, -71.10832], [31.22222, 121.45806], [47.41667, 8.66667], [60.0, 17.75], [52.25, 5.75], [51.50853, -0.12574], [37.33939, -121.89496], [51.50853, -0.12574], [51.50853, -0.12574], [43.70643, -79.39864], [28.5, -10.0], [48.85341, 2.3488], [39.25024, -111.75103], [39.6945, -8.13057], [45.50032, -69.24977], [42.35843, -71.05977], [37.25022, -119.75126], [39.9075, 116.39723], [30.29365, 120.16142], [40.71427, -74.00597], [48.85341, 2.3488], [55.75222, 37.61556], [60.10867, -113.64258], [43.00035, -75.4999], [13.75398, 100.50144], [49.25014, -84.49983], [34.0, 9.0], [40.4165, -3.70256], [37.25022, -119.75126], [47.36667, 8.55], [47.50012, -120.50147], [43.00035, -75.4999], [60.16952, 24.93545], [-23.5475, -46.63611], [47.50012, -120.50147], [24.8608, 67.0104], [35.0, 105.0], [37.25022, -119.75126], [54.75844, -2.69531], [35.0, 105.0], [37.25022, -119.75126], [30.66667, 104.06667], [56.0, 10.0], [37.77493, -122.41942], [37.25022, -119.75126], [-10.0, -55.0], [51.5, 10.5], [50.75, 4.5], [31.22222, 121.45806], [51.50853, -0.12574], [31.22222, 121.45806], [43.70643, -79.39864], [28.75054, -82.5001], [39.12711, -84.51439], [52.37403, 4.88969], [35.50069, -80.00032], [54.75844, -2.69531], [48.85341, 2.3488], [51.50853, -0.12574], [36.0, 109.0], [1.28967, 103.85007], [22.0, 79.0], [39.00027, -105.50083], [37.77493, -122.41942], [-25.42778, -49.27306], [47.50012, -120.50147], [35.0, 105.0], [50.75, 4.5], [35.0, 105.0], [35.68536, 139.75309], [37.54812, -77.44675], [22.54554, 114.0683], [39.9075, 116.39723], [50.75, 4.5], [42.66667, 25.25], [22.0, 79.0], [35.0, 105.0], [39.9075, 116.39723], [30.29365, 120.16142], [-34.90328, -56.18816], [49.24966, -123.11934], [41.14961, -8.61099], [35.0, 105.0], [43.00035, -75.4999], [59.32938, 18.06871], [43.00035, -75.4999], [25.03889, 102.71833], [39.9075, 116.39723], [46.0, 2.0], [-6.21462, 106.84513], [37.77493, -122.41942], [43.70643, -79.39864], [27.0, 30.0], [51.5, 10.5], [46.25024, -94.25055], [62.0, 15.0], [39.9075, 116.39723], [22.40694, -79.96472], [40.6501, -73.94958], [49.45421, 11.07752], [47.0, 20.0], [-27.46794, 153.02809], [48.13743, 11.57549], [37.77493, -122.41942], [36.5, 127.75], [52.09083, 5.12222], [39.76, -98.5], [22.27832, 114.17469], [12.97194, 77.59369], [41.01384, 28.94966], [52.52437, 13.41053], [25.03889, 102.71833], [52.37403, 4.88969], [-21.95093, -48.03582], [43.70643, -79.39864], [51.5, 10.5], [-25.0, 135.0], [51.50853, -0.12574], [46.0, 2.0], [52.52437, 13.41053], [31.30408, 120.59538], [48.85341, 2.3488], [6.0, 100.66667], [52.37403, 4.88969], [52.52437, 13.41053], [51.50853, -0.12574], [39.9075, 116.39723], [39.91691, 116.39706], [54.75844, -2.69531], [39.9075, 116.39723], [39.96118, -82.99879], [31.30408, 120.59538], [28.75054, -82.5001], [35.0, 105.0], [39.91691, 116.39706], [22.27832, 114.17469], [24.47979, 118.08187], [-6.92222, 107.60694], [51.9225, 4.47917], [35.0, 105.0], [39.0, 35.0], [22.0, 79.0], [48.85341, 2.3488], [1.28967, 103.85007], [40.6501, -73.94958], [52.52437, 13.41053], [37.25022, -119.75126], [37.77493, -122.41942], [42.83333, 12.83333], [35.68536, 139.75309], [51.5, 10.5], [-23.33333, -58.0], [37.25022, -119.75126], [39.95238, -75.16362], [39.00039, -76.74997], [39.76, -98.5], [31.22222, 121.45806], [35.0, 105.0], [41.85003, -87.65005], [50.75, 4.5], [36.5, 127.75], [39.9075, 116.39723], [39.76, -98.5], [35.0, 105.0], [32.06167, 118.77778], [43.00035, -75.4999], [-29.0, 24.0], [51.50853, -0.12574], [31.22222, 121.45806], [-33.86785, 151.20732], [49.0, 32.0], [47.50012, -120.50147], [40.0, -4.0], [37.25022, -119.75126], [15.5, 101.0], [60.10867, -113.64258], [36.16589, -86.78444], [62.0, 15.0], [28.53834, -81.37924], [49.26636, -122.95263], [30.29365, 120.16142], [50.06143, 19.93658], [-22.41139, -47.56139], [42.58031, -83.0302], [27.0, 30.0], [19.36667, -99.66667], [48.30639, 14.28611], [31.16667, 121.41667], [51.50853, -0.12574], [39.9075, 116.39723], [37.77493, -122.41942], [1.28967, 103.85007], [35.18147, 136.90641], [-23.5475, -46.63611], [22.0, 79.0], [-30.03283, -51.23019], [51.50853, -0.12574], [39.12711, -84.51439], [52.37403, 4.88969], [12.97194, 77.59369], [25.59408, 85.13563], [44.97997, -93.26384], [39.00039, -76.74997], [45.52345, -122.67621], [20.78785, -156.38612], [39.95238, -75.16362], [39.95238, -75.16362], [1.28967, 103.85007], [51.50853, -0.12574], [55.75222, 37.61556], [51.50853, -0.12574], [-78.15856, 16.40626], [37.98376, 23.72784], [-8.65, 115.21667], [45.52345, -122.67621], [51.22172, 6.77616], [37.25022, -119.75126], [-27.46794, 153.02809], [41.85003, -87.65005], [51.50853, -0.12574], [43.00035, -75.4999], [4.25, -74.18333], [39.0, 35.0], [37.77493, -122.41942], [23.11667, 113.25], [45.50032, -69.24977], [50.75, 4.5], [37.77493, -122.41942], [44.25029, -85.50033], [37.77493, -122.41942], [37.77493, -122.41942], [42.69751, 23.32415], [54.75844, -2.69531], [37.6, 127.25], [52.25, 5.75], [52.37403, 4.88969], [43.00035, -75.4999], [49.24966, -123.11934], [34.05223, -118.24368], [-34.92866, 138.59863], [45.81444, 15.97798], [35.0, 105.0], [39.9075, 116.39723], [39.9075, 116.39723], [34.05223, -118.24368], [37.25022, -119.75126], [37.77493, -122.41942], [30.26715, -97.74306], [12.97194, 77.59369], [39.9075, 116.39723], [28.62137, 77.2148], [62.0, 15.0], [46.0, 2.0], [52.52437, 13.41053], [34.0, 113.66667], [25.07725, 55.30927], [23.11667, 113.25], [37.38605, -122.08385], [32.72541, -97.32085], [41.01384, 28.94966], [40.16706, -74.49987], [37.80437, -122.2708], [54.75844, -2.69531], [31.22222, 121.45806], [37.77493, -122.41942], [52.25, 5.75], [36.16589, -86.78444], [51.50853, -0.12574], [-23.66389, -46.53833], [22.25, 114.16667], [60.16952, 24.93545], [47.60621, -122.33207], [35.6895, 139.69171], [22.54554, 114.0683], [41.4995, -81.69541], [37.77493, -122.41942], [39.9075, 116.39723], [40.6501, -73.94958], [1.28967, 103.85007], [-43.53333, 172.63333], [39.76, -98.5], [41.38879, 2.15899], [24.45118, 54.39696], [6.45407, 3.39467], [37.77493, -122.41942], [22.54554, 114.0683], [37.77493, -122.41942], [37.77493, -122.41942], [37.25022, -119.75126], [32.71571, -117.16472], [43.70643, -79.39864], [-36.84853, 174.76349], [51.5, 10.5], [37.77493, -122.41942], [51.50853, -0.12574], [62.0, 10.0], [41.4995, -81.69541], [47.41667, 8.66667], [60.0, 100.0], [30.29365, 120.16142], [35.0, 105.0], [37.77493, -122.41942], [49.24966, -123.11934], [40.8, -77.7], [47.65966, -117.42908], [16.16667, 107.83333], [39.9075, 116.39723], [30.29365, 120.16142], [43.00035, -75.4999], [34.00043, -81.00009], [39.76, -98.5], [54.75844, -2.69531], [47.60621, -122.33207], [39.25024, -111.75103], [-23.5475, -46.63611], [54.75844, -2.69531], [42.36565, -71.10832], [-10.0, -55.0], [54.75844, -2.69531], [47.60621, -122.33207], [28.62137, 77.2148], [53.55073, 9.99302], [47.00016, 8.01427], [35.6895, 139.69171], [36.16589, -86.78444], [22.54554, 114.0683], [40.25034, -83.00018], [39.8538, -80.22287], [37.77493, -122.41942], [37.87159, -122.27275], [37.77493, -122.41942], [39.76, -98.5], [11.0, -61.0], [37.25022, -119.75126], [46.0, 105.0], [51.5, 10.5], [48.20849, 16.37208], [52.37052, 9.73322], [-23.5475, -46.63611], [12.97194, 77.59369], [37.77493, -122.41942], [30.29365, 120.16142], [40.72816, -74.07764], [-33.86785, 151.20732], [37.77493, -122.41942], [10.16202, -68.00765], [40.0, -4.0], [30.29365, 120.16142], [30.29365, 120.16142], [46.0, 2.0], [48.13743, 11.57549], [40.0, -4.0], [52.37403, 4.88969], [55.67594, 12.56553], [35.0, 105.0], [40.6501, -73.94958], [39.9075, 116.39723], [39.9075, 116.39723], [43.07305, -89.40123], [37.77493, -122.41942], [22.0, 79.0], [13.08784, 80.27847], [47.50012, -120.50147], [25.39689, 68.37718], [39.95238, -75.16362], [40.51872, -74.4121], [1.28967, 103.85007], [30.29365, 120.16142], [37.25022, -119.75126], [39.91987, 32.85427], [51.51494, 7.466], [51.50853, -0.12574], [30.29365, 120.16142], [45.41117, -75.69812], [40.6501, -73.94958], [33.50921, -111.89903], [37.25022, -119.75126], [-23.5475, -46.63611], [38.91706, -77.00025], [24.47979, 118.08187], [37.77493, -122.41942], [-23.5475, -46.63611], [37.25022, -119.75126], [23.11667, 113.25], [45.46427, 9.18951], [54.75844, -2.69531], [51.50853, -0.12574], [37.38605, -122.08385], [62.0, 15.0], [37.77493, -122.41942], [31.5, 34.75], [36.16589, -86.78444], [43.07305, -89.40123], [39.76, -98.5], [44.43225, 26.10626], [51.50853, -0.12574], [52.52437, 13.41053], [35.0, 105.0], [35.6895, 139.69171], [52.37403, 4.88969], [39.52963, -119.8138], [22.54554, 114.0683], [40.78343, -73.96625], [42.35843, -71.05977], [38.25424, -85.75941], [42.35843, -71.05977], [42.35843, -71.05977], [52.25, 5.75], [22.0, 79.0], [42.36565, -71.10832], [-22.90556, -47.06083], [12.97194, 77.59369], [39.9075, 116.39723], [46.0, 2.0], [18.51957, 73.85535], [47.50012, -120.50147], [43.77925, 11.24626], [48.85341, 2.3488], [46.25024, -94.25055], [43.00035, -75.4999], [-23.5475, -46.63611], [52.52437, 13.41053], [47.60621, -122.33207], [54.75844, -2.69531], [43.00035, -75.4999], [60.10867, -113.64258], [22.54554, 114.0683], [40.0, -4.0], [39.9075, 116.39723], [37.77493, -122.41942], [52.25, 5.75], [40.00032, -86.25027], [59.32938, 18.06871], [51.50853, -0.12574], [1.28967, 103.85007], [31.92157, 35.20329], [30.29365, 120.16142], [43.70643, -79.39864], [39.91987, 32.85427], [1.28967, 103.85007], [54.75844, -2.69531], [37.566, 126.9784], [-10.0, -55.0], [39.76, -98.5], [44.00034, -72.74983], [32.06167, 118.77778], [30.29365, 120.16142], [37.77493, -122.41942], [22.54554, 114.0683], [47.00016, 8.01427], [56.0, 10.0], [-5.0, 120.0], [-23.5475, -46.63611], [35.0, 105.0], [39.56939, 2.65024], [23.11667, 113.25], [22.54554, 114.0683], [35.6895, 139.69171], [22.54554, 114.0683], [60.10867, -113.64258], [39.76, -98.5], [35.6895, 139.69171], [31.16667, 121.41667], [36.5, 127.75], [51.50853, -0.12574], [15.33333, 74.08333], [44.80401, 20.46513], [39.91691, 116.39706], [38.08, 46.2919], [9.0, 39.5], [39.9075, 116.39723], [42.36565, -71.10832], [-33.86785, 151.20732], [55.95206, -3.19648], [22.26382, 113.96038], [23.75, 54.5], [60.2052, 24.6522], [37.25022, -119.75126], [42.75508, -7.86621], [38.25031, -92.50046], [31.22222, 121.45806], [43.00035, -75.4999], [23.0, 71.75], [28.0, 3.0], [-10.0, -55.0], [37.77493, -122.41942], [47.36667, 8.55], [25.04776, 121.53185], [39.6945, -8.13057], [31.30408, 120.59538], [47.60621, -122.33207], [22.54554, 114.0683], [-34.5, -68.5], [31.22222, 121.45806], [35.0, 105.0], [31.22222, 121.45806], [37.25022, -119.75126], [41.66704, -72.66648], [49.24966, -123.11934], [37.25022, -119.75126], [30.29365, 120.16142], [37.25022, -119.75126], [51.5, 10.5], [-6.92222, 107.60694], [-12.97563, -38.49096], [39.76, -98.5], [30.66667, 104.06667], [-22.0, -49.0], [30.29365, 120.16142], [44.00013, -120.50139], [49.25014, -84.49983], [-22.0, -49.0], [39.9075, 116.39723], [52.25, 5.75], [39.0, 22.0], [22.54554, 114.0683], [52.25, 5.75], [37.77493, -122.41942], [42.35843, -71.05977], [1.28967, 103.85007], [-30.0, 135.0], [35.18147, 136.90641], [43.70643, -79.39864], [16.16667, 107.83333], [30.29365, 120.16142], [29.16667, 120.0], [37.77493, -122.41942], [23.5, 113.25], [39.6945, -8.13057], [48.20849, 16.37208], [11.56245, 104.91601], [28.0, 3.0], [-10.0, -55.0], [43.00035, -75.4999], [37.566, 126.9784], [34.05223, -118.24368], [51.5, 10.5], [30.26715, -97.74306], [32.08088, 34.78057], [51.5, 10.5], [37.77493, -122.41942], [4.53389, -75.68111], [-25.0, 135.0], [39.00027, -105.50083], [38.91706, -77.00025], [47.60621, -122.33207], [48.13743, 11.57549], [52.52437, 13.41053], [50.75, 4.5], [30.29365, 120.16142], [38.58157, -121.4944], [37.25022, -119.75126], [50.75, 4.5], [51.5, 10.5], [32.71571, -117.16472], [37.77493, -122.41942], [37.77493, -122.41942], [-10.0, -55.0], [40.00032, -86.25027], [2.5, 112.5], [48.13743, 11.57549], [45.74846, 4.84671], [30.29365, 120.16142], [37.77493, -122.41942], [52.37403, 4.88969], [37.25022, -119.75126], [45.52345, -122.67621], [31.25044, -99.25061], [30.26715, -97.74306], [1.58333, 10.5], [15.5, 101.0], [54.75844, -2.69531], [54.75844, -2.69531], [25.04776, 121.53185], [22.54554, 114.0683], [23.11667, 113.25], [-25.0, 135.0], [30.29365, 120.16142], [35.0, 105.0], [37.25022, -119.75126], [35.0, 105.0], [30.26715, -97.74306], [35.0, 105.0], [60.10867, -113.64258], [-42.0, 174.0], [40.44062, -79.99589], [34.05223, -118.24368], [37.77493, -122.41942], [39.9075, 116.39723], [47.36667, 8.55], [30.29365, 120.16142], [22.0, 79.0], [52.07667, 4.29861], [51.50853, -0.12574], [39.76, -98.5], [29.56026, 106.55771], [40.00032, -86.25027], [-23.5475, -46.63611], [37.33939, -121.89496], [37.25022, -119.75126], [51.50853, -0.12574], [37.77493, -122.41942], [49.25014, -84.49983], [1.28967, 103.85007], [48.85341, 2.3488], [51.50853, -0.12574], [37.44188, -122.14302], [22.54554, 114.0683], [50.77664, 6.08342], [51.5, 10.5], [43.00035, -75.4999], [39.76, -98.5], [39.9075, 116.39723], [-12.97563, -38.49096], [22.91667, 91.5], [-41.28664, 174.77557], [33.749, -84.38798], [37.98376, 23.72784], [55.67594, 12.56553], [22.0, 79.0], [55.75222, 37.61556], [22.54554, 114.0683], [45.52345, -122.67621], [39.76, -98.5], [40.4165, -3.70256], [-5.0, 120.0], [38.89511, -77.03637], [30.29365, 120.16142], [39.76, -98.5], [35.6895, 139.69171], [39.9075, 116.39723], [30.26715, -97.74306], [22.54554, 114.0683], [51.1, 17.03333], [43.25, 76.91667], [40.71427, -74.00597], [41.38879, 2.15899], [62.0, 15.0], [48.85341, 2.3488], [35.6895, 139.69171], [51.5, 10.5], [39.9075, 116.39723], [43.70643, -79.39864], [48.85341, 2.3488], [32.71571, -117.16472], [46.0, 2.0], [9.05785, 7.49508], [39.00027, -105.50083], [30.29365, 120.16142], [62.0, 15.0], [43.00035, -75.4999], [43.0389, -87.90647], [34.0, 9.0], [-23.5475, -46.63611], [53.99983, -125.0032], [31.5, 34.75], [52.09083, 5.12222], [48.85341, 2.3488], [60.10867, -113.64258], [37.77493, -122.41942], [39.76, -98.5], [6.66667, 2.25], [32.71571, -117.16472], [52.52437, 13.41053], [64.0, 26.0], [42.35843, -71.05977], [29.76328, -95.36327], [49.24966, -123.11934], [-3.71722, -38.54306], [33.749, -84.38798], [43.00035, -75.4999], [37.25022, -119.75126], [59.91273, 10.74609], [41.01384, 28.94966], [39.76, -98.5], [22.27832, 114.17469], [42.36565, -71.10832], [48.69096, 9.14062], [41.89193, 12.51133], [30.29365, 120.16142], [46.0, 2.0], [22.0, 79.0], [37.77493, -122.41942], [39.73915, -104.9847], [37.77493, -122.41942], [35.0, 105.0], [52.52437, 13.41053], [52.37403, 4.88969], [13.55, -87.9], [39.76, -98.5], [43.60426, 1.44367], [39.9075, 116.39723], [39.9075, 116.39723], [45.52345, -122.67621], [31.20176, 29.91582], [40.71427, -74.00597], [35.68536, 139.75309], [54.75844, -2.69531], [38.71667, -9.13333], [37.25022, -119.75126], [37.77493, -122.41942], [35.6895, 139.69171], [37.25022, -119.75126], [51.50853, -0.12574], [41.75038, -71.49978], [52.37403, 4.88969], [30.26715, -97.74306], [49.25014, -84.49983], [43.00035, -75.4999], [41.85003, -87.65005], [39.12711, -84.51439], [52.22977, 21.01178], [40.00032, -86.25027], [39.9075, 116.39723], [35.68536, 139.75309], [62.0, 15.0], [37.38283, -5.97317], [51.50853, -0.12574], [52.25, 5.75], [37.25022, -119.75126], [-10.0, -75.25], [37.77493, -122.41942], [-7.25, -42.33333], [43.42537, -80.5112], [55.67594, 12.56553], [39.9075, 116.39723], [16.16667, 107.83333], [46.0, 2.0], [32.06167, 118.77778], [31.30408, 120.59538], [60.0, 100.0], [-12.0, -42.0], [31.22222, 121.45806], [15.5, 101.0], [51.50853, -0.12574], [16.16667, 107.83333], [22.40694, -79.96472], [-10.0, -55.0], [52.52437, 13.41053], [-10.0, -55.0], [37.25022, -119.75126], [56.0, 10.0], [51.5, 10.5], [30.29365, 120.16142], [51.5, 10.5], [22.54554, 114.0683], [37.25022, -119.75126], [-10.0, -55.0], [47.60621, -122.33207], [35.0, 105.0], [37.77493, -122.41942], [37.33939, -121.89496], [39.00027, -105.50083], [22.54554, 114.0683], [60.10867, -113.64258], [54.75844, -2.69531], [31.5, 34.75], [47.33333, 13.33333], [39.91691, 116.39706], [54.75844, -2.69531], [43.70643, -79.39864], [35.6895, 139.69171], [39.9075, 116.39723], [-10.0, -55.0], [50.11552, 8.68417], [45.52345, -122.67621], [-23.17944, -45.88694], [37.25022, -119.75126], [47.41667, 8.66667], [59.91273, 10.74609], [44.5002, -114.25118], [41.38879, 2.15899], [39.76, -98.5], [-10.0, -55.0], [-33.86785, 151.20732], [37.25022, -119.75126], [37.87159, -122.27275], [40.6501, -73.94958], [38.62727, -90.19789], [54.75844, -2.69531], [1.28967, 103.85007], [54.75844, -2.69531], [62.0, 10.0], [22.0, 79.0], [51.50853, -0.12574], [32.06167, 118.77778], [30.66667, 104.06667], [51.5, 10.5], [14.18368, 121.28554], [-6.21462, 106.84513], [52.52437, 13.41053], [36.16589, -86.78444], [-23.42528, -51.93861], [35.6895, 139.69171], [51.50853, -0.12574], [39.00027, -105.50083], [37.98704, -1.13004], [52.00017, -71.99907], [-23.5475, -46.63611], [30.29365, 120.16142], [44.50026, -100.25069], [-23.5475, -46.63611], [33.749, -84.38798], [35.0, 105.0], [17.99702, -76.79358], [22.0, 79.0], [45.41117, -75.69812], [30.29365, 120.16142], [32.0, 53.0], [62.0, 15.0], [53.48095, -2.23743], [-10.0, -55.0], [41.38879, 2.15899], [39.9075, 116.39723], [51.5, 10.5], [39.9075, 116.39723], [39.76, -98.5], [43.70643, -79.39864], [53.33306, -6.24889], [23.7104, 90.40744], [30.29365, 120.16142], [37.25022, -119.75126], [37.25022, -119.75126], [43.07305, -89.40123], [47.60621, -122.33207], [30.29365, 120.16142], [28.53834, -81.37924], [23.5, 113.25], [40.00032, -86.25027], [47.00016, 8.01427], [43.70643, -79.39864], [42.83333, 12.83333], [39.9075, 116.39723], [-34.92866, 138.59863], [50.08804, 14.42076], [40.71427, -74.00597], [43.07305, -89.40123], [40.00032, -86.25027], [12.97194, 77.59369], [39.9075, 116.39723], [12.97194, 77.59369], [39.76, -98.5], [32.75042, -83.50018], [-1.94995, 30.05885], [39.14222, 117.17667], [-5.0, 120.0], [45.50884, -73.58781], [23.7104, 90.40744], [10.41667, 76.5], [39.9075, 116.39723], [39.76, -98.5], [62.0, 10.0], [39.0, 115.66667], [43.53573, -5.66152], [35.50069, -80.00032], [30.29365, 120.16142], [51.50853, -0.12574], [37.25022, -119.75126], [22.54554, 114.0683], [39.9075, 116.39723], [41.01384, 28.94966], [44.84044, -0.5805], [37.33939, -121.89496], [-23.5475, -46.63611], [51.96236, 7.62571], [45.50884, -73.58781], [35.0, 105.0], [37.77493, -122.41942], [49.00937, 8.40444], [10.0, 8.0], [1.28967, 103.85007], [43.00035, -75.4999], [-21.79444, -48.17556], [30.08333, 107.83333], [-20.31944, -40.33778], [-23.52917, -47.13528], [60.10867, -113.64258], [39.9075, 116.39723], [47.60621, -122.33207], [42.83333, 12.83333], [60.0, 100.0], [22.0, 79.0], [12.97194, 77.59369], [39.25024, -111.75103], [39.76, -98.5], [-30.0, -71.0], [22.54554, 114.0683], [45.74846, 4.84671], [60.10867, -113.64258], [44.00034, -72.74983], [43.00035, -75.4999], [23.11667, 113.25], [23.11667, 113.25], [39.0, 35.0], [23.7104, 90.40744], [10.0, 8.0], [37.77493, -122.41942], [37.25022, -119.75126], [22.56263, 88.36304], [-33.86785, 151.20732], [-30.03283, -51.23019], [-23.50167, -47.45806], [37.25022, -119.75126], [51.45523, -2.59665], [30.29365, 120.16142], [39.76, -98.5], [-37.814, 144.96332], [42.36565, -71.10832], [34.05223, -118.24368], [35.0, 105.0], [35.6895, 139.69171], [37.25022, -119.75126], [54.75844, -2.69531], [42.35843, -71.05977], [-37.814, 144.96332], [41.38879, 2.15899], [40.71427, -74.00597], [39.9075, 116.39723], [48.52266, 9.05222], [44.81892, 20.45998], [39.9075, 116.39723], [29.76328, -95.36327], [37.566, 126.9784], [54.75844, -2.69531], [60.0, 100.0], [-10.0, -55.0], [47.60621, -122.33207], [54.75844, -2.69531], [51.50853, -0.12574], [1.28967, 103.85007], [52.22977, 21.01178], [47.60621, -122.33207], [59.91273, 10.74609], [22.0, 79.0], [-25.42778, -49.27306], [31.22222, 121.45806], [31.22222, 121.45806], [39.9075, 116.39723], [42.36565, -71.10832], [49.25014, -84.49983], [1.28967, 103.85007], [56.0, 10.0], [52.52437, 13.41053], [49.24966, -123.11934], [43.00035, -75.4999], [37.77493, -122.41942], [-31.64881, -60.70868], [39.9075, 116.39723], [45.52345, -122.67621], [47.49835, 19.04045], [31.86389, 117.28083], [37.25022, -119.75126], [30.26715, -97.74306], [37.77493, -122.41942], [32.08088, 34.78057], [-25.0, 135.0], [28.53834, -81.37924], [40.4165, -3.70256], [35.0, 105.0], [28.53834, -81.37924], [25.39689, 68.37718], [37.566, 126.9784], [24.15114, 120.70541], [52.52437, 13.41053], [31.25044, -99.25061], [5.55602, -0.1969], [25.04776, 121.53185], [-23.5475, -46.63611], [39.76, -98.5], [39.9075, 116.39723], [35.0, 105.0], [24.98473, 121.78432], [39.9075, 116.39723], [43.00035, -75.4999], [35.0, 105.0], [54.75844, -2.69531], [51.5, 10.5], [48.85341, 2.3488], [7.75, 80.75], [25.03889, 102.71833], [25.04776, 121.53185], [39.73915, -104.9847], [35.6895, 139.69171], [37.25022, -119.75126], [52.25, 5.75], [30.26715, -97.74306], [48.69096, 9.14062], [41.4995, -81.69541], [55.75222, 37.61556], [35.0, 105.0], [37.77493, -122.41942], [39.9075, 116.39723], [40.4165, -3.70256], [33.749, -84.38798], [2.5, 112.5], [-19.93167, -44.05361], [35.68536, 139.75309], [40.00032, -86.25027], [29.42412, -98.49363], [43.00035, -75.4999], [37.77493, -122.41942], [52.16045, -0.70312], [30.29365, 120.16142], [34.05223, -118.24368], [-37.814, 144.96332], [25.0, 89.0], [23.5, 113.25], [22.54554, 114.0683], [52.52437, 13.41053], [22.26382, 113.96038], [51.50853, -0.12574], [44.00013, -120.50139], [39.0, 22.0], [39.76, -98.5], [54.75844, -2.69531], [39.9075, 116.39723], [29.25, 76.33333], [30.29365, 120.16142], [37.25022, -119.75126], [41.38879, 2.15899], [25.39689, 68.37718], [37.25022, -119.75126], [39.76, -98.5], [19.99727, 73.79096], [37.25022, -119.75126], [52.37403, 4.88969], [60.2052, 24.6522], [37.25022, -119.75126], [24.15114, 120.70541], [37.25022, -119.75126], [55.0415, 82.9346], [31.86389, 117.28083], [52.52437, 13.41053], [36.5, 127.75], [31.22222, 121.45806], [39.00027, -105.50083], [37.25022, -119.75126], [-10.0, -55.0], [55.75222, 37.61556], [37.6, 127.25], [-23.5475, -46.63611], [48.85341, 2.3488], [59.43696, 24.75353], [30.29365, 120.16142], [-19.92083, -43.93778], [39.9075, 116.39723], [45.41117, -75.69812], [37.25022, -119.75126], [-37.814, 144.96332], [47.60621, -122.33207], [32.08088, 34.78057], [51.5, 10.5], [54.75844, -2.69531], [47.0, 20.0], [36.73225, 3.08746], [45.50884, -73.58781], [39.76, -98.5], [54.75844, -2.69531], [37.25022, -119.75126], [37.77493, -122.41942], [22.54554, 114.0683], [40.71427, -74.00597], [31.22222, 121.45806], [54.75844, -2.69531], [46.0, 2.0], [39.14222, 117.17667], [51.48, -3.18], [52.09083, 5.12222], [-37.814, 144.96332], [22.0, 79.0], [35.0, 105.0], [39.76, -98.5], [45.50032, -69.24977], [43.00035, -75.4999], [36.06488, 120.38042], [22.0, 79.0], [37.77493, -122.41942], [22.80979, 89.56439], [35.6895, 139.69171], [52.00017, -71.99907], [35.68536, 139.75309], [59.32938, 18.06871], [34.73333, 136.51667], [51.05011, -114.08529], [30.29365, 120.16142], [40.00032, -89.25037], [-1.25, -78.25], [47.60621, -122.33207], [22.0, 79.0], [48.85341, 2.3488], [39.76, -98.5], [48.66667, 19.5], [37.77493, -122.41942], [31.22222, 121.45806], [38.62727, -90.19789], [42.36565, -71.10832], [37.77493, -122.41942], [28.62137, 77.2148], [50.85045, 4.34878], [6.45407, 3.39467], [41.66704, -72.66648], [53.33306, -6.24889], [51.50853, -0.12574], [48.85341, 2.3488], [35.0, 105.0], [39.866, -74.25003], [19.07283, 72.88261], [-10.0, -55.0], [25.77427, -80.19366], [51.50853, -0.12574], [62.0, 15.0], [27.94752, -82.45843], [30.58333, 114.26667], [37.77493, -122.41942], [23.11667, 113.25], [46.0, 2.0], [12.97194, 77.59369], [42.36565, -71.10832], [22.54554, 114.0683], [52.09083, 5.12222], [26.06139, 119.30611], [28.62137, 77.2148], [35.0, 105.0], [37.77493, -122.41942], [33.44838, -112.07404]],\n",
       "                {&quot;blur&quot;: 15, &quot;maxZoom&quot;: 18, &quot;minOpacity&quot;: 0.5, &quot;radius&quot;: 25}\n",
       "            );\n",
       "        \n",
       "    \n",
       "            heat_map_7ca7a6cbcf90e32d63a5b354b8c3e6c0.addTo(map_d8f3b8cd669d59a2dd30d797b6ad43f8);\n",
       "        \n",
       "&lt;/script&gt;\n",
       "&lt;/html&gt;\" style=\"position:absolute;width:100%;height:100%;left:0;top:0;border:none !important;\" allowfullscreen webkitallowfullscreen mozallowfullscreen></iframe></div></div>"
      ]
     },
     "execution_count": 60,
     "metadata": {},
     "output_type": "execute_result"
    }
   ],
   "execution_count": 60
  },
  {
   "metadata": {},
   "cell_type": "markdown",
   "source": "### User Accounts",
   "id": "c64aed018845f861"
  },
  {
   "metadata": {
    "ExecuteTime": {
     "end_time": "2024-07-16T15:25:35.193066Z",
     "start_time": "2024-07-16T15:25:25.483910Z"
    }
   },
   "cell_type": "code",
   "source": [
    "user_locations = gc.decode_parallel(users[\"location\"].to_list()) # Geocode locations for user accounts\n",
    "user_locations = [location[0] for location in user_locations if location] # Get the first match for each location\n",
    "user_locations = pd.DataFrame(user_locations) # Convert locations into dataframe"
   ],
   "id": "657d4f6052095175",
   "outputs": [
    {
     "name": "stderr",
     "output_type": "stream",
     "text": [
      "2024-07-16 17:25:25,491 [INFO ] [geocode.geoc]: Running decode in parallel with 7 cores\n",
      "100%|██████████| 7/7 [00:00<00:00, 1671.61it/s]\n"
     ]
    }
   ],
   "execution_count": 61
  },
  {
   "metadata": {
    "ExecuteTime": {
     "end_time": "2024-07-16T15:25:35.227412Z",
     "start_time": "2024-07-16T15:25:35.194062Z"
    }
   },
   "cell_type": "code",
   "source": "user_locations[\"country_code\"].value_counts()",
   "id": "e2b873413db8388b",
   "outputs": [
    {
     "data": {
      "text/plain": [
       "country_code\n",
       "US    979\n",
       "CN    536\n",
       "GB    173\n",
       "DE    143\n",
       "BR    141\n",
       "     ... \n",
       "CL      1\n",
       "GH      1\n",
       "EE      1\n",
       "EC      1\n",
       "SK      1\n",
       "Name: count, Length: 107, dtype: int64"
      ]
     },
     "execution_count": 62,
     "metadata": {},
     "output_type": "execute_result"
    }
   ],
   "execution_count": 62
  },
  {
   "metadata": {
    "ExecuteTime": {
     "end_time": "2024-07-16T15:25:36.168932Z",
     "start_time": "2024-07-16T15:25:35.231388Z"
    }
   },
   "cell_type": "code",
   "source": [
    "ax = user_locations[\"country_code\"].value_counts().nlargest(15).plot.barh()\n",
    "ax.set_xlabel(\"Users\")\n",
    "ax.set_ylabel(\"Country\")\n",
    "ax.bar_label(ax.containers[0], padding=5)\n",
    "ax.set_xlim(right=ax.get_xlim()[1] * 1.1)\n",
    "ax.invert_yaxis()"
   ],
   "id": "16b40ce24dbbc5e4",
   "outputs": [
    {
     "data": {
      "text/plain": [
       "<Figure size 640x480 with 1 Axes>"
      ],
      "image/png": "[encoded data removed]"
     },
     "metadata": {},
     "output_type": "display_data"
    }
   ],
   "execution_count": 63
  },
  {
   "metadata": {},
   "cell_type": "markdown",
   "source": "We can see that a list of countries with the most user accounts is also very similar. ",
   "id": "1da78e28927e979c"
  },
  {
   "metadata": {},
   "cell_type": "markdown",
   "source": "### Organization Accounts",
   "id": "e0d1fd89e7c6dc37"
  },
  {
   "metadata": {
    "ExecuteTime": {
     "end_time": "2024-07-16T15:25:42.906385Z",
     "start_time": "2024-07-16T15:25:36.182484Z"
    }
   },
   "cell_type": "code",
   "source": [
    "organization_locations = gc.decode_parallel(organizations[\"location\"].to_list()) # Geocode locations for organization accounts\n",
    "organization_locations = [location[0] for location in organization_locations if location] # Get the first match for each location\n",
    "organization_locations = pd.DataFrame(organization_locations) # Convert locations into dataframe"
   ],
   "id": "ae72eba27a204435",
   "outputs": [
    {
     "name": "stderr",
     "output_type": "stream",
     "text": [
      "2024-07-16 17:25:36,193 [INFO ] [geocode.geoc]: Running decode in parallel with 7 cores\n",
      "100%|██████████| 7/7 [00:00<00:00, 1437.67it/s]\n"
     ]
    }
   ],
   "execution_count": 64
  },
  {
   "metadata": {
    "ExecuteTime": {
     "end_time": "2024-07-16T15:25:42.950439Z",
     "start_time": "2024-07-16T15:25:42.909477Z"
    }
   },
   "cell_type": "code",
   "source": "organization_locations[\"country_code\"].value_counts()",
   "id": "8599b035e970aeb1",
   "outputs": [
    {
     "data": {
      "text/plain": [
       "country_code\n",
       "US    141\n",
       "CN     25\n",
       "GB     15\n",
       "DE     11\n",
       "BR     10\n",
       "CH      9\n",
       "ES      5\n",
       "CA      4\n",
       "IN      4\n",
       "HK      4\n",
       "SE      4\n",
       "FR      3\n",
       "SG      3\n",
       "AU      3\n",
       "NL      3\n",
       "KY      2\n",
       "CU      2\n",
       "JP      2\n",
       "CZ      2\n",
       "BE      2\n",
       "DK      1\n",
       "SK      1\n",
       "GR      1\n",
       "NO      1\n",
       "PL      1\n",
       "CY      1\n",
       "UA      1\n",
       "LV      1\n",
       "AE      1\n",
       "KR      1\n",
       "ID      1\n",
       "AR      1\n",
       "RU      1\n",
       "BJ      1\n",
       "FI      1\n",
       "SV      1\n",
       "TR      1\n",
       "Name: count, dtype: int64"
      ]
     },
     "execution_count": 65,
     "metadata": {},
     "output_type": "execute_result"
    }
   ],
   "execution_count": 65
  },
  {
   "metadata": {
    "ExecuteTime": {
     "end_time": "2024-07-16T15:25:43.689748Z",
     "start_time": "2024-07-16T15:25:42.953475Z"
    }
   },
   "cell_type": "code",
   "source": [
    "ax = organization_locations[\"country_code\"].value_counts().nlargest(15).plot.barh()\n",
    "ax.set_xlabel(\"Organizations\")\n",
    "ax.set_ylabel(\"Country\")\n",
    "ax.bar_label(ax.containers[0], padding=5)\n",
    "ax.set_xlim(right=ax.get_xlim()[1] * 1.1)\n",
    "ax.invert_yaxis()"
   ],
   "id": "d7b3948b5efcad2d",
   "outputs": [
    {
     "data": {
      "text/plain": [
       "<Figure size 640x480 with 1 Axes>"
      ],
      "image/png": "[encoded data removed]"
     },
     "metadata": {},
     "output_type": "display_data"
    }
   ],
   "execution_count": 66
  },
  {
   "metadata": {},
   "cell_type": "markdown",
   "source": "The same is also true for the organization accounts.",
   "id": "2413f8b6eda61505"
  },
  {
   "metadata": {
    "ExecuteTime": {
     "end_time": "2024-07-16T15:25:43.699830Z",
     "start_time": "2024-07-16T15:25:43.689748Z"
    }
   },
   "cell_type": "code",
   "source": "# TODO: Relationship between counts",
   "id": "352a8bfd22f3fbd8",
   "outputs": [],
   "execution_count": 67
  }
 ],
 "metadata": {
  "kernelspec": {
   "display_name": "Python 3",
   "language": "python",
   "name": "python3"
  },
  "language_info": {
   "codemirror_mode": {
    "name": "ipython",
    "version": 2
   },
   "file_extension": ".py",
   "mimetype": "text/x-python",
   "name": "python",
   "nbconvert_exporter": "python",
   "pygments_lexer": "ipython2",
   "version": "2.7.6"
  }
 },
 "nbformat": 4,
 "nbformat_minor": 5
}
